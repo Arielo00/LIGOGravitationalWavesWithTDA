{
 "cells": [
  {
   "cell_type": "markdown",
   "metadata": {},
   "source": [
    "# Using giotto-tda for persistent homology\n",
    "\n",
    "First lets write a function to create nice data ;)"
   ]
  },
  {
   "cell_type": "code",
   "execution_count": 1,
   "metadata": {},
   "outputs": [
    {
     "name": "stdout",
     "output_type": "stream",
     "text": [
      "There are 30 point clouds in 3 dimensions, each with 100 points.\n"
     ]
    }
   ],
   "source": [
    "import numpy as np\n",
    "def make_point_clouds(n_samples_per_shape: int, n_points: int, noise: float):\n",
    "    \"\"\"Make point clouds for circles, spheres, and tori with random noise.\n",
    "    \"\"\"\n",
    "    circle_point_clouds = [\n",
    "        np.asarray(\n",
    "            [\n",
    "                [np.sin(t) + noise * (np.random.rand(1)[0] - 0.5), np.cos(t) + noise * (np.random.rand(1)[0] - 0.5), 0]\n",
    "                for t in range((n_points ** 2))\n",
    "            ]\n",
    "        )\n",
    "        for kk in range(n_samples_per_shape)\n",
    "    ]\n",
    "    # label circles with 0\n",
    "    circle_labels = np.zeros(n_samples_per_shape)\n",
    "\n",
    "    sphere_point_clouds = [\n",
    "        np.asarray(\n",
    "            [\n",
    "                [\n",
    "                    np.cos(s) * np.cos(t) + noise * (np.random.rand(1)[0] - 0.5),\n",
    "                    np.cos(s) * np.sin(t) + noise * (np.random.rand(1)[0] - 0.5),\n",
    "                    np.sin(s) + noise * (np.random.rand(1)[0] - 0.5),\n",
    "                ]\n",
    "                for t in range(n_points)\n",
    "                for s in range(n_points)\n",
    "            ]\n",
    "        )\n",
    "        for kk in range(n_samples_per_shape)\n",
    "    ]\n",
    "    # label spheres with 1\n",
    "    sphere_labels = np.ones(n_samples_per_shape)\n",
    "\n",
    "    torus_point_clouds = [\n",
    "        np.asarray(\n",
    "            [\n",
    "                [\n",
    "                    (2 + np.cos(s)) * np.cos(t) + noise * (np.random.rand(1)[0] - 0.5),\n",
    "                    (2 + np.cos(s)) * np.sin(t) + noise * (np.random.rand(1)[0] - 0.5),\n",
    "                    np.sin(s) + noise * (np.random.rand(1)[0] - 0.5),\n",
    "                ]\n",
    "                for t in range(n_points)\n",
    "                for s in range(n_points)\n",
    "            ]\n",
    "        )\n",
    "        for kk in range(n_samples_per_shape)\n",
    "    ]\n",
    "    # label tori with 2\n",
    "    torus_labels = 2 * np.ones(n_samples_per_shape)\n",
    "\n",
    "    point_clouds = np.concatenate((circle_point_clouds, sphere_point_clouds, torus_point_clouds))\n",
    "    labels = np.concatenate((circle_labels, sphere_labels, torus_labels))\n",
    "\n",
    "    return point_clouds, labels\n",
    "\n",
    "\n",
    "# esferas y toros ;)\n",
    "n_samples_per_class = 10\n",
    "point_clouds, labels = make_point_clouds(n_samples_per_class, 10, 0.1)\n",
    "point_clouds.shape\n",
    "print(f\"There are {point_clouds.shape[0]} point clouds in {point_clouds.shape[2]} dimensions, \"\n",
    "      f\"each with {point_clouds.shape[1]} points.\")"
   ]
  },
  {
   "cell_type": "markdown",
   "metadata": {},
   "source": [
    "# Calculate persistent homology"
   ]
  },
  {
   "cell_type": "code",
   "execution_count": 2,
   "metadata": {},
   "outputs": [
    {
     "data": {
      "application/vnd.plotly.v1+json": {
       "config": {
        "plotlyServerURL": "https://plot.ly"
       },
       "data": [
        {
         "hoverinfo": "none",
         "line": {
          "color": "black",
          "dash": "dash",
          "width": 1
         },
         "mode": "lines",
         "showlegend": false,
         "type": "scatter",
         "x": [
          -0.0351322603225708,
          1.7917452764511108
         ],
         "y": [
          -0.0351322603225708,
          1.7917452764511108
         ]
        },
        {
         "hoverinfo": "text",
         "hovertext": [
          "(0.0, 0.005574815906584263)",
          "(0.0, 0.009151269681751728)",
          "(0.0, 0.010072555392980576)",
          "(0.0, 0.0168339591473341)",
          "(0.0, 0.01823783665895462)",
          "(0.0, 0.018395600840449333)",
          "(0.0, 0.020487427711486816)",
          "(0.0, 0.020505031570792198)",
          "(0.0, 0.023956751450896263)",
          "(0.0, 0.024537693709135056)",
          "(0.0, 0.027304287999868393)",
          "(0.0, 0.028664523735642433)",
          "(0.0, 0.029454804956912994)",
          "(0.0, 0.030956048518419266)",
          "(0.0, 0.03143932670354843)",
          "(0.0, 0.03501356765627861)",
          "(0.0, 0.035864267498254776)",
          "(0.0, 0.03665759786963463)",
          "(0.0, 0.037466444075107574)",
          "(0.0, 0.038458168506622314)",
          "(0.0, 0.038982875645160675)",
          "(0.0, 0.03904495760798454)",
          "(0.0, 0.03921348601579666)",
          "(0.0, 0.03974997252225876)",
          "(0.0, 0.04068528860807419)",
          "(0.0, 0.04190979525446892)",
          "(0.0, 0.041999999433755875)",
          "(0.0, 0.0428641103208065)",
          "(0.0, 0.04414930194616318)",
          "(0.0, 0.044307272881269455)",
          "(0.0, 0.04458977282047272)",
          "(0.0, 0.0460975356400013)",
          "(0.0, 0.04660334065556526)",
          "(0.0, 0.04689299315214157)",
          "(0.0, 0.048177290707826614)",
          "(0.0, 0.05123386159539223)",
          "(0.0, 0.0557425282895565)",
          "(0.0, 0.056172750890254974)",
          "(0.0, 0.05631699413061142)",
          "(0.0, 0.05807618051767349)",
          "(0.0, 0.05831422656774521)",
          "(0.0, 0.05997761711478233)",
          "(0.0, 0.06048639491200447)",
          "(0.0, 0.06122100353240967)",
          "(0.0, 0.06235484406352043)",
          "(0.0, 0.06447684019804001)",
          "(0.0, 0.067551389336586)",
          "(0.0, 0.06767464429140091)",
          "(0.0, 0.0706578865647316)",
          "(0.0, 0.07432971149682999)",
          "(0.0, 0.07435779273509979)",
          "(0.0, 0.07494247704744339)",
          "(0.0, 0.07497431337833405)",
          "(0.0, 0.07525290548801422)",
          "(0.0, 0.07552231103181839)",
          "(0.0, 0.07753244787454605)",
          "(0.0, 0.07988721877336502)",
          "(0.0, 0.0812285766005516)",
          "(0.0, 0.08181179314851761)",
          "(0.0, 0.08310425281524658)",
          "(0.0, 0.08330729603767395)",
          "(0.0, 0.08335431665182114)",
          "(0.0, 0.08376801013946533)",
          "(0.0, 0.08490784466266632)",
          "(0.0, 0.0860833153128624)",
          "(0.0, 0.0873408317565918)",
          "(0.0, 0.08825255185365677)",
          "(0.0, 0.08829818665981293)",
          "(0.0, 0.08894787728786469)",
          "(0.0, 0.08977122604846954)",
          "(0.0, 0.09023793041706085)",
          "(0.0, 0.09256938844919205)",
          "(0.0, 0.09673979133367538)",
          "(0.0, 0.09868284314870834)",
          "(0.0, 0.0988420695066452)",
          "(0.0, 0.09923643618822098)",
          "(0.0, 0.0997505635023117)",
          "(0.0, 0.10570859909057617)",
          "(0.0, 0.10909587889909744)",
          "(0.0, 0.10914117097854614)",
          "(0.0, 0.11590943485498428)",
          "(0.0, 0.11646275967359543)",
          "(0.0, 0.11813894659280777)",
          "(0.0, 0.12009195238351822)",
          "(0.0, 0.12368585169315338)",
          "(0.0, 0.12498403340578079)",
          "(0.0, 0.12745866179466248)",
          "(0.0, 0.1288713961839676)",
          "(0.0, 0.13093414902687073)",
          "(0.0, 0.13257421553134918)",
          "(0.0, 0.13336224853992462)",
          "(0.0, 0.13352446258068085)",
          "(0.0, 0.13959631323814392)",
          "(0.0, 0.14145837724208832)",
          "(0.0, 0.14500947296619415)",
          "(0.0, 0.1514217108488083)",
          "(0.0, 0.17262007296085358)",
          "(0.0, 0.1827554702758789)",
          "(0.0, 0.19020789861679077)"
         ],
         "mode": "markers",
         "name": "H0",
         "type": "scatter",
         "x": [
          0,
          0,
          0,
          0,
          0,
          0,
          0,
          0,
          0,
          0,
          0,
          0,
          0,
          0,
          0,
          0,
          0,
          0,
          0,
          0,
          0,
          0,
          0,
          0,
          0,
          0,
          0,
          0,
          0,
          0,
          0,
          0,
          0,
          0,
          0,
          0,
          0,
          0,
          0,
          0,
          0,
          0,
          0,
          0,
          0,
          0,
          0,
          0,
          0,
          0,
          0,
          0,
          0,
          0,
          0,
          0,
          0,
          0,
          0,
          0,
          0,
          0,
          0,
          0,
          0,
          0,
          0,
          0,
          0,
          0,
          0,
          0,
          0,
          0,
          0,
          0,
          0,
          0,
          0,
          0,
          0,
          0,
          0,
          0,
          0,
          0,
          0,
          0,
          0,
          0,
          0,
          0,
          0,
          0,
          0,
          0,
          0,
          0,
          0
         ],
         "y": [
          0.005574815906584263,
          0.009151269681751728,
          0.010072555392980576,
          0.0168339591473341,
          0.01823783665895462,
          0.018395600840449333,
          0.020487427711486816,
          0.020505031570792198,
          0.023956751450896263,
          0.024537693709135056,
          0.027304287999868393,
          0.028664523735642433,
          0.029454804956912994,
          0.030956048518419266,
          0.03143932670354843,
          0.03501356765627861,
          0.035864267498254776,
          0.03665759786963463,
          0.037466444075107574,
          0.038458168506622314,
          0.038982875645160675,
          0.03904495760798454,
          0.03921348601579666,
          0.03974997252225876,
          0.04068528860807419,
          0.04190979525446892,
          0.041999999433755875,
          0.0428641103208065,
          0.04414930194616318,
          0.044307272881269455,
          0.04458977282047272,
          0.0460975356400013,
          0.04660334065556526,
          0.04689299315214157,
          0.048177290707826614,
          0.05123386159539223,
          0.0557425282895565,
          0.056172750890254974,
          0.05631699413061142,
          0.05807618051767349,
          0.05831422656774521,
          0.05997761711478233,
          0.06048639491200447,
          0.06122100353240967,
          0.06235484406352043,
          0.06447684019804001,
          0.067551389336586,
          0.06767464429140091,
          0.0706578865647316,
          0.07432971149682999,
          0.07435779273509979,
          0.07494247704744339,
          0.07497431337833405,
          0.07525290548801422,
          0.07552231103181839,
          0.07753244787454605,
          0.07988721877336502,
          0.0812285766005516,
          0.08181179314851761,
          0.08310425281524658,
          0.08330729603767395,
          0.08335431665182114,
          0.08376801013946533,
          0.08490784466266632,
          0.0860833153128624,
          0.0873408317565918,
          0.08825255185365677,
          0.08829818665981293,
          0.08894787728786469,
          0.08977122604846954,
          0.09023793041706085,
          0.09256938844919205,
          0.09673979133367538,
          0.09868284314870834,
          0.0988420695066452,
          0.09923643618822098,
          0.0997505635023117,
          0.10570859909057617,
          0.10909587889909744,
          0.10914117097854614,
          0.11590943485498428,
          0.11646275967359543,
          0.11813894659280777,
          0.12009195238351822,
          0.12368585169315338,
          0.12498403340578079,
          0.12745866179466248,
          0.1288713961839676,
          0.13093414902687073,
          0.13257421553134918,
          0.13336224853992462,
          0.13352446258068085,
          0.13959631323814392,
          0.14145837724208832,
          0.14500947296619415,
          0.1514217108488083,
          0.17262007296085358,
          0.1827554702758789,
          0.19020789861679077
         ]
        },
        {
         "hoverinfo": "text",
         "hovertext": [
          "(0.19663873314857483, 1.681917428970337)"
         ],
         "mode": "markers",
         "name": "H1",
         "type": "scatter",
         "x": [
          0.19663873314857483
         ],
         "y": [
          1.681917428970337
         ]
        },
        {
         "hoverinfo": "text",
         "hovertext": [
          "(1.7352418899536133, 1.7447237968444824)",
          "(1.728298544883728, 1.7455064058303833)",
          "(1.7199429273605347, 1.75661301612854)",
          "(1.7078580856323242, 1.7358919382095337)",
          "(1.7036749124526978, 1.7042114734649658)",
          "(1.6966395378112793, 1.7430548667907715)",
          "(1.6854511499404907, 1.7483458518981934)",
          "(1.6827956438064575, 1.7245371341705322)"
         ],
         "mode": "markers",
         "name": "H2",
         "type": "scatter",
         "x": [
          1.7352418899536133,
          1.728298544883728,
          1.7199429273605347,
          1.7078580856323242,
          1.7036749124526978,
          1.6966395378112793,
          1.6854511499404907,
          1.6827956438064575
         ],
         "y": [
          1.7447237968444824,
          1.7455064058303833,
          1.75661301612854,
          1.7358919382095337,
          1.7042114734649658,
          1.7430548667907715,
          1.7483458518981934,
          1.7245371341705322
         ]
        }
       ],
       "layout": {
        "height": 500,
        "plot_bgcolor": "white",
        "template": {
         "data": {
          "bar": [
           {
            "error_x": {
             "color": "#2a3f5f"
            },
            "error_y": {
             "color": "#2a3f5f"
            },
            "marker": {
             "line": {
              "color": "#E5ECF6",
              "width": 0.5
             },
             "pattern": {
              "fillmode": "overlay",
              "size": 10,
              "solidity": 0.2
             }
            },
            "type": "bar"
           }
          ],
          "barpolar": [
           {
            "marker": {
             "line": {
              "color": "#E5ECF6",
              "width": 0.5
             },
             "pattern": {
              "fillmode": "overlay",
              "size": 10,
              "solidity": 0.2
             }
            },
            "type": "barpolar"
           }
          ],
          "carpet": [
           {
            "aaxis": {
             "endlinecolor": "#2a3f5f",
             "gridcolor": "white",
             "linecolor": "white",
             "minorgridcolor": "white",
             "startlinecolor": "#2a3f5f"
            },
            "baxis": {
             "endlinecolor": "#2a3f5f",
             "gridcolor": "white",
             "linecolor": "white",
             "minorgridcolor": "white",
             "startlinecolor": "#2a3f5f"
            },
            "type": "carpet"
           }
          ],
          "choropleth": [
           {
            "colorbar": {
             "outlinewidth": 0,
             "ticks": ""
            },
            "type": "choropleth"
           }
          ],
          "contour": [
           {
            "colorbar": {
             "outlinewidth": 0,
             "ticks": ""
            },
            "colorscale": [
             [
              0,
              "#0d0887"
             ],
             [
              0.1111111111111111,
              "#46039f"
             ],
             [
              0.2222222222222222,
              "#7201a8"
             ],
             [
              0.3333333333333333,
              "#9c179e"
             ],
             [
              0.4444444444444444,
              "#bd3786"
             ],
             [
              0.5555555555555556,
              "#d8576b"
             ],
             [
              0.6666666666666666,
              "#ed7953"
             ],
             [
              0.7777777777777778,
              "#fb9f3a"
             ],
             [
              0.8888888888888888,
              "#fdca26"
             ],
             [
              1,
              "#f0f921"
             ]
            ],
            "type": "contour"
           }
          ],
          "contourcarpet": [
           {
            "colorbar": {
             "outlinewidth": 0,
             "ticks": ""
            },
            "type": "contourcarpet"
           }
          ],
          "heatmap": [
           {
            "colorbar": {
             "outlinewidth": 0,
             "ticks": ""
            },
            "colorscale": [
             [
              0,
              "#0d0887"
             ],
             [
              0.1111111111111111,
              "#46039f"
             ],
             [
              0.2222222222222222,
              "#7201a8"
             ],
             [
              0.3333333333333333,
              "#9c179e"
             ],
             [
              0.4444444444444444,
              "#bd3786"
             ],
             [
              0.5555555555555556,
              "#d8576b"
             ],
             [
              0.6666666666666666,
              "#ed7953"
             ],
             [
              0.7777777777777778,
              "#fb9f3a"
             ],
             [
              0.8888888888888888,
              "#fdca26"
             ],
             [
              1,
              "#f0f921"
             ]
            ],
            "type": "heatmap"
           }
          ],
          "heatmapgl": [
           {
            "colorbar": {
             "outlinewidth": 0,
             "ticks": ""
            },
            "colorscale": [
             [
              0,
              "#0d0887"
             ],
             [
              0.1111111111111111,
              "#46039f"
             ],
             [
              0.2222222222222222,
              "#7201a8"
             ],
             [
              0.3333333333333333,
              "#9c179e"
             ],
             [
              0.4444444444444444,
              "#bd3786"
             ],
             [
              0.5555555555555556,
              "#d8576b"
             ],
             [
              0.6666666666666666,
              "#ed7953"
             ],
             [
              0.7777777777777778,
              "#fb9f3a"
             ],
             [
              0.8888888888888888,
              "#fdca26"
             ],
             [
              1,
              "#f0f921"
             ]
            ],
            "type": "heatmapgl"
           }
          ],
          "histogram": [
           {
            "marker": {
             "pattern": {
              "fillmode": "overlay",
              "size": 10,
              "solidity": 0.2
             }
            },
            "type": "histogram"
           }
          ],
          "histogram2d": [
           {
            "colorbar": {
             "outlinewidth": 0,
             "ticks": ""
            },
            "colorscale": [
             [
              0,
              "#0d0887"
             ],
             [
              0.1111111111111111,
              "#46039f"
             ],
             [
              0.2222222222222222,
              "#7201a8"
             ],
             [
              0.3333333333333333,
              "#9c179e"
             ],
             [
              0.4444444444444444,
              "#bd3786"
             ],
             [
              0.5555555555555556,
              "#d8576b"
             ],
             [
              0.6666666666666666,
              "#ed7953"
             ],
             [
              0.7777777777777778,
              "#fb9f3a"
             ],
             [
              0.8888888888888888,
              "#fdca26"
             ],
             [
              1,
              "#f0f921"
             ]
            ],
            "type": "histogram2d"
           }
          ],
          "histogram2dcontour": [
           {
            "colorbar": {
             "outlinewidth": 0,
             "ticks": ""
            },
            "colorscale": [
             [
              0,
              "#0d0887"
             ],
             [
              0.1111111111111111,
              "#46039f"
             ],
             [
              0.2222222222222222,
              "#7201a8"
             ],
             [
              0.3333333333333333,
              "#9c179e"
             ],
             [
              0.4444444444444444,
              "#bd3786"
             ],
             [
              0.5555555555555556,
              "#d8576b"
             ],
             [
              0.6666666666666666,
              "#ed7953"
             ],
             [
              0.7777777777777778,
              "#fb9f3a"
             ],
             [
              0.8888888888888888,
              "#fdca26"
             ],
             [
              1,
              "#f0f921"
             ]
            ],
            "type": "histogram2dcontour"
           }
          ],
          "mesh3d": [
           {
            "colorbar": {
             "outlinewidth": 0,
             "ticks": ""
            },
            "type": "mesh3d"
           }
          ],
          "parcoords": [
           {
            "line": {
             "colorbar": {
              "outlinewidth": 0,
              "ticks": ""
             }
            },
            "type": "parcoords"
           }
          ],
          "pie": [
           {
            "automargin": true,
            "type": "pie"
           }
          ],
          "scatter": [
           {
            "fillpattern": {
             "fillmode": "overlay",
             "size": 10,
             "solidity": 0.2
            },
            "type": "scatter"
           }
          ],
          "scatter3d": [
           {
            "line": {
             "colorbar": {
              "outlinewidth": 0,
              "ticks": ""
             }
            },
            "marker": {
             "colorbar": {
              "outlinewidth": 0,
              "ticks": ""
             }
            },
            "type": "scatter3d"
           }
          ],
          "scattercarpet": [
           {
            "marker": {
             "colorbar": {
              "outlinewidth": 0,
              "ticks": ""
             }
            },
            "type": "scattercarpet"
           }
          ],
          "scattergeo": [
           {
            "marker": {
             "colorbar": {
              "outlinewidth": 0,
              "ticks": ""
             }
            },
            "type": "scattergeo"
           }
          ],
          "scattergl": [
           {
            "marker": {
             "colorbar": {
              "outlinewidth": 0,
              "ticks": ""
             }
            },
            "type": "scattergl"
           }
          ],
          "scattermapbox": [
           {
            "marker": {
             "colorbar": {
              "outlinewidth": 0,
              "ticks": ""
             }
            },
            "type": "scattermapbox"
           }
          ],
          "scatterpolar": [
           {
            "marker": {
             "colorbar": {
              "outlinewidth": 0,
              "ticks": ""
             }
            },
            "type": "scatterpolar"
           }
          ],
          "scatterpolargl": [
           {
            "marker": {
             "colorbar": {
              "outlinewidth": 0,
              "ticks": ""
             }
            },
            "type": "scatterpolargl"
           }
          ],
          "scatterternary": [
           {
            "marker": {
             "colorbar": {
              "outlinewidth": 0,
              "ticks": ""
             }
            },
            "type": "scatterternary"
           }
          ],
          "surface": [
           {
            "colorbar": {
             "outlinewidth": 0,
             "ticks": ""
            },
            "colorscale": [
             [
              0,
              "#0d0887"
             ],
             [
              0.1111111111111111,
              "#46039f"
             ],
             [
              0.2222222222222222,
              "#7201a8"
             ],
             [
              0.3333333333333333,
              "#9c179e"
             ],
             [
              0.4444444444444444,
              "#bd3786"
             ],
             [
              0.5555555555555556,
              "#d8576b"
             ],
             [
              0.6666666666666666,
              "#ed7953"
             ],
             [
              0.7777777777777778,
              "#fb9f3a"
             ],
             [
              0.8888888888888888,
              "#fdca26"
             ],
             [
              1,
              "#f0f921"
             ]
            ],
            "type": "surface"
           }
          ],
          "table": [
           {
            "cells": {
             "fill": {
              "color": "#EBF0F8"
             },
             "line": {
              "color": "white"
             }
            },
            "header": {
             "fill": {
              "color": "#C8D4E3"
             },
             "line": {
              "color": "white"
             }
            },
            "type": "table"
           }
          ]
         },
         "layout": {
          "annotationdefaults": {
           "arrowcolor": "#2a3f5f",
           "arrowhead": 0,
           "arrowwidth": 1
          },
          "autotypenumbers": "strict",
          "coloraxis": {
           "colorbar": {
            "outlinewidth": 0,
            "ticks": ""
           }
          },
          "colorscale": {
           "diverging": [
            [
             0,
             "#8e0152"
            ],
            [
             0.1,
             "#c51b7d"
            ],
            [
             0.2,
             "#de77ae"
            ],
            [
             0.3,
             "#f1b6da"
            ],
            [
             0.4,
             "#fde0ef"
            ],
            [
             0.5,
             "#f7f7f7"
            ],
            [
             0.6,
             "#e6f5d0"
            ],
            [
             0.7,
             "#b8e186"
            ],
            [
             0.8,
             "#7fbc41"
            ],
            [
             0.9,
             "#4d9221"
            ],
            [
             1,
             "#276419"
            ]
           ],
           "sequential": [
            [
             0,
             "#0d0887"
            ],
            [
             0.1111111111111111,
             "#46039f"
            ],
            [
             0.2222222222222222,
             "#7201a8"
            ],
            [
             0.3333333333333333,
             "#9c179e"
            ],
            [
             0.4444444444444444,
             "#bd3786"
            ],
            [
             0.5555555555555556,
             "#d8576b"
            ],
            [
             0.6666666666666666,
             "#ed7953"
            ],
            [
             0.7777777777777778,
             "#fb9f3a"
            ],
            [
             0.8888888888888888,
             "#fdca26"
            ],
            [
             1,
             "#f0f921"
            ]
           ],
           "sequentialminus": [
            [
             0,
             "#0d0887"
            ],
            [
             0.1111111111111111,
             "#46039f"
            ],
            [
             0.2222222222222222,
             "#7201a8"
            ],
            [
             0.3333333333333333,
             "#9c179e"
            ],
            [
             0.4444444444444444,
             "#bd3786"
            ],
            [
             0.5555555555555556,
             "#d8576b"
            ],
            [
             0.6666666666666666,
             "#ed7953"
            ],
            [
             0.7777777777777778,
             "#fb9f3a"
            ],
            [
             0.8888888888888888,
             "#fdca26"
            ],
            [
             1,
             "#f0f921"
            ]
           ]
          },
          "colorway": [
           "#636efa",
           "#EF553B",
           "#00cc96",
           "#ab63fa",
           "#FFA15A",
           "#19d3f3",
           "#FF6692",
           "#B6E880",
           "#FF97FF",
           "#FECB52"
          ],
          "font": {
           "color": "#2a3f5f"
          },
          "geo": {
           "bgcolor": "white",
           "lakecolor": "white",
           "landcolor": "#E5ECF6",
           "showlakes": true,
           "showland": true,
           "subunitcolor": "white"
          },
          "hoverlabel": {
           "align": "left"
          },
          "hovermode": "closest",
          "mapbox": {
           "style": "light"
          },
          "paper_bgcolor": "white",
          "plot_bgcolor": "#E5ECF6",
          "polar": {
           "angularaxis": {
            "gridcolor": "white",
            "linecolor": "white",
            "ticks": ""
           },
           "bgcolor": "#E5ECF6",
           "radialaxis": {
            "gridcolor": "white",
            "linecolor": "white",
            "ticks": ""
           }
          },
          "scene": {
           "xaxis": {
            "backgroundcolor": "#E5ECF6",
            "gridcolor": "white",
            "gridwidth": 2,
            "linecolor": "white",
            "showbackground": true,
            "ticks": "",
            "zerolinecolor": "white"
           },
           "yaxis": {
            "backgroundcolor": "#E5ECF6",
            "gridcolor": "white",
            "gridwidth": 2,
            "linecolor": "white",
            "showbackground": true,
            "ticks": "",
            "zerolinecolor": "white"
           },
           "zaxis": {
            "backgroundcolor": "#E5ECF6",
            "gridcolor": "white",
            "gridwidth": 2,
            "linecolor": "white",
            "showbackground": true,
            "ticks": "",
            "zerolinecolor": "white"
           }
          },
          "shapedefaults": {
           "line": {
            "color": "#2a3f5f"
           }
          },
          "ternary": {
           "aaxis": {
            "gridcolor": "white",
            "linecolor": "white",
            "ticks": ""
           },
           "baxis": {
            "gridcolor": "white",
            "linecolor": "white",
            "ticks": ""
           },
           "bgcolor": "#E5ECF6",
           "caxis": {
            "gridcolor": "white",
            "linecolor": "white",
            "ticks": ""
           }
          },
          "title": {
           "x": 0.05
          },
          "xaxis": {
           "automargin": true,
           "gridcolor": "white",
           "linecolor": "white",
           "ticks": "",
           "title": {
            "standoff": 15
           },
           "zerolinecolor": "white",
           "zerolinewidth": 2
          },
          "yaxis": {
           "automargin": true,
           "gridcolor": "white",
           "linecolor": "white",
           "ticks": "",
           "title": {
            "standoff": 15
           },
           "zerolinecolor": "white",
           "zerolinewidth": 2
          }
         }
        },
        "width": 500,
        "xaxis": {
         "autorange": false,
         "exponentformat": "e",
         "linecolor": "black",
         "linewidth": 1,
         "mirror": false,
         "range": [
          -0.0351322603225708,
          1.7917452764511108
         ],
         "showexponent": "all",
         "showline": true,
         "side": "bottom",
         "ticks": "outside",
         "title": {
          "text": "Birth"
         },
         "type": "linear",
         "zeroline": true
        },
        "yaxis": {
         "autorange": false,
         "exponentformat": "e",
         "linecolor": "black",
         "linewidth": 1,
         "mirror": false,
         "range": [
          -0.0351322603225708,
          1.7917452764511108
         ],
         "scaleanchor": "x",
         "scaleratio": 1,
         "showexponent": "all",
         "showline": true,
         "side": "left",
         "ticks": "outside",
         "title": {
          "text": "Death"
         },
         "type": "linear",
         "zeroline": true
        }
       }
      }
     },
     "metadata": {},
     "output_type": "display_data"
    }
   ],
   "source": [
    "from gtda.homology import VietorisRipsPersistence\n",
    "from gtda.plotting import plot_diagram\n",
    "\n",
    "VR = VietorisRipsPersistence(homology_dimensions=[0, 1, 2])  # Parameter explained in the text\n",
    "diagrams = VR.fit_transform(point_clouds)\n",
    "# diagrams.shape\n",
    "\n",
    "i = 0\n",
    "plot_diagram(diagrams[0])\n",
    "# print(diagrams[0])"
   ]
  },
  {
   "cell_type": "markdown",
   "metadata": {},
   "source": [
    "# Extract features\n",
    "Instantiate a ``PersistenceEntropy`` transformer and extract scalar features from the persistence diagrams."
   ]
  },
  {
   "cell_type": "code",
   "execution_count": 3,
   "metadata": {},
   "outputs": [
    {
     "name": "stdout",
     "output_type": "stream",
     "text": [
      "(30, 3) (30,)\n"
     ]
    }
   ],
   "source": [
    "from gtda.diagrams import PersistenceEntropy\n",
    "\n",
    "PE = PersistenceEntropy()\n",
    "\n",
    "# ejercicio cambiar Entropia por Amplitude\n",
    "features = PE.fit_transform(diagrams)\n",
    "print(features.shape, labels.shape)"
   ]
  },
  {
   "cell_type": "markdown",
   "metadata": {},
   "source": [
    "# Use the new features in a standard classifier\n",
    "Leverage the compatibility with ``scikit-learn`` to perform a train-test split and score the features."
   ]
  },
  {
   "cell_type": "code",
   "execution_count": 4,
   "metadata": {},
   "outputs": [
    {
     "name": "stdout",
     "output_type": "stream",
     "text": [
      "[0. 0. 0. 0. 0. 0. 0. 0. 0. 0. 1. 1. 1. 1. 1. 1. 1. 1. 1. 1. 2. 2. 2. 2.\n",
      " 2. 2. 2. 2. 2. 2.]\n"
     ]
    },
    {
     "data": {
      "text/plain": [
       "1.0"
      ]
     },
     "execution_count": 4,
     "metadata": {},
     "output_type": "execute_result"
    }
   ],
   "source": [
    "from sklearn.ensemble import RandomForestClassifier\n",
    "from sklearn.model_selection import train_test_split\n",
    "\n",
    "print(labels)\n",
    "\n",
    "X_train, X_valid, y_train, y_valid = train_test_split(features, labels)\n",
    "model = RandomForestClassifier()\n",
    "model.fit(X_train, y_train)\n",
    "model.score(X_valid, y_valid)"
   ]
  },
  {
   "cell_type": "markdown",
   "metadata": {},
   "source": [
    "# Encapsulate the steps above in a pipeline\n",
    "- Define an end-to-end pipeline by chaining transformers from giotto-tda with scikit-learn ones\n",
    "\n",
    "- Train-test split the input point cloud data and labels.\n",
    "\n",
    "- Fit the pipeline on the training data.\n",
    "\n",
    "- Score the fitted pipeline on the test data."
   ]
  },
  {
   "cell_type": "code",
   "execution_count": 5,
   "metadata": {},
   "outputs": [
    {
     "data": {
      "text/plain": [
       "1.0"
      ]
     },
     "execution_count": 5,
     "metadata": {},
     "output_type": "execute_result"
    }
   ],
   "source": [
    "from sklearn.pipeline import make_pipeline\n",
    "\n",
    "steps = [VietorisRipsPersistence(homology_dimensions=[0, 1, 2]),\n",
    "         PersistenceEntropy(),\n",
    "         RandomForestClassifier()]\n",
    "\n",
    "pipeline = make_pipeline(*steps)\n",
    "\n",
    "pcs_train, pcs_valid, labels_train, labels_valid = train_test_split(point_clouds, labels)\n",
    "pipeline.fit(pcs_train, labels_train)\n",
    "pipeline.score(pcs_valid, labels_valid)"
   ]
  },
  {
   "cell_type": "markdown",
   "metadata": {},
   "source": []
  },
  {
   "cell_type": "code",
   "execution_count": null,
   "metadata": {},
   "outputs": [
    {
     "name": "stdout",
     "output_type": "stream",
     "text": [
      "Validation accuracy: 0.55\n"
     ]
    }
   ],
   "source": [
    "from gtda.time_series import TakensEmbedding\n",
    "from gtda.homology import VietorisRipsPersistence\n",
    "from gtda.diagrams import Amplitude\n",
    "from gtda.plotting import plot_diagram\n",
    "from sklearn.ensemble import RandomForestClassifier\n",
    "from sklearn.model_selection import train_test_split\n",
    "import numpy as np\n",
    "\n",
    "# Generate dummy 1D time series data: shape (n_samples, n_timestamps)\n",
    "n_samples = 100\n",
    "n_timestamps = 500 #Si hacemos un cambio a 50 se hace más rápido\n",
    "time_series = np.random.rand(n_samples, n_timestamps)\n",
    "labels = np.random.randint(0, 2, size=n_samples)  # Binary classification\n",
    "\n",
    "# Step 1: Takens Embedding for each time series\n",
    "embedding = TakensEmbedding(time_delay=2, dimension=3)\n",
    "embedded_point_clouds = embedding.fit_transform(time_series)\n",
    "\n",
    "# Step 2: Vietoris–Rips persistence computation\n",
    "VR = VietorisRipsPersistence(homology_dimensions=[0, 1, 2])\n",
    "diagrams = VR.fit_transform(embedded_point_clouds)\n",
    "\n",
    "# Optional: plot one diagram\n",
    "plot_diagram(diagrams[0])\n",
    "\n",
    "# Step 3: Use Amplitude for feature extraction\n",
    "amplitude = Amplitude(metric='bottleneck')  # or 'wasserstein'\n",
    "features = amplitude.fit_transform(diagrams)\n",
    "\n",
    "# Step 4: Classification pipeline\n",
    "X_train, X_valid, y_train, y_valid = train_test_split(features, labels, test_size=0.2, random_state=42)\n",
    "model = RandomForestClassifier()\n",
    "model.fit(X_train, y_train)\n",
    "\n",
    "# Evaluate model\n",
    "score = model.score(X_valid, y_valid)\n",
    "print(\"Validation accuracy:\", score)\n"
   ]
  },
  {
   "cell_type": "code",
   "execution_count": 8,
   "metadata": {},
   "outputs": [
    {
     "name": "stdout",
     "output_type": "stream",
     "text": [
      "Validation accuracy: 0.45\n"
     ]
    }
   ],
   "source": [
    "# Generate dummy 1D time series data: shape (n_samples, n_timestamps)\n",
    "n_samples = 100\n",
    "n_timestamps = 50 #Si hacemos un cambio a 50 se hace más rápido\n",
    "time_series = np.random.rand(n_samples, n_timestamps)\n",
    "labels = np.random.randint(0, 2, size=n_samples)  # Binary classification\n",
    "\n",
    "# Step 1: Takens Embedding for each time series\n",
    "embedding = TakensEmbedding(time_delay=2, dimension=3)\n",
    "embedded_point_clouds = embedding.fit_transform(time_series)\n",
    "\n",
    "# Step 2: Vietoris–Rips persistence computation\n",
    "VR = VietorisRipsPersistence(homology_dimensions=[0, 1, 2])\n",
    "diagrams = VR.fit_transform(embedded_point_clouds)\n",
    "\n",
    "# Optional: plot one diagram\n",
    "plot_diagram(diagrams[0])\n",
    "\n",
    "# Step 3: Use Amplitude for feature extraction\n",
    "amplitude = Amplitude(metric='wasserstein')\n",
    "features = amplitude.fit_transform(diagrams)\n",
    "\n",
    "# Step 4: Classification pipeline\n",
    "X_train, X_valid, y_train, y_valid = train_test_split(features, labels, test_size=0.2, random_state=42)\n",
    "model = RandomForestClassifier()\n",
    "model.fit(X_train, y_train)\n",
    "\n",
    "# Evaluate model\n",
    "score = model.score(X_valid, y_valid)\n",
    "print(\"Validation accuracy:\", score)"
   ]
  },
  {
   "cell_type": "markdown",
   "metadata": {},
   "source": [
    "# Periodic or not periodic"
   ]
  },
  {
   "cell_type": "code",
   "execution_count": 7,
   "metadata": {},
   "outputs": [
    {
     "data": {
      "application/vnd.plotly.v1+json": {
       "config": {
        "plotlyServerURL": "https://plot.ly"
       },
       "data": [
        {
         "type": "scatter",
         "x": [
          0,
          0.01001001001001001,
          0.02002002002002002,
          0.03003003003003003,
          0.04004004004004004,
          0.050050050050050046,
          0.06006006006006006,
          0.07007007007007007,
          0.08008008008008008,
          0.09009009009009009,
          0.10010010010010009,
          0.11011011011011011,
          0.12012012012012012,
          0.13013013013013014,
          0.14014014014014015,
          0.15015015015015015,
          0.16016016016016016,
          0.17017017017017017,
          0.18018018018018017,
          0.19019019019019018,
          0.20020020020020018,
          0.21021021021021022,
          0.22022022022022023,
          0.23023023023023023,
          0.24024024024024024,
          0.2502502502502503,
          0.2602602602602603,
          0.2702702702702703,
          0.2802802802802803,
          0.2902902902902903,
          0.3003003003003003,
          0.3103103103103103,
          0.3203203203203203,
          0.3303303303303303,
          0.34034034034034033,
          0.35035035035035034,
          0.36036036036036034,
          0.37037037037037035,
          0.38038038038038036,
          0.39039039039039036,
          0.40040040040040037,
          0.41041041041041043,
          0.42042042042042044,
          0.43043043043043044,
          0.44044044044044045,
          0.45045045045045046,
          0.46046046046046046,
          0.47047047047047047,
          0.4804804804804805,
          0.4904904904904905,
          0.5005005005005005,
          0.5105105105105106,
          0.5205205205205206,
          0.5305305305305306,
          0.5405405405405406,
          0.5505505505505506,
          0.5605605605605606,
          0.5705705705705706,
          0.5805805805805806,
          0.5905905905905906,
          0.6006006006006006,
          0.6106106106106106,
          0.6206206206206206,
          0.6306306306306306,
          0.6406406406406406,
          0.6506506506506506,
          0.6606606606606606,
          0.6706706706706707,
          0.6806806806806807,
          0.6906906906906907,
          0.7007007007007007,
          0.7107107107107107,
          0.7207207207207207,
          0.7307307307307307,
          0.7407407407407407,
          0.7507507507507507,
          0.7607607607607607,
          0.7707707707707707,
          0.7807807807807807,
          0.7907907907907907,
          0.8008008008008007,
          0.8108108108108109,
          0.8208208208208209,
          0.8308308308308309,
          0.8408408408408409,
          0.8508508508508509,
          0.8608608608608609,
          0.8708708708708709,
          0.8808808808808809,
          0.8908908908908909,
          0.9009009009009009,
          0.9109109109109109,
          0.9209209209209209,
          0.9309309309309309,
          0.9409409409409409,
          0.950950950950951,
          0.960960960960961,
          0.970970970970971,
          0.980980980980981,
          0.990990990990991,
          1.001001001001001,
          1.011011011011011,
          1.021021021021021,
          1.031031031031031,
          1.0410410410410411,
          1.0510510510510511,
          1.0610610610610611,
          1.0710710710710711,
          1.0810810810810811,
          1.0910910910910911,
          1.1011011011011012,
          1.1111111111111112,
          1.1211211211211212,
          1.1311311311311312,
          1.1411411411411412,
          1.1511511511511512,
          1.1611611611611612,
          1.1711711711711712,
          1.1811811811811812,
          1.1911911911911912,
          1.2012012012012012,
          1.2112112112112112,
          1.2212212212212212,
          1.2312312312312312,
          1.2412412412412412,
          1.2512512512512513,
          1.2612612612612613,
          1.2712712712712713,
          1.2812812812812813,
          1.2912912912912913,
          1.3013013013013013,
          1.3113113113113113,
          1.3213213213213213,
          1.3313313313313313,
          1.3413413413413413,
          1.3513513513513513,
          1.3613613613613613,
          1.3713713713713713,
          1.3813813813813813,
          1.3913913913913913,
          1.4014014014014013,
          1.4114114114114114,
          1.4214214214214214,
          1.4314314314314314,
          1.4414414414414414,
          1.4514514514514514,
          1.4614614614614614,
          1.4714714714714714,
          1.4814814814814814,
          1.4914914914914914,
          1.5015015015015014,
          1.5115115115115114,
          1.5215215215215214,
          1.5315315315315314,
          1.5415415415415414,
          1.5515515515515514,
          1.5615615615615615,
          1.5715715715715715,
          1.5815815815815815,
          1.5915915915915915,
          1.6016016016016015,
          1.6116116116116117,
          1.6216216216216217,
          1.6316316316316317,
          1.6416416416416417,
          1.6516516516516517,
          1.6616616616616617,
          1.6716716716716717,
          1.6816816816816818,
          1.6916916916916918,
          1.7017017017017018,
          1.7117117117117118,
          1.7217217217217218,
          1.7317317317317318,
          1.7417417417417418,
          1.7517517517517518,
          1.7617617617617618,
          1.7717717717717718,
          1.7817817817817818,
          1.7917917917917918,
          1.8018018018018018,
          1.8118118118118118,
          1.8218218218218218,
          1.8318318318318318,
          1.8418418418418419,
          1.8518518518518519,
          1.8618618618618619,
          1.8718718718718719,
          1.8818818818818819,
          1.8918918918918919,
          1.901901901901902,
          1.911911911911912,
          1.921921921921922,
          1.931931931931932,
          1.941941941941942,
          1.951951951951952,
          1.961961961961962,
          1.971971971971972,
          1.981981981981982,
          1.991991991991992,
          2.002002002002002,
          2.012012012012012,
          2.022022022022022,
          2.032032032032032,
          2.042042042042042,
          2.052052052052052,
          2.062062062062062,
          2.0720720720720722,
          2.0820820820820822,
          2.0920920920920922,
          2.1021021021021022,
          2.1121121121121122,
          2.1221221221221223,
          2.1321321321321323,
          2.1421421421421423,
          2.1521521521521523,
          2.1621621621621623,
          2.1721721721721723,
          2.1821821821821823,
          2.1921921921921923,
          2.2022022022022023,
          2.2122122122122123,
          2.2222222222222223,
          2.2322322322322323,
          2.2422422422422423,
          2.2522522522522523,
          2.2622622622622623,
          2.2722722722722724,
          2.2822822822822824,
          2.2922922922922924,
          2.3023023023023024,
          2.3123123123123124,
          2.3223223223223224,
          2.3323323323323324,
          2.3423423423423424,
          2.3523523523523524,
          2.3623623623623624,
          2.3723723723723724,
          2.3823823823823824,
          2.3923923923923924,
          2.4024024024024024,
          2.4124124124124124,
          2.4224224224224224,
          2.4324324324324325,
          2.4424424424424425,
          2.4524524524524525,
          2.4624624624624625,
          2.4724724724724725,
          2.4824824824824825,
          2.4924924924924925,
          2.5025025025025025,
          2.5125125125125125,
          2.5225225225225225,
          2.5325325325325325,
          2.5425425425425425,
          2.5525525525525525,
          2.5625625625625625,
          2.5725725725725725,
          2.5825825825825826,
          2.5925925925925926,
          2.6026026026026026,
          2.6126126126126126,
          2.6226226226226226,
          2.6326326326326326,
          2.6426426426426426,
          2.6526526526526526,
          2.6626626626626626,
          2.6726726726726726,
          2.6826826826826826,
          2.6926926926926926,
          2.7027027027027026,
          2.7127127127127126,
          2.7227227227227226,
          2.7327327327327327,
          2.7427427427427427,
          2.7527527527527527,
          2.7627627627627627,
          2.7727727727727727,
          2.7827827827827827,
          2.7927927927927927,
          2.8028028028028027,
          2.8128128128128127,
          2.8228228228228227,
          2.8328328328328327,
          2.8428428428428427,
          2.8528528528528527,
          2.8628628628628627,
          2.8728728728728727,
          2.8828828828828827,
          2.8928928928928928,
          2.9029029029029028,
          2.9129129129129128,
          2.9229229229229228,
          2.932932932932933,
          2.942942942942943,
          2.952952952952953,
          2.962962962962963,
          2.972972972972973,
          2.982982982982983,
          2.992992992992993,
          3.003003003003003,
          3.013013013013013,
          3.023023023023023,
          3.033033033033033,
          3.043043043043043,
          3.053053053053053,
          3.063063063063063,
          3.073073073073073,
          3.083083083083083,
          3.093093093093093,
          3.103103103103103,
          3.113113113113113,
          3.123123123123123,
          3.133133133133133,
          3.143143143143143,
          3.153153153153153,
          3.163163163163163,
          3.173173173173173,
          3.183183183183183,
          3.193193193193193,
          3.203203203203203,
          3.2132132132132134,
          3.2232232232232234,
          3.2332332332332334,
          3.2432432432432434,
          3.2532532532532534,
          3.2632632632632634,
          3.2732732732732734,
          3.2832832832832834,
          3.2932932932932935,
          3.3033033033033035,
          3.3133133133133135,
          3.3233233233233235,
          3.3333333333333335,
          3.3433433433433435,
          3.3533533533533535,
          3.3633633633633635,
          3.3733733733733735,
          3.3833833833833835,
          3.3933933933933935,
          3.4034034034034035,
          3.4134134134134135,
          3.4234234234234235,
          3.4334334334334335,
          3.4434434434434436,
          3.4534534534534536,
          3.4634634634634636,
          3.4734734734734736,
          3.4834834834834836,
          3.4934934934934936,
          3.5035035035035036,
          3.5135135135135136,
          3.5235235235235236,
          3.5335335335335336,
          3.5435435435435436,
          3.5535535535535536,
          3.5635635635635636,
          3.5735735735735736,
          3.5835835835835836,
          3.5935935935935936,
          3.6036036036036037,
          3.6136136136136137,
          3.6236236236236237,
          3.6336336336336337,
          3.6436436436436437,
          3.6536536536536537,
          3.6636636636636637,
          3.6736736736736737,
          3.6836836836836837,
          3.6936936936936937,
          3.7037037037037037,
          3.7137137137137137,
          3.7237237237237237,
          3.7337337337337337,
          3.7437437437437437,
          3.7537537537537538,
          3.7637637637637638,
          3.7737737737737738,
          3.7837837837837838,
          3.793793793793794,
          3.803803803803804,
          3.813813813813814,
          3.823823823823824,
          3.833833833833834,
          3.843843843843844,
          3.853853853853854,
          3.863863863863864,
          3.873873873873874,
          3.883883883883884,
          3.893893893893894,
          3.903903903903904,
          3.913913913913914,
          3.923923923923924,
          3.933933933933934,
          3.943943943943944,
          3.953953953953954,
          3.963963963963964,
          3.973973973973974,
          3.983983983983984,
          3.993993993993994,
          4.004004004004004,
          4.014014014014014,
          4.024024024024024,
          4.034034034034034,
          4.044044044044044,
          4.054054054054054,
          4.064064064064064,
          4.074074074074074,
          4.084084084084084,
          4.094094094094094,
          4.104104104104104,
          4.114114114114114,
          4.124124124124124,
          4.134134134134134,
          4.1441441441441444,
          4.1541541541541545,
          4.1641641641641645,
          4.1741741741741745,
          4.1841841841841845,
          4.1941941941941945,
          4.2042042042042045,
          4.2142142142142145,
          4.2242242242242245,
          4.2342342342342345,
          4.2442442442442445,
          4.2542542542542545,
          4.2642642642642645,
          4.2742742742742745,
          4.2842842842842845,
          4.2942942942942945,
          4.3043043043043046,
          4.314314314314315,
          4.324324324324325,
          4.334334334334335,
          4.344344344344345,
          4.354354354354355,
          4.364364364364365,
          4.374374374374375,
          4.384384384384385,
          4.394394394394395,
          4.404404404404405,
          4.414414414414415,
          4.424424424424425,
          4.434434434434435,
          4.444444444444445,
          4.454454454454455,
          4.464464464464465,
          4.474474474474475,
          4.484484484484485,
          4.494494494494495,
          4.504504504504505,
          4.514514514514515,
          4.524524524524525,
          4.534534534534535,
          4.544544544544545,
          4.554554554554555,
          4.564564564564565,
          4.574574574574575,
          4.584584584584585,
          4.594594594594595,
          4.604604604604605,
          4.614614614614615,
          4.624624624624625,
          4.634634634634635,
          4.644644644644645,
          4.654654654654655,
          4.664664664664665,
          4.674674674674675,
          4.684684684684685,
          4.694694694694695,
          4.704704704704705,
          4.714714714714715,
          4.724724724724725,
          4.734734734734735,
          4.744744744744745,
          4.754754754754755,
          4.764764764764765,
          4.774774774774775,
          4.784784784784785,
          4.794794794794795,
          4.804804804804805,
          4.814814814814815,
          4.824824824824825,
          4.834834834834835,
          4.844844844844845,
          4.854854854854855,
          4.864864864864865,
          4.874874874874875,
          4.884884884884885,
          4.894894894894895,
          4.904904904904905,
          4.914914914914915,
          4.924924924924925,
          4.934934934934935,
          4.944944944944945,
          4.954954954954955,
          4.964964964964965,
          4.974974974974975,
          4.984984984984985,
          4.994994994994995,
          5.005005005005005,
          5.015015015015015,
          5.025025025025025,
          5.035035035035035,
          5.045045045045045,
          5.055055055055055,
          5.065065065065065,
          5.075075075075075,
          5.085085085085085,
          5.095095095095095,
          5.105105105105105,
          5.115115115115115,
          5.125125125125125,
          5.135135135135135,
          5.145145145145145,
          5.155155155155155,
          5.165165165165165,
          5.175175175175175,
          5.185185185185185,
          5.195195195195195,
          5.205205205205205,
          5.215215215215215,
          5.225225225225225,
          5.235235235235235,
          5.245245245245245,
          5.255255255255255,
          5.265265265265265,
          5.275275275275275,
          5.285285285285285,
          5.295295295295295,
          5.305305305305305,
          5.315315315315315,
          5.325325325325325,
          5.335335335335335,
          5.345345345345345,
          5.355355355355355,
          5.365365365365365,
          5.375375375375375,
          5.385385385385385,
          5.395395395395395,
          5.405405405405405,
          5.415415415415415,
          5.425425425425425,
          5.435435435435435,
          5.445445445445445,
          5.455455455455455,
          5.465465465465465,
          5.475475475475475,
          5.485485485485485,
          5.495495495495495,
          5.505505505505505,
          5.515515515515515,
          5.525525525525525,
          5.535535535535535,
          5.545545545545545,
          5.555555555555555,
          5.565565565565565,
          5.575575575575575,
          5.585585585585585,
          5.595595595595595,
          5.605605605605605,
          5.615615615615615,
          5.625625625625625,
          5.635635635635635,
          5.645645645645645,
          5.655655655655655,
          5.665665665665665,
          5.675675675675675,
          5.685685685685685,
          5.6956956956956954,
          5.7057057057057055,
          5.7157157157157155,
          5.7257257257257255,
          5.7357357357357355,
          5.7457457457457455,
          5.7557557557557555,
          5.7657657657657655,
          5.7757757757757755,
          5.7857857857857855,
          5.7957957957957955,
          5.8058058058058055,
          5.8158158158158155,
          5.8258258258258255,
          5.8358358358358355,
          5.8458458458458455,
          5.8558558558558556,
          5.865865865865866,
          5.875875875875876,
          5.885885885885886,
          5.895895895895896,
          5.905905905905906,
          5.915915915915916,
          5.925925925925926,
          5.935935935935936,
          5.945945945945946,
          5.955955955955956,
          5.965965965965966,
          5.975975975975976,
          5.985985985985986,
          5.995995995995996,
          6.006006006006006,
          6.016016016016016,
          6.026026026026026,
          6.036036036036036,
          6.046046046046046,
          6.056056056056056,
          6.066066066066066,
          6.076076076076076,
          6.086086086086086,
          6.096096096096096,
          6.106106106106106,
          6.116116116116116,
          6.126126126126126,
          6.136136136136136,
          6.146146146146146,
          6.156156156156156,
          6.166166166166166,
          6.176176176176176,
          6.186186186186186,
          6.196196196196196,
          6.206206206206206,
          6.216216216216216,
          6.226226226226226,
          6.236236236236236,
          6.246246246246246,
          6.256256256256256,
          6.266266266266266,
          6.276276276276276,
          6.286286286286286,
          6.296296296296296,
          6.306306306306306,
          6.316316316316316,
          6.326326326326326,
          6.336336336336336,
          6.346346346346346,
          6.356356356356356,
          6.366366366366366,
          6.376376376376376,
          6.386386386386386,
          6.396396396396396,
          6.406406406406406,
          6.416416416416417,
          6.426426426426427,
          6.436436436436437,
          6.446446446446447,
          6.456456456456457,
          6.466466466466467,
          6.476476476476477,
          6.486486486486487,
          6.496496496496497,
          6.506506506506507,
          6.516516516516517,
          6.526526526526527,
          6.536536536536537,
          6.546546546546547,
          6.556556556556557,
          6.566566566566567,
          6.576576576576577,
          6.586586586586587,
          6.596596596596597,
          6.606606606606607,
          6.616616616616617,
          6.626626626626627,
          6.636636636636637,
          6.646646646646647,
          6.656656656656657,
          6.666666666666667,
          6.676676676676677,
          6.686686686686687,
          6.696696696696697,
          6.706706706706707,
          6.716716716716717,
          6.726726726726727,
          6.736736736736737,
          6.746746746746747,
          6.756756756756757,
          6.766766766766767,
          6.776776776776777,
          6.786786786786787,
          6.796796796796797,
          6.806806806806807,
          6.816816816816817,
          6.826826826826827,
          6.836836836836837,
          6.846846846846847,
          6.856856856856857,
          6.866866866866867,
          6.876876876876877,
          6.886886886886887,
          6.896896896896897,
          6.906906906906907,
          6.916916916916917,
          6.926926926926927,
          6.936936936936937,
          6.946946946946947,
          6.956956956956957,
          6.966966966966967,
          6.976976976976977,
          6.986986986986987,
          6.996996996996997,
          7.007007007007007,
          7.017017017017017,
          7.027027027027027,
          7.037037037037037,
          7.047047047047047,
          7.057057057057057,
          7.067067067067067,
          7.077077077077077,
          7.087087087087087,
          7.097097097097097,
          7.107107107107107,
          7.117117117117117,
          7.127127127127127,
          7.137137137137137,
          7.147147147147147,
          7.157157157157157,
          7.167167167167167,
          7.177177177177177,
          7.187187187187187,
          7.197197197197197,
          7.207207207207207,
          7.217217217217217,
          7.227227227227227,
          7.237237237237237,
          7.247247247247247,
          7.257257257257257,
          7.267267267267267,
          7.277277277277277,
          7.287287287287287,
          7.297297297297297,
          7.307307307307307,
          7.317317317317317,
          7.327327327327327,
          7.337337337337337,
          7.347347347347347,
          7.357357357357357,
          7.367367367367367,
          7.377377377377377,
          7.387387387387387,
          7.397397397397397,
          7.407407407407407,
          7.4174174174174174,
          7.4274274274274275,
          7.4374374374374375,
          7.4474474474474475,
          7.4574574574574575,
          7.4674674674674675,
          7.4774774774774775,
          7.4874874874874875,
          7.4974974974974975,
          7.5075075075075075,
          7.5175175175175175,
          7.5275275275275275,
          7.5375375375375375,
          7.5475475475475475,
          7.5575575575575575,
          7.5675675675675675,
          7.5775775775775776,
          7.587587587587588,
          7.597597597597598,
          7.607607607607608,
          7.617617617617618,
          7.627627627627628,
          7.637637637637638,
          7.647647647647648,
          7.657657657657658,
          7.667667667667668,
          7.677677677677678,
          7.687687687687688,
          7.697697697697698,
          7.707707707707708,
          7.717717717717718,
          7.727727727727728,
          7.737737737737738,
          7.747747747747748,
          7.757757757757758,
          7.767767767767768,
          7.777777777777778,
          7.787787787787788,
          7.797797797797798,
          7.807807807807808,
          7.817817817817818,
          7.827827827827828,
          7.837837837837838,
          7.847847847847848,
          7.857857857857858,
          7.867867867867868,
          7.877877877877878,
          7.887887887887888,
          7.897897897897898,
          7.907907907907908,
          7.917917917917918,
          7.927927927927928,
          7.937937937937938,
          7.947947947947948,
          7.957957957957958,
          7.967967967967968,
          7.977977977977978,
          7.987987987987988,
          7.997997997997998,
          8.008008008008009,
          8.018018018018019,
          8.028028028028029,
          8.038038038038039,
          8.048048048048049,
          8.058058058058059,
          8.068068068068069,
          8.078078078078079,
          8.088088088088089,
          8.098098098098099,
          8.108108108108109,
          8.118118118118119,
          8.128128128128129,
          8.138138138138139,
          8.148148148148149,
          8.158158158158159,
          8.168168168168169,
          8.178178178178179,
          8.188188188188189,
          8.198198198198199,
          8.208208208208209,
          8.218218218218219,
          8.228228228228229,
          8.238238238238239,
          8.248248248248249,
          8.258258258258259,
          8.268268268268269,
          8.278278278278279,
          8.288288288288289,
          8.298298298298299,
          8.308308308308309,
          8.318318318318319,
          8.328328328328329,
          8.338338338338339,
          8.348348348348349,
          8.358358358358359,
          8.368368368368369,
          8.378378378378379,
          8.388388388388389,
          8.398398398398399,
          8.408408408408409,
          8.418418418418419,
          8.428428428428429,
          8.438438438438439,
          8.448448448448449,
          8.458458458458459,
          8.468468468468469,
          8.478478478478479,
          8.488488488488489,
          8.498498498498499,
          8.508508508508509,
          8.518518518518519,
          8.528528528528529,
          8.538538538538539,
          8.548548548548549,
          8.558558558558559,
          8.568568568568569,
          8.578578578578579,
          8.588588588588589,
          8.598598598598599,
          8.608608608608609,
          8.618618618618619,
          8.62862862862863,
          8.63863863863864,
          8.64864864864865,
          8.65865865865866,
          8.66866866866867,
          8.67867867867868,
          8.68868868868869,
          8.6986986986987,
          8.70870870870871,
          8.71871871871872,
          8.72872872872873,
          8.73873873873874,
          8.74874874874875,
          8.75875875875876,
          8.76876876876877,
          8.77877877877878,
          8.78878878878879,
          8.7987987987988,
          8.80880880880881,
          8.81881881881882,
          8.82882882882883,
          8.83883883883884,
          8.84884884884885,
          8.85885885885886,
          8.86886886886887,
          8.87887887887888,
          8.88888888888889,
          8.8988988988989,
          8.90890890890891,
          8.91891891891892,
          8.92892892892893,
          8.93893893893894,
          8.94894894894895,
          8.95895895895896,
          8.96896896896897,
          8.97897897897898,
          8.98898898898899,
          8.998998998999,
          9.00900900900901,
          9.01901901901902,
          9.02902902902903,
          9.03903903903904,
          9.04904904904905,
          9.05905905905906,
          9.06906906906907,
          9.07907907907908,
          9.08908908908909,
          9.0990990990991,
          9.10910910910911,
          9.11911911911912,
          9.12912912912913,
          9.13913913913914,
          9.14914914914915,
          9.15915915915916,
          9.16916916916917,
          9.17917917917918,
          9.18918918918919,
          9.1991991991992,
          9.20920920920921,
          9.21921921921922,
          9.22922922922923,
          9.23923923923924,
          9.24924924924925,
          9.25925925925926,
          9.26926926926927,
          9.27927927927928,
          9.28928928928929,
          9.2992992992993,
          9.30930930930931,
          9.31931931931932,
          9.32932932932933,
          9.33933933933934,
          9.34934934934935,
          9.35935935935936,
          9.36936936936937,
          9.37937937937938,
          9.38938938938939,
          9.3993993993994,
          9.40940940940941,
          9.41941941941942,
          9.42942942942943,
          9.43943943943944,
          9.44944944944945,
          9.45945945945946,
          9.46946946946947,
          9.47947947947948,
          9.48948948948949,
          9.4994994994995,
          9.50950950950951,
          9.51951951951952,
          9.52952952952953,
          9.53953953953954,
          9.54954954954955,
          9.55955955955956,
          9.56956956956957,
          9.57957957957958,
          9.58958958958959,
          9.5995995995996,
          9.60960960960961,
          9.61961961961962,
          9.62962962962963,
          9.63963963963964,
          9.64964964964965,
          9.65965965965966,
          9.66966966966967,
          9.67967967967968,
          9.68968968968969,
          9.6996996996997,
          9.70970970970971,
          9.71971971971972,
          9.72972972972973,
          9.73973973973974,
          9.74974974974975,
          9.75975975975976,
          9.76976976976977,
          9.77977977977978,
          9.78978978978979,
          9.7997997997998,
          9.80980980980981,
          9.81981981981982,
          9.82982982982983,
          9.83983983983984,
          9.84984984984985,
          9.85985985985986,
          9.86986986986987,
          9.87987987987988,
          9.88988988988989,
          9.8998998998999,
          9.90990990990991,
          9.91991991991992,
          9.92992992992993,
          9.93993993993994,
          9.94994994994995,
          9.95995995995996,
          9.96996996996997,
          9.97997997997998,
          9.98998998998999,
          10
         ],
         "y": [
          1,
          0.9987477576841054,
          0.994994166958057,
          0.9887486286321422,
          0.9800267845611155,
          0.9688504784694136,
          0.9552477012438836,
          0.9392525208310362,
          0.9209049969143981,
          0.9002510805856501,
          0.8773424992608235,
          0.8522366271297828,
          0.8249963414634476,
          0.7956898651386348,
          0.7643905957749119,
          0.7311769219113865,
          0.6961320266838151,
          0.6593436794937177,
          0.6209040161912611,
          0.5809093083224371,
          0.5394597220184564,
          0.4966590671312109,
          0.4526145372430967,
          0.40743644120233274,
          0.3612379268561467,
          0.31413469767373,
          0.2662447229686777,
          0.21768794244665535,
          0.16858596581824956,
          0.11906176822931658,
          0.06923938227161965,
          0.01924358734510886,
          -0.030800402850168246,
          -0.08076725390985419,
          -0.1305318246233711,
          -0.17996948038815933,
          -0.22895640535512435,
          -0.2773699125235278,
          -0.3250887510086953,
          -0.37199340971299394,
          -0.41796641663953954,
          -0.46289263309900774,
          -0.5066595420727107,
          -0.5491575300097431,
          -0.5902801613524349,
          -0.6299244451025694,
          -0.6679910927607561,
          -0.7043847669929514,
          -0.7390143204013464,
          -0.7717930238016241,
          -0.8026387834348685,
          -0.8314743465701222,
          -0.8582274949826642,
          -0.882831225823443,
          -0.9052239194266833,
          -0.9253494936353915,
          -0.943157544258256,
          -0.9586034713061695,
          -0.971648590692217,
          -0.9822602311153761,
          -0.990411815885289,
          -0.9960829294831748,
          -0.9992593686921823,
          -0.9999331781691289,
          -0.9981026703685347,
          -0.9937724297690547,
          -0.9869533013917223,
          -0.9776623636387607,
          -0.965922885520987,
          -0.9517642683809325,
          -0.9352219722576318,
          -0.9163374270775003,
          -0.8951579288937199,
          -0.8717365214340009,
          -0.8461318632533812,
          -0.818408080824776,
          -0.7886346079352131,
          -0.7568860117899793,
          -0.7232418062602013,
          -0.6877862527415771,
          -0.6506081491230057,
          -0.6118006073936383,
          -0.5714608204453347,
          -0.5296898186545562,
          -0.4865922168533422,
          -0.4422759523230707,
          -0.3968520144671961,
          -0.35043416683999384,
          -0.3031386622274869,
          -0.25508395149413016,
          -0.20639038692444023,
          -0.157179920802549,
          -0.10757579998458197,
          -0.05770225722880111,
          -0.007684200056571172,
          0.04235310207660804,
          0.09228433151652779,
          0.14198443626640947,
          0.19132894317770865,
          0.24019426969120278,
          0.28845803334761144,
          0.3359993582925849,
          0.3826991780084235,
          0.4284405335143417,
          0.47310886628843757,
          0.5165923051777509,
          0.5587819465778459,
          0.5995721271802155,
          0.6388606886044129,
          0.6765492332521464,
          0.7125433707425511,
          0.7467529543114477,
          0.7790923065825283,
          0.8094804341450275,
          0.8378412304004764,
          0.864103666170508,
          0.8882019675883429,
          0.9100757808284278,
          0.9296703232616642,
          0.9469365206576613,
          0.9618311300903913,
          0.9743168482394335,
          0.9843624048155667,
          0.9919426408767282,
          0.9970385718381976,
          0.999637435019197,
          0.9997327216068297,
          0.9973241929573012,
          0.9924178811935996,
          0.9850260740981358,
          0.9751672843381816,
          0.9628662031011787,
          0.9481536382560396,
          0.9310664371953132,
          0.9116473945514565,
          0.8899451450183349,
          0.8660140415463795,
          0.8399140192164575,
          0.8117104451333834,
          0.7814739547150101,
          0.7492802747869095,
          0.7152100339257023,
          0.6793485605260265,
          0.6417856690968854,
          0.6026154353225884,
          0.5619359604516471,
          0.5198491256037049,
          0.47646033660983916,
          0.4318782600252769,
          0.38621455097567753,
          0.33958357351858615,
          0.2921021142204094,
          0.2438890896662545,
          0.1950652486351694,
          0.14575286968668139,
          0.0960754549160239,
          0.04615742064503706,
          -0.0038762141765983035,
          -0.053900141079398854,
          -0.10378907590721477,
          -0.1534180725894735,
          -0.20266283606669486,
          -0.25140003358555063,
          -0.2995076035838601,
          -0.3468650613918897,
          -0.39335380098435874,
          -0.4388573920274066,
          -0.4832618714765747,
          -0.5264560289954999,
          -0.5683316854804933,
          -0.6087839639934418,
          -0.647711552424489,
          -0.6850169572266567,
          -0.7206067475869353,
          -0.7543917894223188,
          -0.786287468614746,
          -0.8162139029258592,
          -0.8440961420608418,
          -0.8698643553802805,
          -0.893454006789928,
          -0.9148060163703597,
          -0.9338669083417235,
          -0.9505889449930088,
          -0.9649302462404105,
          -0.9768548945153545,
          -0.9863330247194966,
          -0.9933408990214025,
          -0.9978609663075817,
          -0.9998819061389812,
          -0.9993986571028515,
          -0.9964124294889768,
          -0.9909307022585233,
          -0.9829672043130951,
          -0.9725418801109121,
          -0.9596808397162199,
          -0.9444162934070357,
          -0.9267864710050022,
          -0.9068355261293867,
          -0.8846134256150194,
          -0.860175824371125,
          -0.8335839259944565,
          -0.8049043294858284,
          -0.7742088624539423,
          -0.7415744012242453,
          -0.7070826783033539,
          -0.6708200776812474,
          -0.6328774184838926,
          -0.5933497275181383,
          -0.5523360012785385,
          -0.5099389580121528,
          -0.46626478046227504,
          -0.42142284993538487,
          -0.37552547235734673,
          -0.32868759700494427,
          -0.28102652861718314,
          -0.23266163360737518,
          -0.1837140411117906,
          -0.13430633962359764,
          -0.08456226997186553,
          -0.03460641541455965,
          0.015436110378313297,
          0.06543997666996916,
          0.11527994954575044,
          0.16483120555954095,
          0.2139696443521683,
          0.26257219945884624,
          0.3105171465272444,
          0.357684408174258,
          0.4039558547179686,
          0.4492156000316167,
          0.49335029177862566,
          0.5362493953017864,
          0.5778054704556075,
          0.6179144406885086,
          0.656475853700945,
          0.6933931330266464,
          0.7285738199068945,
          0.7619298048520619,
          0.7933775483104749,
          0.822838289891938,
          0.8502382456219187,
          0.87550879273238,
          0.8985866415264467,
          0.9194139938864794,
          0.9379386880285714,
          0.9541143291409352,
          0.9679004055789957,
          0.9792623903261811,
          0.9881718274663053,
          0.9946064034509731,
          0.9985500029835187,
          0.9999927493795191,
          0.9989310293027978,
          0.9953675018149701,
          0.9893110917158646,
          0.980776967191498,
          0.9697865018255873,
          0.9563672210697379,
          0.9405527333063723,
          0.9223826456770536,
          0.9019024648870076,
          0.8791634832342794,
          0.8542226501489605,
          0.8271424295642172,
          0.7979906434763296,
          0.766840302085544,
          0.7337694209431485,
          0.6988608255627239,
          0.662201943984918,
          0.6238845878152609,
          0.5840047222834104,
          0.5426622258997086,
          0.4999606403109885,
          0.4560069109821101,
          0.41091111935268726,
          0.3647862071398143,
          0.31774769347727105,
          0.26991338559962746,
          0.22140308379583537,
          0.1723382813712459,
          0.12284186036949317,
          0.07303778381630466,
          0.02305078525600825,
          -0.026993943641712502,
          -0.0769710666224312,
          -0.1267554167497016,
          -0.1762223098837263,
          -0.22524785695086885,
          -0.2737092742219345,
          -0.32148519082213306,
          -0.3684559527025698,
          -0.4145039223119717,
          -0.4595137732181269,
          -0.5033727789411618,
          -0.5459710952752775,
          -0.5872020353918752,
          -0.6269623370350786,
          -0.6651524211404669,
          -0.7016766412293116,
          -0.736443522953712,
          -0.769365993192694,
          -0.8003615981255037,
          -0.8293527097359338,
          -0.8562667202304975,
          -0.8810362238835313,
          -0.9035991858537993,
          -0.923899097549799,
          -0.9418851181546615,
          -0.9575122019561946,
          -0.9707412111631777,
          -0.9815390139253581,
          -0.989878567311661,
          -0.9957389850387942,
          -0.9991055897806244,
          -0.9999699499273143,
          -0.9983299007021601,
          -0.9941895495832418,
          -0.9875592660163067,
          -0.9784556554446528,
          -0.9669015177210505,
          -0.9529257900058621,
          -0.9365634742943671,
          -0.917855549754808,
          -0.8968488700966853,
          -0.8735960462263681,
          -0.8481553144838849,
          -0.8205903907909067,
          -0.7909703110751986,
          -0.7593692583712012,
          -0.7258663770297599,
          -0.6905455745023149,
          -0.6534953111959789,
          -0.6148083789258063,
          -0.5745816685191187,
          -0.5329159271539172,
          -0.48991550603912304,
          -0.4456880990685786,
          -0.40034447310334553,
          -0.35399819055780335,
          -0.306765324984328,
          -0.25876417036886357,
          -0.2101149448654526,
          -0.16093948971171687,
          -0.11136096407935017,
          -0.061503536623865485,
          -0.011492074506105645,
          0.03854816933564211,
          0.08849186987970514,
          0.13821394389561617,
          0.18758986321314164,
          0.23649596660117034,
          0.2848097694753663,
          0.33241027065892775,
          0.379178255428175,
          0.42499659408399376,
          0.46975053530136635,
          0.513327993522302,
          0.5556198296723938,
          0.5965201244979537,
          0.6359264438391554,
          0.6737400951748137,
          0.7098663747962864,
          0.7442148049914579,
          0.7766993606447782,
          0.8072386846858431,
          0.8357562918469267,
          0.8621807602191585,
          0.8864459101275969,
          0.9084909698772085,
          0.9282607279546432,
          0.945705671304622,
          0.9607821093346226,
          0.9734522833372965,
          0.983684461056572,
          0.9914530161606014,
          0.9967384924225156,
          0.9995276524482447,
          0.999813510829369,
          0.9975953516379658,
          0.9928787302196409,
          0.9856754592802505,
          0.9760035793011609,
          0.9638873133571403,
          0.9493570064500402,
          0.9324490495102045,
          0.9132057882559439,
          0.8916754171393354,
          0.8679118586439573,
          0.8419746282368576,
          0.8139286853129823,
          0.7838442705053682,
          0.7517967297685574,
          0.7178663256758119,
          0.6821380364027322,
          0.644701342900723,
          0.6056500047933251,
          0.5650818255566792,
          0.5230984075722233,
          0.4798048976650892,
          0.43530972376549576,
          0.3897243233526632,
          0.3431628643613561,
          0.2957419592500619,
          0.24758037294684387,
          0.1987987254044547,
          0.14951918950946386,
          0.09986518510219598,
          0.0499610698735818,
          -0.00006817208671141684,
          -0.05009724331106825,
          -0.10000084675945041,
          -0.1496539996239647,
          -0.19893234634632792,
          -0.24771247006450797,
          -0.29587220170830203,
          -0.3432909259699508,
          -0.3898498833832685,
          -0.4354324677549544,
          -0.47992451820295967,
          -0.5232146050707129,
          -0.5651943090009329,
          -0.6057584924702912,
          -0.6448055631046762,
          -0.6822377281157787,
          -0.7179612392215832,
          -0.7518866274375419,
          -0.7839289271502308,
          -0.8140078889124612,
          -0.8420481804267511,
          -0.86797957521394,
          -0.891737128494295,
          -0.9132613398407434,
          -0.9324983021967507,
          -0.949399836885739,
          -0.9639236142738217,
          -0.9760332597837387,
          -0.9856984449944106,
          -0.9928949635980168,
          -0.9976047920243098,
          -0.9998161345803792,
          -0.999523452992777,
          -0.9967274802780414,
          -0.9914352189068678,
          -0.9836599232665265,
          -0.9734210664654585,
          -0.9607442915631662,
          -0.9456613473475767,
          -0.9282100088206758,
          -0.9084339825916132,
          -0.8863827974141519,
          -0.8621116801426878,
          -0.8356814174174166,
          -0.8071582034251557,
          -0.7766134741169896,
          -0.7441237282980616,
          -0.7097703360374565,
          -0.6736393348781509,
          -0.6358212143572689,
          -0.5964106893764691,
          -0.5555064629898854,
          -0.5132109792038898,
          -0.46963016640760646,
          -0.4248731720769369,
          -0.3790520894163348,
          -0.33228167662314834,
          -0.2846790694774274,
          -0.23636348797721496,
          -0.1874559377538406,
          -0.13807890701523107,
          -0.08835605977602062,
          -0.03841192614298276,
          0.011628409568764734,
          0.06163962210744801,
          0.11149645915986096,
          0.16107405504380207,
          0.21024824343231302,
          0.2588958683262801,
          0.30689509249679714,
          0.3541257026245777,
          0.40046941037242006,
          0.4458101486364765,
          0.4900343622345835,
          0.5330312923034193,
          0.5746932536924243,
          0.6149159046595579,
          0.6535985081936345,
          0.6906441843085743,
          0.7259601526778839,
          0.7594579650015155,
          0.7910537265233154,
          0.8206683061441138,
          0.8482275346043818,
          0.873662390239969,
          0.8969091718458312,
          0.9179096582146916,
          0.9366112539511853,
          0.952967121196195,
          0.9669362969315703,
          0.9784837955713597,
          0.9875806965826872,
          0.9942042169167706,
          0.9983377680687266,
          0.9999709976232194,
          0.9990998151819299,
          0.995726402607894,
          0.9898592085610594,
          0.9815129273387494,
          0.9707084620740157,
          0.9574728723840716,
          0.9418393065998845,
          0.9238469187467053,
          0.9035407704833964,
          0.8809717182462199,
          0.8561962858796515,
          0.829276523073306,
          0.8002798499594159,
          0.7692788882601761,
          0.7363512794077243,
          0.7015794900924023,
          0.6650506057261603,
          0.6268561123385203,
          0.5870916674511798,
          0.545856860505262,
          0.5032549634410461,
          0.4593926720550267,
          0.4143798387818825,
          0.36832919757079224,
          0.3213560815449401,
          0.27357813415153337,
          0.2251150145255437,
          0.17608809780529672,
          0.1266201711502484,
          0.07683512622248678,
          0.026857648901912286,
          -0.02318709298757594,
          -0.07317376315902802,
          -0.12297717076519103,
          -0.17247258393711876,
          -0.221536042173164,
          -0.27004466679620603,
          -0.3178769687013535,
          -0.36491315262359547,
          -0.41103541716314723,
          -0.45612824981729927,
          -0.5000787162796527,
          -0.5427767432824049,
          -0.5841153942731079,
          -0.623991137235668,
          -0.6623041039846432,
          -0.6989583402836232,
          -0.733862046161097,
          -0.7669278058221116,
          -0.7980728065797484,
          -0.8272190462582616,
          -0.8542935285482937,
          -0.8792284458250432,
          -0.9019613489713886,
          -0.9224353037807703,
          -0.9405990335480106,
          -0.9564070474910564,
          -0.9698197546819239,
          -0.9808035632015867,
          -0.9893309642704055,
          -0.995380601143457,
          -0.9989373225981628,
          -0.9999922208803012,
          -0.9985426540133361,
          -0.9945922524152082,
          -0.9881509098060105,
          -0.9792347584293141,
          -0.967866128649219,
          -0.9540734930242908,
          -0.9378913949984878,
          -0.9193603623876214,
          -0.8985268058780819,
          -0.8754429027919668,
          -0.8501664664098038,
          -0.8227608011780511,
          -0.7932945441641134,
          -0.7618414931558302,
          -0.7284804218360833,
          -0.6932948824952838,
          -0.6563729967759818,
          -0.6178072349735276,
          -0.5776941844456797,
          -0.5361343077110077,
          -0.49323169084210444,
          -0.44909378278356965,
          -0.4038311262478276,
          -0.3575570808625532,
          -0.31038753926327783,
          -0.2624406368420119,
          -0.21383645587902503,
          -0.16469672479856592,
          -0.1151445133019498,
          -0.06530392414132705,
          -0.015299782306303883,
          0.03474267759838223,
          0.08469812500094889,
          0.1344414472511164,
          0.18384806296276093,
          0.232794234026138,
          0.28115737550802056,
          0.3288163626638359,
          0.3756518342926721,
          0.42154649167562547,
          0.4663853923485861,
          0.510056237973925,
          0.5524496555899039,
          0.5934594715336265,
          0.6329829773512977,
          0.6709211870300138,
          0.7071790849066663,
          0.7416658636332523,
          0.7742951516024412,
          0.8049852292639775,
          0.8336592337900006,
          0.8602453515768513,
          0.8846769981011061,
          0.9068929846795226,
          0.9268376717151288,
          0.9444611080457637,
          0.959719156045973,
          0.9725736021690335,
          0.982992252652176,
          0.9909490141453847,
          0.9964239590617786,
          0.9994033754859563,
          0.9998798015152709,
          0.9978520439480538,
          0.9933251812719699,
          0.9863105509450203,
          0.9768257210010585,
          0.9648944460509115,
          0.9505466077893331,
          0.9338181401567447,
          0.9147509393432504,
          0.8933927588602532,
          0.8697970899425418,
          0.8440230275802909,
          0.8161351225165928,
          0.7862032195810843,
          0.7543022827646715,
          0.7205122074733558,
          0.6849176204314014,
          0.6476076677350402,
          0.6086757915874024,
          0.5682194962739973,
          0.5263401039646851,
          0.48314250095390515,
          0.4387348749745157,
          0.3932284442433289,
          0.3467371789167458,
          0.2993775156543025,
          0.2512680660047929,
          0.20252931934552176,
          0.1532833411184561,
          0.10365346711925696,
          0.05376399460461892,
          0.0037398709917571024,
          -0.046293619070535544,
          -0.09621116747530904,
          -0.1458877564897412,
          -0.19519897186007154,
          -0.24402131440524427,
          -0.29223250931865313,
          -0.33971181240357107,
          -0.38634031247508027,
          -0.4320012291713616,
          -0.4765802054282627,
          -0.5199655938848601,
          -0.5620487365025075,
          -0.6027242366972738,
          -0.6418902233040191,
          -0.6794486057112094,
          -0.7153053195272999,
          -0.7493705621636023,
          -0.7815590177434459,
          -0.8117900707745193,
          -0.8399880080490946,
          -0.8660822082666275,
          -0.890007318903687,
          -0.9117034198883757,
          -0.9311161736692012,
          -0.9481969613026644,
          -0.9629030042186335,
          -0.9751974713586353,
          -0.9850495714186582,
          -0.9924346299655137,
          -0.9973341512335642,
          -0.9997358644470923,
          -0.9996337545522639,
          -0.9970280772817414,
          -0.9919253585142048,
          -0.9843383779303867,
          -0.9742861370065627,
          -0.9617938114256389,
          -0.9468926880250516,
          -0.9296200864393496,
          -0.9100192656337603,
          -0.8881393155627563,
          -0.8640350342250407,
          -0.8377667904227775,
          -0.8094003725688809,
          -0.7790068239209168,
          -0.7466622646543883,
          -0.7124477012208913,
          -0.676448823468738,
          -0.6387557900340101,
          -0.5994630025396811,
          -0.5586688691681595,
          -0.516475558199553,
          -0.47298874213273506,
          -0.4283173330302425,
          -0.3825732097496404,
          -0.3358709377446925,
          -0.2883274821378918,
          -0.240061914783161,
          -0.191195116052171,
          -0.14184947209136214,
          -0.09214856830766602,
          -0.04221687985080905,
          0.007820540132843461,
          0.057838373693913876,
          0.10771135193694728,
          0.15731456875437833,
          0.20652379365201445,
          0.25521578288234337,
          0.3032685881066603,
          0.35056186181275284,
          0.39697715872345063,
          0.44239823244094767,
          0.48671132658417193,
          0.5298054596898423,
          0.5715727031638873,
          0.6119084515869024,
          0.6507116846968617,
          0.6878852203927667,
          0.7233359581257682,
          0.7569751120680183,
          0.7887184334754517,
          0.8184864216874326,
          0.8462045232349733,
          0.8718033185587176,
          0.8952186958691922,
          0.9163920117137689,
          0.935270237848317,
          0.9518060940456015,
          0.9659581665079076,
          0.9776910115872416,
          0.9869752445534182,
          0.9937876131876534,
          0.9981110560173984,
          0.9999347450465284,
          0.9992541128738973,
          0.9960708641323216,
          0.990392971219353,
          0.9822346543305344,
          0.9716163458451327,
          0.9585646391535685,
          0.9431122220546655,
          0.9252977948895763,
          0.9051659736173551,
          0.8827671780749936,
          0.8581575057016921,
          0.8313985910437097,
          0.8025574513915632,
          0.7717063189362828,
          0.7389224598649674,
          0.704287980848841,
          0.6678896234083198,
          0.6298185466702463,
          0.5901700990612158,
          0.5490435795089506,
          0.5065419887496168,
          0.46277177136410974,
          0.4178425491891891,
          0.371866846771323,
          0.3249598095506395,
          0.27723891548099405,
          0.22882368080818571,
          0.17983536074341075,
          0.13039664578139465,
          0.08063135442398922,
          0.030664123078581483,
          -0.019379906091816765,
          -0.06937539858524963,
          -0.11919714145909441,
          -0.16872035692400872,
          -0.21782101484792987,
          -0.26637614338769056,
          -0.3142641369700547,
          -0.3613650608510615,
          -0.40756095149069466,
          -0.45273611199080843,
          -0.49677740185617886,
          -0.5395745203531865,
          -0.5810202827562586,
          -0.6210108887904155,
          -0.6594461825974176,
          -0.6962299035746176,
          -0.7312699274581227,
          -0.764478497046619,
          -0.7957724419879242,
          -0.8250733870778695,
          -0.852307948549784,
          -0.8774079178630034,
          -0.9003104325301213,
          -0.9209581335551285,
          -0.9392993090881282,
          -0.9552880239368661,
          -0.9688842346107197,
          -0.9800538896090083,
          -0.9887690147024473,
          -0.9950077829941741,
          -0.9987545695848808,
          -0.9999999907051332,
          -0.9987409272168752,
          -0.9949805324252633,
          -0.9887282241812635,
          -0.9799996612947859,
          -0.9688167043174353,
          -0.9552073607931008,
          -0.93920571511349,
          -0.9208518431542893,
          -0.900191711905751,
          -0.8772770643490805,
          -0.8521652898669299,
          -0.8249192805125637,
          -0.795607273497683,
          -0.7643026802933875,
          -0.7310839027722664,
          -0.6960341368521039,
          -0.6592411641329896,
          -0.6207971320496611,
          -0.5807983230896611,
          -0.5393449136553141,
          -0.49654072317347775,
          -0.4524929540813957,
          -0.4073119233398303,
          -0.3611107861459159,
          -0.3140052525377191,
          -0.2661132976002404,
          -0.2175548659986139,
          -0.16845157157852306,
          -0.11892639278620604,
          -0.06910336467084179,
          -0.019107268240661578,
          0.03093668204918284,
          0.08090315189428363,
          0.13066700103880183,
          0.18010359668732934,
          0.22908912564582354,
          0.2775009044098346,
          0.32521768642344356,
          0.37211996573941225,
          0.4180902763200048,
          0.4630134862288598,
          0.5067770859771433,
          0.549271470301848,
          0.5903902126705016,
          0.630030331824769,
          0.6680925496954198,
          0.7044815400427403,
          0.739106167199645,
          0.771879714319542,
          0.8027201005573358,
          0.8315500866396511,
          0.8582974683094148,
          0.8828952571602975,
          0.9052818484081423,
          0.9254011751792083,
          0.9432028489287985,
          0.958642285638589,
          0.9716808174766141,
          0.9822857896402629,
          0.9904306421397331,
          0.9960949763171121,
          0.9992646059345021,
          0.999931592703238,
          0.9980942661652085,
          0.9937572278764907,
          0.9869313398828264,
          0.9776336975157957,
          0.9658875865778177,
          0.9517224250232177,
          0.9351736892814175,
          0.916282825406761,
          0.8950971452775011,
          0.8716697081039321,
          0.8460591875424202,
          0.818329724748128,
          0.7885507677344683,
          0.7567968974416275,
          0.7231476409497581,
          0.6876872723046203,
          0.6505046014545189,
          0.611692751827161,
          0.5713489271034748,
          0.5295741677724747,
          0.48647309807689587,
          0.44215366398339845,
          0.3967268628335651,
          0.35030646535275367,
          0.30300873071305,
          0.2549521153639707,
          0.2062569763601202,
          0.15704526992878334,
          0.10744024603241473,
          0.05756613969101521,
          0.007547859837448099,
          -0.042489323515077705,
          -0.0924200930098449,
          -0.14211939780200747,
          -0.1914627667464957,
          -0.24032662013410053,
          -0.2885885791949698,
          -0.33612777259434207,
          -0.3828251391529342,
          -0.4285637260338487,
          -0.4732289816491692,
          -0.5167090425526384,
          -0.5588950135999277,
          -0.5996812406748665,
          -0.638965575298563,
          -0.6766496304586874,
          -0.7126390270182219,
          -0.7468436300865711,
          -0.7791777747610189,
          -0.8095604806731506,
          -0.8379156548029322,
          -0.8641722820525203,
          -0.8882646031024899,
          -0.9101322791050303,
          -0.9297205428016565,
          -0.9469803356869746,
          -0.9618684308749583,
          -0.9743475413600146,
          -0.9843864134017125,
          -0.9919599047993026,
          -0.9970490478599721,
          -0.9996410969031367,
          -0.9997295601818021,
          -0.997314216141047,
          -0.992401113972902,
          -0.9850025584662405,
          -0.9751370791896269,
          -0.9628293840842966,
          -0.9481102975834924,
          -0.931016683413147,
          -0.9115913522672537,
          -0.8898829545891379,
          -0.8659458587271629,
          -0.8398400147700404,
          -0.8116308044027646,
          -0.7813888771591795,
          -0.7491899734812983,
          -0.7151147350285381,
          -0.6792485027119324,
          -0.6416811029591242,
          -0.6025066227454455,
          -0.561823173954544,
          -0.51973264765869,
          -0.47634045893414173,
          -0.43175528285069364,
          -0.38608878229664584,
          -0.3394553283208297,
          -0.29197171369206176,
          -0.243756860393435,
          -0.1949315217840528,
          -0.14561798017411107,
          -0.09593974057071811,
          -0.04602122136148797,
          0.004012557289385268,
          0.054036286552193065,
          0.10392468276576484,
          0.15355280120848624,
          0.2027963490204198,
          0.2515319964928487,
          0.2996376859456511,
          0.34699293741889786,
          0.3934791504130462,
          0.43897990092205547,
          0.4833812330155347,
          0.5265719442396314,
          0.5684438641218545,
          0.6088921250823495,
          0.6478154250731526,
          0.6851162812876241,
          0.7207012743046274,
          0.7544812820560236,
          0.7863717030315331,
          0.8162926681619266,
          0.8441692408498703,
          0.8699316046474761,
          0.893515238110531,
          0.914861076391469,
          0.9339156591663651,
          0.9506312645254915,
          0.9649660284921133
         ]
        }
       ],
       "layout": {
        "template": {
         "data": {
          "bar": [
           {
            "error_x": {
             "color": "#2a3f5f"
            },
            "error_y": {
             "color": "#2a3f5f"
            },
            "marker": {
             "line": {
              "color": "#E5ECF6",
              "width": 0.5
             },
             "pattern": {
              "fillmode": "overlay",
              "size": 10,
              "solidity": 0.2
             }
            },
            "type": "bar"
           }
          ],
          "barpolar": [
           {
            "marker": {
             "line": {
              "color": "#E5ECF6",
              "width": 0.5
             },
             "pattern": {
              "fillmode": "overlay",
              "size": 10,
              "solidity": 0.2
             }
            },
            "type": "barpolar"
           }
          ],
          "carpet": [
           {
            "aaxis": {
             "endlinecolor": "#2a3f5f",
             "gridcolor": "white",
             "linecolor": "white",
             "minorgridcolor": "white",
             "startlinecolor": "#2a3f5f"
            },
            "baxis": {
             "endlinecolor": "#2a3f5f",
             "gridcolor": "white",
             "linecolor": "white",
             "minorgridcolor": "white",
             "startlinecolor": "#2a3f5f"
            },
            "type": "carpet"
           }
          ],
          "choropleth": [
           {
            "colorbar": {
             "outlinewidth": 0,
             "ticks": ""
            },
            "type": "choropleth"
           }
          ],
          "contour": [
           {
            "colorbar": {
             "outlinewidth": 0,
             "ticks": ""
            },
            "colorscale": [
             [
              0,
              "#0d0887"
             ],
             [
              0.1111111111111111,
              "#46039f"
             ],
             [
              0.2222222222222222,
              "#7201a8"
             ],
             [
              0.3333333333333333,
              "#9c179e"
             ],
             [
              0.4444444444444444,
              "#bd3786"
             ],
             [
              0.5555555555555556,
              "#d8576b"
             ],
             [
              0.6666666666666666,
              "#ed7953"
             ],
             [
              0.7777777777777778,
              "#fb9f3a"
             ],
             [
              0.8888888888888888,
              "#fdca26"
             ],
             [
              1,
              "#f0f921"
             ]
            ],
            "type": "contour"
           }
          ],
          "contourcarpet": [
           {
            "colorbar": {
             "outlinewidth": 0,
             "ticks": ""
            },
            "type": "contourcarpet"
           }
          ],
          "heatmap": [
           {
            "colorbar": {
             "outlinewidth": 0,
             "ticks": ""
            },
            "colorscale": [
             [
              0,
              "#0d0887"
             ],
             [
              0.1111111111111111,
              "#46039f"
             ],
             [
              0.2222222222222222,
              "#7201a8"
             ],
             [
              0.3333333333333333,
              "#9c179e"
             ],
             [
              0.4444444444444444,
              "#bd3786"
             ],
             [
              0.5555555555555556,
              "#d8576b"
             ],
             [
              0.6666666666666666,
              "#ed7953"
             ],
             [
              0.7777777777777778,
              "#fb9f3a"
             ],
             [
              0.8888888888888888,
              "#fdca26"
             ],
             [
              1,
              "#f0f921"
             ]
            ],
            "type": "heatmap"
           }
          ],
          "heatmapgl": [
           {
            "colorbar": {
             "outlinewidth": 0,
             "ticks": ""
            },
            "colorscale": [
             [
              0,
              "#0d0887"
             ],
             [
              0.1111111111111111,
              "#46039f"
             ],
             [
              0.2222222222222222,
              "#7201a8"
             ],
             [
              0.3333333333333333,
              "#9c179e"
             ],
             [
              0.4444444444444444,
              "#bd3786"
             ],
             [
              0.5555555555555556,
              "#d8576b"
             ],
             [
              0.6666666666666666,
              "#ed7953"
             ],
             [
              0.7777777777777778,
              "#fb9f3a"
             ],
             [
              0.8888888888888888,
              "#fdca26"
             ],
             [
              1,
              "#f0f921"
             ]
            ],
            "type": "heatmapgl"
           }
          ],
          "histogram": [
           {
            "marker": {
             "pattern": {
              "fillmode": "overlay",
              "size": 10,
              "solidity": 0.2
             }
            },
            "type": "histogram"
           }
          ],
          "histogram2d": [
           {
            "colorbar": {
             "outlinewidth": 0,
             "ticks": ""
            },
            "colorscale": [
             [
              0,
              "#0d0887"
             ],
             [
              0.1111111111111111,
              "#46039f"
             ],
             [
              0.2222222222222222,
              "#7201a8"
             ],
             [
              0.3333333333333333,
              "#9c179e"
             ],
             [
              0.4444444444444444,
              "#bd3786"
             ],
             [
              0.5555555555555556,
              "#d8576b"
             ],
             [
              0.6666666666666666,
              "#ed7953"
             ],
             [
              0.7777777777777778,
              "#fb9f3a"
             ],
             [
              0.8888888888888888,
              "#fdca26"
             ],
             [
              1,
              "#f0f921"
             ]
            ],
            "type": "histogram2d"
           }
          ],
          "histogram2dcontour": [
           {
            "colorbar": {
             "outlinewidth": 0,
             "ticks": ""
            },
            "colorscale": [
             [
              0,
              "#0d0887"
             ],
             [
              0.1111111111111111,
              "#46039f"
             ],
             [
              0.2222222222222222,
              "#7201a8"
             ],
             [
              0.3333333333333333,
              "#9c179e"
             ],
             [
              0.4444444444444444,
              "#bd3786"
             ],
             [
              0.5555555555555556,
              "#d8576b"
             ],
             [
              0.6666666666666666,
              "#ed7953"
             ],
             [
              0.7777777777777778,
              "#fb9f3a"
             ],
             [
              0.8888888888888888,
              "#fdca26"
             ],
             [
              1,
              "#f0f921"
             ]
            ],
            "type": "histogram2dcontour"
           }
          ],
          "mesh3d": [
           {
            "colorbar": {
             "outlinewidth": 0,
             "ticks": ""
            },
            "type": "mesh3d"
           }
          ],
          "parcoords": [
           {
            "line": {
             "colorbar": {
              "outlinewidth": 0,
              "ticks": ""
             }
            },
            "type": "parcoords"
           }
          ],
          "pie": [
           {
            "automargin": true,
            "type": "pie"
           }
          ],
          "scatter": [
           {
            "fillpattern": {
             "fillmode": "overlay",
             "size": 10,
             "solidity": 0.2
            },
            "type": "scatter"
           }
          ],
          "scatter3d": [
           {
            "line": {
             "colorbar": {
              "outlinewidth": 0,
              "ticks": ""
             }
            },
            "marker": {
             "colorbar": {
              "outlinewidth": 0,
              "ticks": ""
             }
            },
            "type": "scatter3d"
           }
          ],
          "scattercarpet": [
           {
            "marker": {
             "colorbar": {
              "outlinewidth": 0,
              "ticks": ""
             }
            },
            "type": "scattercarpet"
           }
          ],
          "scattergeo": [
           {
            "marker": {
             "colorbar": {
              "outlinewidth": 0,
              "ticks": ""
             }
            },
            "type": "scattergeo"
           }
          ],
          "scattergl": [
           {
            "marker": {
             "colorbar": {
              "outlinewidth": 0,
              "ticks": ""
             }
            },
            "type": "scattergl"
           }
          ],
          "scattermapbox": [
           {
            "marker": {
             "colorbar": {
              "outlinewidth": 0,
              "ticks": ""
             }
            },
            "type": "scattermapbox"
           }
          ],
          "scatterpolar": [
           {
            "marker": {
             "colorbar": {
              "outlinewidth": 0,
              "ticks": ""
             }
            },
            "type": "scatterpolar"
           }
          ],
          "scatterpolargl": [
           {
            "marker": {
             "colorbar": {
              "outlinewidth": 0,
              "ticks": ""
             }
            },
            "type": "scatterpolargl"
           }
          ],
          "scatterternary": [
           {
            "marker": {
             "colorbar": {
              "outlinewidth": 0,
              "ticks": ""
             }
            },
            "type": "scatterternary"
           }
          ],
          "surface": [
           {
            "colorbar": {
             "outlinewidth": 0,
             "ticks": ""
            },
            "colorscale": [
             [
              0,
              "#0d0887"
             ],
             [
              0.1111111111111111,
              "#46039f"
             ],
             [
              0.2222222222222222,
              "#7201a8"
             ],
             [
              0.3333333333333333,
              "#9c179e"
             ],
             [
              0.4444444444444444,
              "#bd3786"
             ],
             [
              0.5555555555555556,
              "#d8576b"
             ],
             [
              0.6666666666666666,
              "#ed7953"
             ],
             [
              0.7777777777777778,
              "#fb9f3a"
             ],
             [
              0.8888888888888888,
              "#fdca26"
             ],
             [
              1,
              "#f0f921"
             ]
            ],
            "type": "surface"
           }
          ],
          "table": [
           {
            "cells": {
             "fill": {
              "color": "#EBF0F8"
             },
             "line": {
              "color": "white"
             }
            },
            "header": {
             "fill": {
              "color": "#C8D4E3"
             },
             "line": {
              "color": "white"
             }
            },
            "type": "table"
           }
          ]
         },
         "layout": {
          "annotationdefaults": {
           "arrowcolor": "#2a3f5f",
           "arrowhead": 0,
           "arrowwidth": 1
          },
          "autotypenumbers": "strict",
          "coloraxis": {
           "colorbar": {
            "outlinewidth": 0,
            "ticks": ""
           }
          },
          "colorscale": {
           "diverging": [
            [
             0,
             "#8e0152"
            ],
            [
             0.1,
             "#c51b7d"
            ],
            [
             0.2,
             "#de77ae"
            ],
            [
             0.3,
             "#f1b6da"
            ],
            [
             0.4,
             "#fde0ef"
            ],
            [
             0.5,
             "#f7f7f7"
            ],
            [
             0.6,
             "#e6f5d0"
            ],
            [
             0.7,
             "#b8e186"
            ],
            [
             0.8,
             "#7fbc41"
            ],
            [
             0.9,
             "#4d9221"
            ],
            [
             1,
             "#276419"
            ]
           ],
           "sequential": [
            [
             0,
             "#0d0887"
            ],
            [
             0.1111111111111111,
             "#46039f"
            ],
            [
             0.2222222222222222,
             "#7201a8"
            ],
            [
             0.3333333333333333,
             "#9c179e"
            ],
            [
             0.4444444444444444,
             "#bd3786"
            ],
            [
             0.5555555555555556,
             "#d8576b"
            ],
            [
             0.6666666666666666,
             "#ed7953"
            ],
            [
             0.7777777777777778,
             "#fb9f3a"
            ],
            [
             0.8888888888888888,
             "#fdca26"
            ],
            [
             1,
             "#f0f921"
            ]
           ],
           "sequentialminus": [
            [
             0,
             "#0d0887"
            ],
            [
             0.1111111111111111,
             "#46039f"
            ],
            [
             0.2222222222222222,
             "#7201a8"
            ],
            [
             0.3333333333333333,
             "#9c179e"
            ],
            [
             0.4444444444444444,
             "#bd3786"
            ],
            [
             0.5555555555555556,
             "#d8576b"
            ],
            [
             0.6666666666666666,
             "#ed7953"
            ],
            [
             0.7777777777777778,
             "#fb9f3a"
            ],
            [
             0.8888888888888888,
             "#fdca26"
            ],
            [
             1,
             "#f0f921"
            ]
           ]
          },
          "colorway": [
           "#636efa",
           "#EF553B",
           "#00cc96",
           "#ab63fa",
           "#FFA15A",
           "#19d3f3",
           "#FF6692",
           "#B6E880",
           "#FF97FF",
           "#FECB52"
          ],
          "font": {
           "color": "#2a3f5f"
          },
          "geo": {
           "bgcolor": "white",
           "lakecolor": "white",
           "landcolor": "#E5ECF6",
           "showlakes": true,
           "showland": true,
           "subunitcolor": "white"
          },
          "hoverlabel": {
           "align": "left"
          },
          "hovermode": "closest",
          "mapbox": {
           "style": "light"
          },
          "paper_bgcolor": "white",
          "plot_bgcolor": "#E5ECF6",
          "polar": {
           "angularaxis": {
            "gridcolor": "white",
            "linecolor": "white",
            "ticks": ""
           },
           "bgcolor": "#E5ECF6",
           "radialaxis": {
            "gridcolor": "white",
            "linecolor": "white",
            "ticks": ""
           }
          },
          "scene": {
           "xaxis": {
            "backgroundcolor": "#E5ECF6",
            "gridcolor": "white",
            "gridwidth": 2,
            "linecolor": "white",
            "showbackground": true,
            "ticks": "",
            "zerolinecolor": "white"
           },
           "yaxis": {
            "backgroundcolor": "#E5ECF6",
            "gridcolor": "white",
            "gridwidth": 2,
            "linecolor": "white",
            "showbackground": true,
            "ticks": "",
            "zerolinecolor": "white"
           },
           "zaxis": {
            "backgroundcolor": "#E5ECF6",
            "gridcolor": "white",
            "gridwidth": 2,
            "linecolor": "white",
            "showbackground": true,
            "ticks": "",
            "zerolinecolor": "white"
           }
          },
          "shapedefaults": {
           "line": {
            "color": "#2a3f5f"
           }
          },
          "ternary": {
           "aaxis": {
            "gridcolor": "white",
            "linecolor": "white",
            "ticks": ""
           },
           "baxis": {
            "gridcolor": "white",
            "linecolor": "white",
            "ticks": ""
           },
           "bgcolor": "#E5ECF6",
           "caxis": {
            "gridcolor": "white",
            "linecolor": "white",
            "ticks": ""
           }
          },
          "title": {
           "x": 0.05
          },
          "xaxis": {
           "automargin": true,
           "gridcolor": "white",
           "linecolor": "white",
           "ticks": "",
           "title": {
            "standoff": 15
           },
           "zerolinecolor": "white",
           "zerolinewidth": 2
          },
          "yaxis": {
           "automargin": true,
           "gridcolor": "white",
           "linecolor": "white",
           "ticks": "",
           "title": {
            "standoff": 15
           },
           "zerolinecolor": "white",
           "zerolinewidth": 2
          }
         }
        },
        "xaxis": {
         "title": {
          "text": "Timestamp"
         }
        },
        "yaxis": {
         "title": {
          "text": "Amplitude"
         }
        }
       }
      }
     },
     "metadata": {},
     "output_type": "display_data"
    },
    {
     "name": "stdout",
     "output_type": "stream",
     "text": [
      "Shape of embedded time series: (99, 3)\n",
      "Persistence diagram for periodic signal\n"
     ]
    },
    {
     "data": {
      "application/vnd.plotly.v1+json": {
       "config": {
        "plotlyServerURL": "https://plot.ly"
       },
       "data": [
        {
         "hoverinfo": "none",
         "line": {
          "color": "black",
          "dash": "dash",
          "width": 1
         },
         "mode": "lines",
         "showlegend": false,
         "type": "scatter",
         "x": [
          -0.02211052656173706,
          1.12763685464859
         ],
         "y": [
          -0.02211052656173706,
          1.12763685464859
         ]
        },
        {
         "hoverinfo": "text",
         "hovertext": [
          "(0.0, 0.02968527376651764)",
          "(0.0, 0.029795430600643158)",
          "(0.0, 0.03002368099987507)",
          "(0.0, 0.03050810657441616)",
          "(0.0, 0.031009703874588013)",
          "(0.0, 0.031197810545563698)",
          "(0.0, 0.03184138238430023)",
          "(0.0, 0.032836440950632095)",
          "(0.0, 0.03369501978158951)",
          "(0.0, 0.034474197775125504)",
          "(0.0, 0.03494403138756752)",
          "(0.0, 0.03597357124090195)",
          "(0.0, 0.036324262619018555)",
          "(0.0, 0.03743264824151993)",
          "(0.0, 0.03896735608577728)",
          "(0.0, 0.04018314555287361)",
          "(0.0, 0.041836339980363846)",
          "(0.0, 0.04312625527381897)",
          "(0.0, 0.04355393722653389)",
          "(0.0, 0.044873565435409546)",
          "(0.0, 0.046635083854198456)",
          "(0.0, 0.047987740486860275)",
          "(0.0, 0.049778807908296585)",
          "(0.0, 0.04979480803012848)",
          "(0.0, 0.051144301891326904)",
          "(0.0, 0.0515916533768177)",
          "(0.0, 0.05295679718255997)",
          "(0.0, 0.05322013795375824)",
          "(0.0, 0.05474717915058136)",
          "(0.0, 0.05610024556517601)",
          "(0.0, 0.05654143914580345)",
          "(0.0, 0.05786613002419472)",
          "(0.0, 0.057881779968738556)",
          "(0.0, 0.05962660536170006)",
          "(0.0, 0.06093597412109375)",
          "(0.0, 0.060958050191402435)",
          "(0.0, 0.06251812726259232)",
          "(0.0, 0.06263338774442673)",
          "(0.0, 0.06390201300382614)",
          "(0.0, 0.06431311368942261)",
          "(0.0, 0.06441694498062134)",
          "(0.0, 0.06555449962615967)",
          "(0.0, 0.06715376675128937)",
          "(0.0, 0.06834161281585693)",
          "(0.0, 0.06986579298973083)",
          "(0.0, 0.07009414583444595)",
          "(0.0, 0.07045182585716248)",
          "(0.0, 0.07099325954914093)",
          "(0.0, 0.07135643810033798)",
          "(0.0, 0.07229393720626831)",
          "(0.0, 0.07244653254747391)",
          "(0.0, 0.07383588701486588)",
          "(0.0, 0.07485643029212952)",
          "(0.0, 0.07615092396736145)",
          "(0.0, 0.07616221159696579)",
          "(0.0, 0.07709696143865585)",
          "(0.0, 0.07739949971437454)",
          "(0.0, 0.07830081135034561)",
          "(0.0, 0.07943388819694519)",
          "(0.0, 0.08025401085615158)",
          "(0.0, 0.08051474392414093)",
          "(0.0, 0.08127783238887787)",
          "(0.0, 0.08128666877746582)",
          "(0.0, 0.082245834171772)",
          "(0.0, 0.08293113857507706)",
          "(0.0, 0.08360593765974045)",
          "(0.0, 0.08377436548471451)",
          "(0.0, 0.08437017351388931)",
          "(0.0, 0.08445972949266434)",
          "(0.0, 0.08455673605203629)",
          "(0.0, 0.08510011434555054)",
          "(0.0, 0.08575408160686493)",
          "(0.0, 0.08620430529117584)",
          "(0.0, 0.08621446043252945)",
          "(0.0, 0.08673445880413055)",
          "(0.0, 0.08708971738815308)",
          "(0.0, 0.08719705045223236)",
          "(0.0, 0.08749721944332123)",
          "(0.0, 0.08782850950956345)",
          "(0.0, 0.08803168684244156)",
          "(0.0, 0.0882347822189331)",
          "(0.0, 0.0882362648844719)",
          "(0.0, 0.08834017068147659)",
          "(0.0, 0.08836548030376434)",
          "(0.0, 0.08841460943222046)",
          "(0.0, 0.08992592990398407)",
          "(0.0, 0.09091322124004364)",
          "(0.0, 0.09519478678703308)",
          "(0.0, 0.10005733370780945)",
          "(0.0, 0.10064806789159775)",
          "(0.0, 0.10136561095714569)",
          "(0.0, 0.1307404488325119)",
          "(0.0, 0.14408095180988312)",
          "(0.0, 0.14662951231002808)",
          "(0.0, 0.1584176868200302)",
          "(0.0, 0.17793190479278564)",
          "(0.0, 0.18398863077163696)",
          "(0.0, 0.18495459854602814)"
         ],
         "mode": "markers",
         "name": "H0",
         "type": "scatter",
         "x": [
          0,
          0,
          0,
          0,
          0,
          0,
          0,
          0,
          0,
          0,
          0,
          0,
          0,
          0,
          0,
          0,
          0,
          0,
          0,
          0,
          0,
          0,
          0,
          0,
          0,
          0,
          0,
          0,
          0,
          0,
          0,
          0,
          0,
          0,
          0,
          0,
          0,
          0,
          0,
          0,
          0,
          0,
          0,
          0,
          0,
          0,
          0,
          0,
          0,
          0,
          0,
          0,
          0,
          0,
          0,
          0,
          0,
          0,
          0,
          0,
          0,
          0,
          0,
          0,
          0,
          0,
          0,
          0,
          0,
          0,
          0,
          0,
          0,
          0,
          0,
          0,
          0,
          0,
          0,
          0,
          0,
          0,
          0,
          0,
          0,
          0,
          0,
          0,
          0,
          0,
          0,
          0,
          0,
          0,
          0,
          0,
          0,
          0
         ],
         "y": [
          0.02968527376651764,
          0.029795430600643158,
          0.03002368099987507,
          0.03050810657441616,
          0.031009703874588013,
          0.031197810545563698,
          0.03184138238430023,
          0.032836440950632095,
          0.03369501978158951,
          0.034474197775125504,
          0.03494403138756752,
          0.03597357124090195,
          0.036324262619018555,
          0.03743264824151993,
          0.03896735608577728,
          0.04018314555287361,
          0.041836339980363846,
          0.04312625527381897,
          0.04355393722653389,
          0.044873565435409546,
          0.046635083854198456,
          0.047987740486860275,
          0.049778807908296585,
          0.04979480803012848,
          0.051144301891326904,
          0.0515916533768177,
          0.05295679718255997,
          0.05322013795375824,
          0.05474717915058136,
          0.05610024556517601,
          0.05654143914580345,
          0.05786613002419472,
          0.057881779968738556,
          0.05962660536170006,
          0.06093597412109375,
          0.060958050191402435,
          0.06251812726259232,
          0.06263338774442673,
          0.06390201300382614,
          0.06431311368942261,
          0.06441694498062134,
          0.06555449962615967,
          0.06715376675128937,
          0.06834161281585693,
          0.06986579298973083,
          0.07009414583444595,
          0.07045182585716248,
          0.07099325954914093,
          0.07135643810033798,
          0.07229393720626831,
          0.07244653254747391,
          0.07383588701486588,
          0.07485643029212952,
          0.07615092396736145,
          0.07616221159696579,
          0.07709696143865585,
          0.07739949971437454,
          0.07830081135034561,
          0.07943388819694519,
          0.08025401085615158,
          0.08051474392414093,
          0.08127783238887787,
          0.08128666877746582,
          0.082245834171772,
          0.08293113857507706,
          0.08360593765974045,
          0.08377436548471451,
          0.08437017351388931,
          0.08445972949266434,
          0.08455673605203629,
          0.08510011434555054,
          0.08575408160686493,
          0.08620430529117584,
          0.08621446043252945,
          0.08673445880413055,
          0.08708971738815308,
          0.08719705045223236,
          0.08749721944332123,
          0.08782850950956345,
          0.08803168684244156,
          0.0882347822189331,
          0.0882362648844719,
          0.08834017068147659,
          0.08836548030376434,
          0.08841460943222046,
          0.08992592990398407,
          0.09091322124004364,
          0.09519478678703308,
          0.10005733370780945,
          0.10064806789159775,
          0.10136561095714569,
          0.1307404488325119,
          0.14408095180988312,
          0.14662951231002808,
          0.1584176868200302,
          0.17793190479278564,
          0.18398863077163696,
          0.18495459854602814
         ]
        },
        {
         "hoverinfo": "text",
         "hovertext": [
          "(1.1024160385131836, 1.10381019115448)",
          "(1.1014952659606934, 1.1029412746429443)",
          "(1.0999013185501099, 1.101456642150879)",
          "(0.18843939900398254, 1.105526328086853)"
         ],
         "mode": "markers",
         "name": "H1",
         "type": "scatter",
         "x": [
          1.1024160385131836,
          1.1014952659606934,
          1.0999013185501099,
          0.18843939900398254
         ],
         "y": [
          1.10381019115448,
          1.1029412746429443,
          1.101456642150879,
          1.105526328086853
         ]
        },
        {
         "hoverinfo": "text",
         "hovertext": [],
         "mode": "markers",
         "name": "H2",
         "type": "scatter",
         "x": [],
         "y": []
        }
       ],
       "layout": {
        "height": 500,
        "plot_bgcolor": "white",
        "template": {
         "data": {
          "bar": [
           {
            "error_x": {
             "color": "#2a3f5f"
            },
            "error_y": {
             "color": "#2a3f5f"
            },
            "marker": {
             "line": {
              "color": "#E5ECF6",
              "width": 0.5
             },
             "pattern": {
              "fillmode": "overlay",
              "size": 10,
              "solidity": 0.2
             }
            },
            "type": "bar"
           }
          ],
          "barpolar": [
           {
            "marker": {
             "line": {
              "color": "#E5ECF6",
              "width": 0.5
             },
             "pattern": {
              "fillmode": "overlay",
              "size": 10,
              "solidity": 0.2
             }
            },
            "type": "barpolar"
           }
          ],
          "carpet": [
           {
            "aaxis": {
             "endlinecolor": "#2a3f5f",
             "gridcolor": "white",
             "linecolor": "white",
             "minorgridcolor": "white",
             "startlinecolor": "#2a3f5f"
            },
            "baxis": {
             "endlinecolor": "#2a3f5f",
             "gridcolor": "white",
             "linecolor": "white",
             "minorgridcolor": "white",
             "startlinecolor": "#2a3f5f"
            },
            "type": "carpet"
           }
          ],
          "choropleth": [
           {
            "colorbar": {
             "outlinewidth": 0,
             "ticks": ""
            },
            "type": "choropleth"
           }
          ],
          "contour": [
           {
            "colorbar": {
             "outlinewidth": 0,
             "ticks": ""
            },
            "colorscale": [
             [
              0,
              "#0d0887"
             ],
             [
              0.1111111111111111,
              "#46039f"
             ],
             [
              0.2222222222222222,
              "#7201a8"
             ],
             [
              0.3333333333333333,
              "#9c179e"
             ],
             [
              0.4444444444444444,
              "#bd3786"
             ],
             [
              0.5555555555555556,
              "#d8576b"
             ],
             [
              0.6666666666666666,
              "#ed7953"
             ],
             [
              0.7777777777777778,
              "#fb9f3a"
             ],
             [
              0.8888888888888888,
              "#fdca26"
             ],
             [
              1,
              "#f0f921"
             ]
            ],
            "type": "contour"
           }
          ],
          "contourcarpet": [
           {
            "colorbar": {
             "outlinewidth": 0,
             "ticks": ""
            },
            "type": "contourcarpet"
           }
          ],
          "heatmap": [
           {
            "colorbar": {
             "outlinewidth": 0,
             "ticks": ""
            },
            "colorscale": [
             [
              0,
              "#0d0887"
             ],
             [
              0.1111111111111111,
              "#46039f"
             ],
             [
              0.2222222222222222,
              "#7201a8"
             ],
             [
              0.3333333333333333,
              "#9c179e"
             ],
             [
              0.4444444444444444,
              "#bd3786"
             ],
             [
              0.5555555555555556,
              "#d8576b"
             ],
             [
              0.6666666666666666,
              "#ed7953"
             ],
             [
              0.7777777777777778,
              "#fb9f3a"
             ],
             [
              0.8888888888888888,
              "#fdca26"
             ],
             [
              1,
              "#f0f921"
             ]
            ],
            "type": "heatmap"
           }
          ],
          "heatmapgl": [
           {
            "colorbar": {
             "outlinewidth": 0,
             "ticks": ""
            },
            "colorscale": [
             [
              0,
              "#0d0887"
             ],
             [
              0.1111111111111111,
              "#46039f"
             ],
             [
              0.2222222222222222,
              "#7201a8"
             ],
             [
              0.3333333333333333,
              "#9c179e"
             ],
             [
              0.4444444444444444,
              "#bd3786"
             ],
             [
              0.5555555555555556,
              "#d8576b"
             ],
             [
              0.6666666666666666,
              "#ed7953"
             ],
             [
              0.7777777777777778,
              "#fb9f3a"
             ],
             [
              0.8888888888888888,
              "#fdca26"
             ],
             [
              1,
              "#f0f921"
             ]
            ],
            "type": "heatmapgl"
           }
          ],
          "histogram": [
           {
            "marker": {
             "pattern": {
              "fillmode": "overlay",
              "size": 10,
              "solidity": 0.2
             }
            },
            "type": "histogram"
           }
          ],
          "histogram2d": [
           {
            "colorbar": {
             "outlinewidth": 0,
             "ticks": ""
            },
            "colorscale": [
             [
              0,
              "#0d0887"
             ],
             [
              0.1111111111111111,
              "#46039f"
             ],
             [
              0.2222222222222222,
              "#7201a8"
             ],
             [
              0.3333333333333333,
              "#9c179e"
             ],
             [
              0.4444444444444444,
              "#bd3786"
             ],
             [
              0.5555555555555556,
              "#d8576b"
             ],
             [
              0.6666666666666666,
              "#ed7953"
             ],
             [
              0.7777777777777778,
              "#fb9f3a"
             ],
             [
              0.8888888888888888,
              "#fdca26"
             ],
             [
              1,
              "#f0f921"
             ]
            ],
            "type": "histogram2d"
           }
          ],
          "histogram2dcontour": [
           {
            "colorbar": {
             "outlinewidth": 0,
             "ticks": ""
            },
            "colorscale": [
             [
              0,
              "#0d0887"
             ],
             [
              0.1111111111111111,
              "#46039f"
             ],
             [
              0.2222222222222222,
              "#7201a8"
             ],
             [
              0.3333333333333333,
              "#9c179e"
             ],
             [
              0.4444444444444444,
              "#bd3786"
             ],
             [
              0.5555555555555556,
              "#d8576b"
             ],
             [
              0.6666666666666666,
              "#ed7953"
             ],
             [
              0.7777777777777778,
              "#fb9f3a"
             ],
             [
              0.8888888888888888,
              "#fdca26"
             ],
             [
              1,
              "#f0f921"
             ]
            ],
            "type": "histogram2dcontour"
           }
          ],
          "mesh3d": [
           {
            "colorbar": {
             "outlinewidth": 0,
             "ticks": ""
            },
            "type": "mesh3d"
           }
          ],
          "parcoords": [
           {
            "line": {
             "colorbar": {
              "outlinewidth": 0,
              "ticks": ""
             }
            },
            "type": "parcoords"
           }
          ],
          "pie": [
           {
            "automargin": true,
            "type": "pie"
           }
          ],
          "scatter": [
           {
            "fillpattern": {
             "fillmode": "overlay",
             "size": 10,
             "solidity": 0.2
            },
            "type": "scatter"
           }
          ],
          "scatter3d": [
           {
            "line": {
             "colorbar": {
              "outlinewidth": 0,
              "ticks": ""
             }
            },
            "marker": {
             "colorbar": {
              "outlinewidth": 0,
              "ticks": ""
             }
            },
            "type": "scatter3d"
           }
          ],
          "scattercarpet": [
           {
            "marker": {
             "colorbar": {
              "outlinewidth": 0,
              "ticks": ""
             }
            },
            "type": "scattercarpet"
           }
          ],
          "scattergeo": [
           {
            "marker": {
             "colorbar": {
              "outlinewidth": 0,
              "ticks": ""
             }
            },
            "type": "scattergeo"
           }
          ],
          "scattergl": [
           {
            "marker": {
             "colorbar": {
              "outlinewidth": 0,
              "ticks": ""
             }
            },
            "type": "scattergl"
           }
          ],
          "scattermapbox": [
           {
            "marker": {
             "colorbar": {
              "outlinewidth": 0,
              "ticks": ""
             }
            },
            "type": "scattermapbox"
           }
          ],
          "scatterpolar": [
           {
            "marker": {
             "colorbar": {
              "outlinewidth": 0,
              "ticks": ""
             }
            },
            "type": "scatterpolar"
           }
          ],
          "scatterpolargl": [
           {
            "marker": {
             "colorbar": {
              "outlinewidth": 0,
              "ticks": ""
             }
            },
            "type": "scatterpolargl"
           }
          ],
          "scatterternary": [
           {
            "marker": {
             "colorbar": {
              "outlinewidth": 0,
              "ticks": ""
             }
            },
            "type": "scatterternary"
           }
          ],
          "surface": [
           {
            "colorbar": {
             "outlinewidth": 0,
             "ticks": ""
            },
            "colorscale": [
             [
              0,
              "#0d0887"
             ],
             [
              0.1111111111111111,
              "#46039f"
             ],
             [
              0.2222222222222222,
              "#7201a8"
             ],
             [
              0.3333333333333333,
              "#9c179e"
             ],
             [
              0.4444444444444444,
              "#bd3786"
             ],
             [
              0.5555555555555556,
              "#d8576b"
             ],
             [
              0.6666666666666666,
              "#ed7953"
             ],
             [
              0.7777777777777778,
              "#fb9f3a"
             ],
             [
              0.8888888888888888,
              "#fdca26"
             ],
             [
              1,
              "#f0f921"
             ]
            ],
            "type": "surface"
           }
          ],
          "table": [
           {
            "cells": {
             "fill": {
              "color": "#EBF0F8"
             },
             "line": {
              "color": "white"
             }
            },
            "header": {
             "fill": {
              "color": "#C8D4E3"
             },
             "line": {
              "color": "white"
             }
            },
            "type": "table"
           }
          ]
         },
         "layout": {
          "annotationdefaults": {
           "arrowcolor": "#2a3f5f",
           "arrowhead": 0,
           "arrowwidth": 1
          },
          "autotypenumbers": "strict",
          "coloraxis": {
           "colorbar": {
            "outlinewidth": 0,
            "ticks": ""
           }
          },
          "colorscale": {
           "diverging": [
            [
             0,
             "#8e0152"
            ],
            [
             0.1,
             "#c51b7d"
            ],
            [
             0.2,
             "#de77ae"
            ],
            [
             0.3,
             "#f1b6da"
            ],
            [
             0.4,
             "#fde0ef"
            ],
            [
             0.5,
             "#f7f7f7"
            ],
            [
             0.6,
             "#e6f5d0"
            ],
            [
             0.7,
             "#b8e186"
            ],
            [
             0.8,
             "#7fbc41"
            ],
            [
             0.9,
             "#4d9221"
            ],
            [
             1,
             "#276419"
            ]
           ],
           "sequential": [
            [
             0,
             "#0d0887"
            ],
            [
             0.1111111111111111,
             "#46039f"
            ],
            [
             0.2222222222222222,
             "#7201a8"
            ],
            [
             0.3333333333333333,
             "#9c179e"
            ],
            [
             0.4444444444444444,
             "#bd3786"
            ],
            [
             0.5555555555555556,
             "#d8576b"
            ],
            [
             0.6666666666666666,
             "#ed7953"
            ],
            [
             0.7777777777777778,
             "#fb9f3a"
            ],
            [
             0.8888888888888888,
             "#fdca26"
            ],
            [
             1,
             "#f0f921"
            ]
           ],
           "sequentialminus": [
            [
             0,
             "#0d0887"
            ],
            [
             0.1111111111111111,
             "#46039f"
            ],
            [
             0.2222222222222222,
             "#7201a8"
            ],
            [
             0.3333333333333333,
             "#9c179e"
            ],
            [
             0.4444444444444444,
             "#bd3786"
            ],
            [
             0.5555555555555556,
             "#d8576b"
            ],
            [
             0.6666666666666666,
             "#ed7953"
            ],
            [
             0.7777777777777778,
             "#fb9f3a"
            ],
            [
             0.8888888888888888,
             "#fdca26"
            ],
            [
             1,
             "#f0f921"
            ]
           ]
          },
          "colorway": [
           "#636efa",
           "#EF553B",
           "#00cc96",
           "#ab63fa",
           "#FFA15A",
           "#19d3f3",
           "#FF6692",
           "#B6E880",
           "#FF97FF",
           "#FECB52"
          ],
          "font": {
           "color": "#2a3f5f"
          },
          "geo": {
           "bgcolor": "white",
           "lakecolor": "white",
           "landcolor": "#E5ECF6",
           "showlakes": true,
           "showland": true,
           "subunitcolor": "white"
          },
          "hoverlabel": {
           "align": "left"
          },
          "hovermode": "closest",
          "mapbox": {
           "style": "light"
          },
          "paper_bgcolor": "white",
          "plot_bgcolor": "#E5ECF6",
          "polar": {
           "angularaxis": {
            "gridcolor": "white",
            "linecolor": "white",
            "ticks": ""
           },
           "bgcolor": "#E5ECF6",
           "radialaxis": {
            "gridcolor": "white",
            "linecolor": "white",
            "ticks": ""
           }
          },
          "scene": {
           "xaxis": {
            "backgroundcolor": "#E5ECF6",
            "gridcolor": "white",
            "gridwidth": 2,
            "linecolor": "white",
            "showbackground": true,
            "ticks": "",
            "zerolinecolor": "white"
           },
           "yaxis": {
            "backgroundcolor": "#E5ECF6",
            "gridcolor": "white",
            "gridwidth": 2,
            "linecolor": "white",
            "showbackground": true,
            "ticks": "",
            "zerolinecolor": "white"
           },
           "zaxis": {
            "backgroundcolor": "#E5ECF6",
            "gridcolor": "white",
            "gridwidth": 2,
            "linecolor": "white",
            "showbackground": true,
            "ticks": "",
            "zerolinecolor": "white"
           }
          },
          "shapedefaults": {
           "line": {
            "color": "#2a3f5f"
           }
          },
          "ternary": {
           "aaxis": {
            "gridcolor": "white",
            "linecolor": "white",
            "ticks": ""
           },
           "baxis": {
            "gridcolor": "white",
            "linecolor": "white",
            "ticks": ""
           },
           "bgcolor": "#E5ECF6",
           "caxis": {
            "gridcolor": "white",
            "linecolor": "white",
            "ticks": ""
           }
          },
          "title": {
           "x": 0.05
          },
          "xaxis": {
           "automargin": true,
           "gridcolor": "white",
           "linecolor": "white",
           "ticks": "",
           "title": {
            "standoff": 15
           },
           "zerolinecolor": "white",
           "zerolinewidth": 2
          },
          "yaxis": {
           "automargin": true,
           "gridcolor": "white",
           "linecolor": "white",
           "ticks": "",
           "title": {
            "standoff": 15
           },
           "zerolinecolor": "white",
           "zerolinewidth": 2
          }
         }
        },
        "width": 500,
        "xaxis": {
         "autorange": false,
         "exponentformat": "e",
         "linecolor": "black",
         "linewidth": 1,
         "mirror": false,
         "range": [
          -0.02211052656173706,
          1.12763685464859
         ],
         "showexponent": "all",
         "showline": true,
         "side": "bottom",
         "ticks": "outside",
         "title": {
          "text": "Birth"
         },
         "type": "linear",
         "zeroline": true
        },
        "yaxis": {
         "autorange": false,
         "exponentformat": "e",
         "linecolor": "black",
         "linewidth": 1,
         "mirror": false,
         "range": [
          -0.02211052656173706,
          1.12763685464859
         ],
         "scaleanchor": "x",
         "scaleratio": 1,
         "showexponent": "all",
         "showline": true,
         "side": "left",
         "ticks": "outside",
         "title": {
          "text": "Death"
         },
         "type": "linear",
         "zeroline": true
        }
       }
      }
     },
     "metadata": {},
     "output_type": "display_data"
    },
    {
     "data": {
      "text/plain": [
       "array([[[0.        , 0.02968527, 0.        ],\n",
       "        [0.        , 0.02979543, 0.        ],\n",
       "        [0.        , 0.03002368, 0.        ],\n",
       "        [0.        , 0.03050811, 0.        ],\n",
       "        [0.        , 0.0310097 , 0.        ],\n",
       "        [0.        , 0.03119781, 0.        ],\n",
       "        [0.        , 0.03184138, 0.        ],\n",
       "        [0.        , 0.03283644, 0.        ],\n",
       "        [0.        , 0.03369502, 0.        ],\n",
       "        [0.        , 0.0344742 , 0.        ],\n",
       "        [0.        , 0.03494403, 0.        ],\n",
       "        [0.        , 0.03597357, 0.        ],\n",
       "        [0.        , 0.03632426, 0.        ],\n",
       "        [0.        , 0.03743265, 0.        ],\n",
       "        [0.        , 0.03896736, 0.        ],\n",
       "        [0.        , 0.04018315, 0.        ],\n",
       "        [0.        , 0.04183634, 0.        ],\n",
       "        [0.        , 0.04312626, 0.        ],\n",
       "        [0.        , 0.04355394, 0.        ],\n",
       "        [0.        , 0.04487357, 0.        ],\n",
       "        [0.        , 0.04663508, 0.        ],\n",
       "        [0.        , 0.04798774, 0.        ],\n",
       "        [0.        , 0.04977881, 0.        ],\n",
       "        [0.        , 0.04979481, 0.        ],\n",
       "        [0.        , 0.0511443 , 0.        ],\n",
       "        [0.        , 0.05159165, 0.        ],\n",
       "        [0.        , 0.0529568 , 0.        ],\n",
       "        [0.        , 0.05322014, 0.        ],\n",
       "        [0.        , 0.05474718, 0.        ],\n",
       "        [0.        , 0.05610025, 0.        ],\n",
       "        [0.        , 0.05654144, 0.        ],\n",
       "        [0.        , 0.05786613, 0.        ],\n",
       "        [0.        , 0.05788178, 0.        ],\n",
       "        [0.        , 0.05962661, 0.        ],\n",
       "        [0.        , 0.06093597, 0.        ],\n",
       "        [0.        , 0.06095805, 0.        ],\n",
       "        [0.        , 0.06251813, 0.        ],\n",
       "        [0.        , 0.06263339, 0.        ],\n",
       "        [0.        , 0.06390201, 0.        ],\n",
       "        [0.        , 0.06431311, 0.        ],\n",
       "        [0.        , 0.06441694, 0.        ],\n",
       "        [0.        , 0.0655545 , 0.        ],\n",
       "        [0.        , 0.06715377, 0.        ],\n",
       "        [0.        , 0.06834161, 0.        ],\n",
       "        [0.        , 0.06986579, 0.        ],\n",
       "        [0.        , 0.07009415, 0.        ],\n",
       "        [0.        , 0.07045183, 0.        ],\n",
       "        [0.        , 0.07099326, 0.        ],\n",
       "        [0.        , 0.07135644, 0.        ],\n",
       "        [0.        , 0.07229394, 0.        ],\n",
       "        [0.        , 0.07244653, 0.        ],\n",
       "        [0.        , 0.07383589, 0.        ],\n",
       "        [0.        , 0.07485643, 0.        ],\n",
       "        [0.        , 0.07615092, 0.        ],\n",
       "        [0.        , 0.07616221, 0.        ],\n",
       "        [0.        , 0.07709696, 0.        ],\n",
       "        [0.        , 0.0773995 , 0.        ],\n",
       "        [0.        , 0.07830081, 0.        ],\n",
       "        [0.        , 0.07943389, 0.        ],\n",
       "        [0.        , 0.08025401, 0.        ],\n",
       "        [0.        , 0.08051474, 0.        ],\n",
       "        [0.        , 0.08127783, 0.        ],\n",
       "        [0.        , 0.08128667, 0.        ],\n",
       "        [0.        , 0.08224583, 0.        ],\n",
       "        [0.        , 0.08293114, 0.        ],\n",
       "        [0.        , 0.08360594, 0.        ],\n",
       "        [0.        , 0.08377437, 0.        ],\n",
       "        [0.        , 0.08437017, 0.        ],\n",
       "        [0.        , 0.08445973, 0.        ],\n",
       "        [0.        , 0.08455674, 0.        ],\n",
       "        [0.        , 0.08510011, 0.        ],\n",
       "        [0.        , 0.08575408, 0.        ],\n",
       "        [0.        , 0.08620431, 0.        ],\n",
       "        [0.        , 0.08621446, 0.        ],\n",
       "        [0.        , 0.08673446, 0.        ],\n",
       "        [0.        , 0.08708972, 0.        ],\n",
       "        [0.        , 0.08719705, 0.        ],\n",
       "        [0.        , 0.08749722, 0.        ],\n",
       "        [0.        , 0.08782851, 0.        ],\n",
       "        [0.        , 0.08803169, 0.        ],\n",
       "        [0.        , 0.08823478, 0.        ],\n",
       "        [0.        , 0.08823626, 0.        ],\n",
       "        [0.        , 0.08834017, 0.        ],\n",
       "        [0.        , 0.08836548, 0.        ],\n",
       "        [0.        , 0.08841461, 0.        ],\n",
       "        [0.        , 0.08992593, 0.        ],\n",
       "        [0.        , 0.09091322, 0.        ],\n",
       "        [0.        , 0.09519479, 0.        ],\n",
       "        [0.        , 0.10005733, 0.        ],\n",
       "        [0.        , 0.10064807, 0.        ],\n",
       "        [0.        , 0.10136561, 0.        ],\n",
       "        [0.        , 0.13074045, 0.        ],\n",
       "        [0.        , 0.14408095, 0.        ],\n",
       "        [0.        , 0.14662951, 0.        ],\n",
       "        [0.        , 0.15841769, 0.        ],\n",
       "        [0.        , 0.1779319 , 0.        ],\n",
       "        [0.        , 0.18398863, 0.        ],\n",
       "        [0.        , 0.1849546 , 0.        ],\n",
       "        [1.10241604, 1.10381019, 1.        ],\n",
       "        [1.10149527, 1.10294127, 1.        ],\n",
       "        [1.09990132, 1.10145664, 1.        ],\n",
       "        [0.1884394 , 1.10552633, 1.        ],\n",
       "        [0.        , 0.        , 2.        ]]])"
      ]
     },
     "execution_count": 7,
     "metadata": {},
     "output_type": "execute_result"
    }
   ],
   "source": [
    "import numpy as np\n",
    "import plotly.graph_objects as go\n",
    "from gtda.time_series import SingleTakensEmbedding\n",
    "from gtda.plotting import plot_point_cloud\n",
    "from gtda.homology import VietorisRipsPersistence\n",
    "\n",
    "\n",
    "x_periodic = np.linspace(0, 10, 1000)\n",
    "y_periodic = np.cos(5 * x_periodic)\n",
    "\n",
    "fig = go.Figure(data=go.Scatter(x=x_periodic, y=y_periodic))\n",
    "fig.update_layout(xaxis_title=\"Timestamp\", yaxis_title=\"Amplitude\")\n",
    "fig.show()\n",
    "\n",
    "embedding_dimension_periodic = 3\n",
    "embedding_time_delay_periodic = 8\n",
    "stride = 10\n",
    "\n",
    "embedder_periodic = SingleTakensEmbedding(\n",
    "    parameters_type=\"fixed\",\n",
    "    n_jobs=2,\n",
    "    time_delay=embedding_time_delay_periodic,\n",
    "    dimension=embedding_dimension_periodic,\n",
    "    stride=stride,\n",
    ")\n",
    "\n",
    "y_periodic_embedded = embedder_periodic.fit_transform(y_periodic)\n",
    "print(f\"Shape of embedded time series: {y_periodic_embedded.shape}\")\n",
    "plot_point_cloud(y_periodic_embedded)\n",
    "\n",
    "\n",
    "# reshape to keep the vietoris format\n",
    "y_periodic_embedded = y_periodic_embedded[None, :, :]\n",
    "\n",
    "# 0 - connected components, 1 - loops, 2 - voids\n",
    "homology_dimensions = [0, 1, 2]\n",
    "\n",
    "periodic_persistence = VietorisRipsPersistence(\n",
    "    homology_dimensions=homology_dimensions, n_jobs=6\n",
    ")\n",
    "print(\"Persistence diagram for periodic signal\")\n",
    "periodic_persistence.fit_transform_plot(y_periodic_embedded)"
   ]
  },
  {
   "cell_type": "code",
   "execution_count": 10,
   "metadata": {},
   "outputs": [
    {
     "data": {
      "application/vnd.plotly.v1+json": {
       "config": {
        "plotlyServerURL": "https://plot.ly"
       },
       "data": [
        {
         "type": "scatter",
         "x": [
          0,
          0.01001001001001001,
          0.02002002002002002,
          0.03003003003003003,
          0.04004004004004004,
          0.050050050050050046,
          0.06006006006006006,
          0.07007007007007007,
          0.08008008008008008,
          0.09009009009009009,
          0.10010010010010009,
          0.11011011011011011,
          0.12012012012012012,
          0.13013013013013014,
          0.14014014014014015,
          0.15015015015015015,
          0.16016016016016016,
          0.17017017017017017,
          0.18018018018018017,
          0.19019019019019018,
          0.20020020020020018,
          0.21021021021021022,
          0.22022022022022023,
          0.23023023023023023,
          0.24024024024024024,
          0.2502502502502503,
          0.2602602602602603,
          0.2702702702702703,
          0.2802802802802803,
          0.2902902902902903,
          0.3003003003003003,
          0.3103103103103103,
          0.3203203203203203,
          0.3303303303303303,
          0.34034034034034033,
          0.35035035035035034,
          0.36036036036036034,
          0.37037037037037035,
          0.38038038038038036,
          0.39039039039039036,
          0.40040040040040037,
          0.41041041041041043,
          0.42042042042042044,
          0.43043043043043044,
          0.44044044044044045,
          0.45045045045045046,
          0.46046046046046046,
          0.47047047047047047,
          0.4804804804804805,
          0.4904904904904905,
          0.5005005005005005,
          0.5105105105105106,
          0.5205205205205206,
          0.5305305305305306,
          0.5405405405405406,
          0.5505505505505506,
          0.5605605605605606,
          0.5705705705705706,
          0.5805805805805806,
          0.5905905905905906,
          0.6006006006006006,
          0.6106106106106106,
          0.6206206206206206,
          0.6306306306306306,
          0.6406406406406406,
          0.6506506506506506,
          0.6606606606606606,
          0.6706706706706707,
          0.6806806806806807,
          0.6906906906906907,
          0.7007007007007007,
          0.7107107107107107,
          0.7207207207207207,
          0.7307307307307307,
          0.7407407407407407,
          0.7507507507507507,
          0.7607607607607607,
          0.7707707707707707,
          0.7807807807807807,
          0.7907907907907907,
          0.8008008008008007,
          0.8108108108108109,
          0.8208208208208209,
          0.8308308308308309,
          0.8408408408408409,
          0.8508508508508509,
          0.8608608608608609,
          0.8708708708708709,
          0.8808808808808809,
          0.8908908908908909,
          0.9009009009009009,
          0.9109109109109109,
          0.9209209209209209,
          0.9309309309309309,
          0.9409409409409409,
          0.950950950950951,
          0.960960960960961,
          0.970970970970971,
          0.980980980980981,
          0.990990990990991,
          1.001001001001001,
          1.011011011011011,
          1.021021021021021,
          1.031031031031031,
          1.0410410410410411,
          1.0510510510510511,
          1.0610610610610611,
          1.0710710710710711,
          1.0810810810810811,
          1.0910910910910911,
          1.1011011011011012,
          1.1111111111111112,
          1.1211211211211212,
          1.1311311311311312,
          1.1411411411411412,
          1.1511511511511512,
          1.1611611611611612,
          1.1711711711711712,
          1.1811811811811812,
          1.1911911911911912,
          1.2012012012012012,
          1.2112112112112112,
          1.2212212212212212,
          1.2312312312312312,
          1.2412412412412412,
          1.2512512512512513,
          1.2612612612612613,
          1.2712712712712713,
          1.2812812812812813,
          1.2912912912912913,
          1.3013013013013013,
          1.3113113113113113,
          1.3213213213213213,
          1.3313313313313313,
          1.3413413413413413,
          1.3513513513513513,
          1.3613613613613613,
          1.3713713713713713,
          1.3813813813813813,
          1.3913913913913913,
          1.4014014014014013,
          1.4114114114114114,
          1.4214214214214214,
          1.4314314314314314,
          1.4414414414414414,
          1.4514514514514514,
          1.4614614614614614,
          1.4714714714714714,
          1.4814814814814814,
          1.4914914914914914,
          1.5015015015015014,
          1.5115115115115114,
          1.5215215215215214,
          1.5315315315315314,
          1.5415415415415414,
          1.5515515515515514,
          1.5615615615615615,
          1.5715715715715715,
          1.5815815815815815,
          1.5915915915915915,
          1.6016016016016015,
          1.6116116116116117,
          1.6216216216216217,
          1.6316316316316317,
          1.6416416416416417,
          1.6516516516516517,
          1.6616616616616617,
          1.6716716716716717,
          1.6816816816816818,
          1.6916916916916918,
          1.7017017017017018,
          1.7117117117117118,
          1.7217217217217218,
          1.7317317317317318,
          1.7417417417417418,
          1.7517517517517518,
          1.7617617617617618,
          1.7717717717717718,
          1.7817817817817818,
          1.7917917917917918,
          1.8018018018018018,
          1.8118118118118118,
          1.8218218218218218,
          1.8318318318318318,
          1.8418418418418419,
          1.8518518518518519,
          1.8618618618618619,
          1.8718718718718719,
          1.8818818818818819,
          1.8918918918918919,
          1.901901901901902,
          1.911911911911912,
          1.921921921921922,
          1.931931931931932,
          1.941941941941942,
          1.951951951951952,
          1.961961961961962,
          1.971971971971972,
          1.981981981981982,
          1.991991991991992,
          2.002002002002002,
          2.012012012012012,
          2.022022022022022,
          2.032032032032032,
          2.042042042042042,
          2.052052052052052,
          2.062062062062062,
          2.0720720720720722,
          2.0820820820820822,
          2.0920920920920922,
          2.1021021021021022,
          2.1121121121121122,
          2.1221221221221223,
          2.1321321321321323,
          2.1421421421421423,
          2.1521521521521523,
          2.1621621621621623,
          2.1721721721721723,
          2.1821821821821823,
          2.1921921921921923,
          2.2022022022022023,
          2.2122122122122123,
          2.2222222222222223,
          2.2322322322322323,
          2.2422422422422423,
          2.2522522522522523,
          2.2622622622622623,
          2.2722722722722724,
          2.2822822822822824,
          2.2922922922922924,
          2.3023023023023024,
          2.3123123123123124,
          2.3223223223223224,
          2.3323323323323324,
          2.3423423423423424,
          2.3523523523523524,
          2.3623623623623624,
          2.3723723723723724,
          2.3823823823823824,
          2.3923923923923924,
          2.4024024024024024,
          2.4124124124124124,
          2.4224224224224224,
          2.4324324324324325,
          2.4424424424424425,
          2.4524524524524525,
          2.4624624624624625,
          2.4724724724724725,
          2.4824824824824825,
          2.4924924924924925,
          2.5025025025025025,
          2.5125125125125125,
          2.5225225225225225,
          2.5325325325325325,
          2.5425425425425425,
          2.5525525525525525,
          2.5625625625625625,
          2.5725725725725725,
          2.5825825825825826,
          2.5925925925925926,
          2.6026026026026026,
          2.6126126126126126,
          2.6226226226226226,
          2.6326326326326326,
          2.6426426426426426,
          2.6526526526526526,
          2.6626626626626626,
          2.6726726726726726,
          2.6826826826826826,
          2.6926926926926926,
          2.7027027027027026,
          2.7127127127127126,
          2.7227227227227226,
          2.7327327327327327,
          2.7427427427427427,
          2.7527527527527527,
          2.7627627627627627,
          2.7727727727727727,
          2.7827827827827827,
          2.7927927927927927,
          2.8028028028028027,
          2.8128128128128127,
          2.8228228228228227,
          2.8328328328328327,
          2.8428428428428427,
          2.8528528528528527,
          2.8628628628628627,
          2.8728728728728727,
          2.8828828828828827,
          2.8928928928928928,
          2.9029029029029028,
          2.9129129129129128,
          2.9229229229229228,
          2.932932932932933,
          2.942942942942943,
          2.952952952952953,
          2.962962962962963,
          2.972972972972973,
          2.982982982982983,
          2.992992992992993,
          3.003003003003003,
          3.013013013013013,
          3.023023023023023,
          3.033033033033033,
          3.043043043043043,
          3.053053053053053,
          3.063063063063063,
          3.073073073073073,
          3.083083083083083,
          3.093093093093093,
          3.103103103103103,
          3.113113113113113,
          3.123123123123123,
          3.133133133133133,
          3.143143143143143,
          3.153153153153153,
          3.163163163163163,
          3.173173173173173,
          3.183183183183183,
          3.193193193193193,
          3.203203203203203,
          3.2132132132132134,
          3.2232232232232234,
          3.2332332332332334,
          3.2432432432432434,
          3.2532532532532534,
          3.2632632632632634,
          3.2732732732732734,
          3.2832832832832834,
          3.2932932932932935,
          3.3033033033033035,
          3.3133133133133135,
          3.3233233233233235,
          3.3333333333333335,
          3.3433433433433435,
          3.3533533533533535,
          3.3633633633633635,
          3.3733733733733735,
          3.3833833833833835,
          3.3933933933933935,
          3.4034034034034035,
          3.4134134134134135,
          3.4234234234234235,
          3.4334334334334335,
          3.4434434434434436,
          3.4534534534534536,
          3.4634634634634636,
          3.4734734734734736,
          3.4834834834834836,
          3.4934934934934936,
          3.5035035035035036,
          3.5135135135135136,
          3.5235235235235236,
          3.5335335335335336,
          3.5435435435435436,
          3.5535535535535536,
          3.5635635635635636,
          3.5735735735735736,
          3.5835835835835836,
          3.5935935935935936,
          3.6036036036036037,
          3.6136136136136137,
          3.6236236236236237,
          3.6336336336336337,
          3.6436436436436437,
          3.6536536536536537,
          3.6636636636636637,
          3.6736736736736737,
          3.6836836836836837,
          3.6936936936936937,
          3.7037037037037037,
          3.7137137137137137,
          3.7237237237237237,
          3.7337337337337337,
          3.7437437437437437,
          3.7537537537537538,
          3.7637637637637638,
          3.7737737737737738,
          3.7837837837837838,
          3.793793793793794,
          3.803803803803804,
          3.813813813813814,
          3.823823823823824,
          3.833833833833834,
          3.843843843843844,
          3.853853853853854,
          3.863863863863864,
          3.873873873873874,
          3.883883883883884,
          3.893893893893894,
          3.903903903903904,
          3.913913913913914,
          3.923923923923924,
          3.933933933933934,
          3.943943943943944,
          3.953953953953954,
          3.963963963963964,
          3.973973973973974,
          3.983983983983984,
          3.993993993993994,
          4.004004004004004,
          4.014014014014014,
          4.024024024024024,
          4.034034034034034,
          4.044044044044044,
          4.054054054054054,
          4.064064064064064,
          4.074074074074074,
          4.084084084084084,
          4.094094094094094,
          4.104104104104104,
          4.114114114114114,
          4.124124124124124,
          4.134134134134134,
          4.1441441441441444,
          4.1541541541541545,
          4.1641641641641645,
          4.1741741741741745,
          4.1841841841841845,
          4.1941941941941945,
          4.2042042042042045,
          4.2142142142142145,
          4.2242242242242245,
          4.2342342342342345,
          4.2442442442442445,
          4.2542542542542545,
          4.2642642642642645,
          4.2742742742742745,
          4.2842842842842845,
          4.2942942942942945,
          4.3043043043043046,
          4.314314314314315,
          4.324324324324325,
          4.334334334334335,
          4.344344344344345,
          4.354354354354355,
          4.364364364364365,
          4.374374374374375,
          4.384384384384385,
          4.394394394394395,
          4.404404404404405,
          4.414414414414415,
          4.424424424424425,
          4.434434434434435,
          4.444444444444445,
          4.454454454454455,
          4.464464464464465,
          4.474474474474475,
          4.484484484484485,
          4.494494494494495,
          4.504504504504505,
          4.514514514514515,
          4.524524524524525,
          4.534534534534535,
          4.544544544544545,
          4.554554554554555,
          4.564564564564565,
          4.574574574574575,
          4.584584584584585,
          4.594594594594595,
          4.604604604604605,
          4.614614614614615,
          4.624624624624625,
          4.634634634634635,
          4.644644644644645,
          4.654654654654655,
          4.664664664664665,
          4.674674674674675,
          4.684684684684685,
          4.694694694694695,
          4.704704704704705,
          4.714714714714715,
          4.724724724724725,
          4.734734734734735,
          4.744744744744745,
          4.754754754754755,
          4.764764764764765,
          4.774774774774775,
          4.784784784784785,
          4.794794794794795,
          4.804804804804805,
          4.814814814814815,
          4.824824824824825,
          4.834834834834835,
          4.844844844844845,
          4.854854854854855,
          4.864864864864865,
          4.874874874874875,
          4.884884884884885,
          4.894894894894895,
          4.904904904904905,
          4.914914914914915,
          4.924924924924925,
          4.934934934934935,
          4.944944944944945,
          4.954954954954955,
          4.964964964964965,
          4.974974974974975,
          4.984984984984985,
          4.994994994994995,
          5.005005005005005,
          5.015015015015015,
          5.025025025025025,
          5.035035035035035,
          5.045045045045045,
          5.055055055055055,
          5.065065065065065,
          5.075075075075075,
          5.085085085085085,
          5.095095095095095,
          5.105105105105105,
          5.115115115115115,
          5.125125125125125,
          5.135135135135135,
          5.145145145145145,
          5.155155155155155,
          5.165165165165165,
          5.175175175175175,
          5.185185185185185,
          5.195195195195195,
          5.205205205205205,
          5.215215215215215,
          5.225225225225225,
          5.235235235235235,
          5.245245245245245,
          5.255255255255255,
          5.265265265265265,
          5.275275275275275,
          5.285285285285285,
          5.295295295295295,
          5.305305305305305,
          5.315315315315315,
          5.325325325325325,
          5.335335335335335,
          5.345345345345345,
          5.355355355355355,
          5.365365365365365,
          5.375375375375375,
          5.385385385385385,
          5.395395395395395,
          5.405405405405405,
          5.415415415415415,
          5.425425425425425,
          5.435435435435435,
          5.445445445445445,
          5.455455455455455,
          5.465465465465465,
          5.475475475475475,
          5.485485485485485,
          5.495495495495495,
          5.505505505505505,
          5.515515515515515,
          5.525525525525525,
          5.535535535535535,
          5.545545545545545,
          5.555555555555555,
          5.565565565565565,
          5.575575575575575,
          5.585585585585585,
          5.595595595595595,
          5.605605605605605,
          5.615615615615615,
          5.625625625625625,
          5.635635635635635,
          5.645645645645645,
          5.655655655655655,
          5.665665665665665,
          5.675675675675675,
          5.685685685685685,
          5.6956956956956954,
          5.7057057057057055,
          5.7157157157157155,
          5.7257257257257255,
          5.7357357357357355,
          5.7457457457457455,
          5.7557557557557555,
          5.7657657657657655,
          5.7757757757757755,
          5.7857857857857855,
          5.7957957957957955,
          5.8058058058058055,
          5.8158158158158155,
          5.8258258258258255,
          5.8358358358358355,
          5.8458458458458455,
          5.8558558558558556,
          5.865865865865866,
          5.875875875875876,
          5.885885885885886,
          5.895895895895896,
          5.905905905905906,
          5.915915915915916,
          5.925925925925926,
          5.935935935935936,
          5.945945945945946,
          5.955955955955956,
          5.965965965965966,
          5.975975975975976,
          5.985985985985986,
          5.995995995995996,
          6.006006006006006,
          6.016016016016016,
          6.026026026026026,
          6.036036036036036,
          6.046046046046046,
          6.056056056056056,
          6.066066066066066,
          6.076076076076076,
          6.086086086086086,
          6.096096096096096,
          6.106106106106106,
          6.116116116116116,
          6.126126126126126,
          6.136136136136136,
          6.146146146146146,
          6.156156156156156,
          6.166166166166166,
          6.176176176176176,
          6.186186186186186,
          6.196196196196196,
          6.206206206206206,
          6.216216216216216,
          6.226226226226226,
          6.236236236236236,
          6.246246246246246,
          6.256256256256256,
          6.266266266266266,
          6.276276276276276,
          6.286286286286286,
          6.296296296296296,
          6.306306306306306,
          6.316316316316316,
          6.326326326326326,
          6.336336336336336,
          6.346346346346346,
          6.356356356356356,
          6.366366366366366,
          6.376376376376376,
          6.386386386386386,
          6.396396396396396,
          6.406406406406406,
          6.416416416416417,
          6.426426426426427,
          6.436436436436437,
          6.446446446446447,
          6.456456456456457,
          6.466466466466467,
          6.476476476476477,
          6.486486486486487,
          6.496496496496497,
          6.506506506506507,
          6.516516516516517,
          6.526526526526527,
          6.536536536536537,
          6.546546546546547,
          6.556556556556557,
          6.566566566566567,
          6.576576576576577,
          6.586586586586587,
          6.596596596596597,
          6.606606606606607,
          6.616616616616617,
          6.626626626626627,
          6.636636636636637,
          6.646646646646647,
          6.656656656656657,
          6.666666666666667,
          6.676676676676677,
          6.686686686686687,
          6.696696696696697,
          6.706706706706707,
          6.716716716716717,
          6.726726726726727,
          6.736736736736737,
          6.746746746746747,
          6.756756756756757,
          6.766766766766767,
          6.776776776776777,
          6.786786786786787,
          6.796796796796797,
          6.806806806806807,
          6.816816816816817,
          6.826826826826827,
          6.836836836836837,
          6.846846846846847,
          6.856856856856857,
          6.866866866866867,
          6.876876876876877,
          6.886886886886887,
          6.896896896896897,
          6.906906906906907,
          6.916916916916917,
          6.926926926926927,
          6.936936936936937,
          6.946946946946947,
          6.956956956956957,
          6.966966966966967,
          6.976976976976977,
          6.986986986986987,
          6.996996996996997,
          7.007007007007007,
          7.017017017017017,
          7.027027027027027,
          7.037037037037037,
          7.047047047047047,
          7.057057057057057,
          7.067067067067067,
          7.077077077077077,
          7.087087087087087,
          7.097097097097097,
          7.107107107107107,
          7.117117117117117,
          7.127127127127127,
          7.137137137137137,
          7.147147147147147,
          7.157157157157157,
          7.167167167167167,
          7.177177177177177,
          7.187187187187187,
          7.197197197197197,
          7.207207207207207,
          7.217217217217217,
          7.227227227227227,
          7.237237237237237,
          7.247247247247247,
          7.257257257257257,
          7.267267267267267,
          7.277277277277277,
          7.287287287287287,
          7.297297297297297,
          7.307307307307307,
          7.317317317317317,
          7.327327327327327,
          7.337337337337337,
          7.347347347347347,
          7.357357357357357,
          7.367367367367367,
          7.377377377377377,
          7.387387387387387,
          7.397397397397397,
          7.407407407407407,
          7.4174174174174174,
          7.4274274274274275,
          7.4374374374374375,
          7.4474474474474475,
          7.4574574574574575,
          7.4674674674674675,
          7.4774774774774775,
          7.4874874874874875,
          7.4974974974974975,
          7.5075075075075075,
          7.5175175175175175,
          7.5275275275275275,
          7.5375375375375375,
          7.5475475475475475,
          7.5575575575575575,
          7.5675675675675675,
          7.5775775775775776,
          7.587587587587588,
          7.597597597597598,
          7.607607607607608,
          7.617617617617618,
          7.627627627627628,
          7.637637637637638,
          7.647647647647648,
          7.657657657657658,
          7.667667667667668,
          7.677677677677678,
          7.687687687687688,
          7.697697697697698,
          7.707707707707708,
          7.717717717717718,
          7.727727727727728,
          7.737737737737738,
          7.747747747747748,
          7.757757757757758,
          7.767767767767768,
          7.777777777777778,
          7.787787787787788,
          7.797797797797798,
          7.807807807807808,
          7.817817817817818,
          7.827827827827828,
          7.837837837837838,
          7.847847847847848,
          7.857857857857858,
          7.867867867867868,
          7.877877877877878,
          7.887887887887888,
          7.897897897897898,
          7.907907907907908,
          7.917917917917918,
          7.927927927927928,
          7.937937937937938,
          7.947947947947948,
          7.957957957957958,
          7.967967967967968,
          7.977977977977978,
          7.987987987987988,
          7.997997997997998,
          8.008008008008009,
          8.018018018018019,
          8.028028028028029,
          8.038038038038039,
          8.048048048048049,
          8.058058058058059,
          8.068068068068069,
          8.078078078078079,
          8.088088088088089,
          8.098098098098099,
          8.108108108108109,
          8.118118118118119,
          8.128128128128129,
          8.138138138138139,
          8.148148148148149,
          8.158158158158159,
          8.168168168168169,
          8.178178178178179,
          8.188188188188189,
          8.198198198198199,
          8.208208208208209,
          8.218218218218219,
          8.228228228228229,
          8.238238238238239,
          8.248248248248249,
          8.258258258258259,
          8.268268268268269,
          8.278278278278279,
          8.288288288288289,
          8.298298298298299,
          8.308308308308309,
          8.318318318318319,
          8.328328328328329,
          8.338338338338339,
          8.348348348348349,
          8.358358358358359,
          8.368368368368369,
          8.378378378378379,
          8.388388388388389,
          8.398398398398399,
          8.408408408408409,
          8.418418418418419,
          8.428428428428429,
          8.438438438438439,
          8.448448448448449,
          8.458458458458459,
          8.468468468468469,
          8.478478478478479,
          8.488488488488489,
          8.498498498498499,
          8.508508508508509,
          8.518518518518519,
          8.528528528528529,
          8.538538538538539,
          8.548548548548549,
          8.558558558558559,
          8.568568568568569,
          8.578578578578579,
          8.588588588588589,
          8.598598598598599,
          8.608608608608609,
          8.618618618618619,
          8.62862862862863,
          8.63863863863864,
          8.64864864864865,
          8.65865865865866,
          8.66866866866867,
          8.67867867867868,
          8.68868868868869,
          8.6986986986987,
          8.70870870870871,
          8.71871871871872,
          8.72872872872873,
          8.73873873873874,
          8.74874874874875,
          8.75875875875876,
          8.76876876876877,
          8.77877877877878,
          8.78878878878879,
          8.7987987987988,
          8.80880880880881,
          8.81881881881882,
          8.82882882882883,
          8.83883883883884,
          8.84884884884885,
          8.85885885885886,
          8.86886886886887,
          8.87887887887888,
          8.88888888888889,
          8.8988988988989,
          8.90890890890891,
          8.91891891891892,
          8.92892892892893,
          8.93893893893894,
          8.94894894894895,
          8.95895895895896,
          8.96896896896897,
          8.97897897897898,
          8.98898898898899,
          8.998998998999,
          9.00900900900901,
          9.01901901901902,
          9.02902902902903,
          9.03903903903904,
          9.04904904904905,
          9.05905905905906,
          9.06906906906907,
          9.07907907907908,
          9.08908908908909,
          9.0990990990991,
          9.10910910910911,
          9.11911911911912,
          9.12912912912913,
          9.13913913913914,
          9.14914914914915,
          9.15915915915916,
          9.16916916916917,
          9.17917917917918,
          9.18918918918919,
          9.1991991991992,
          9.20920920920921,
          9.21921921921922,
          9.22922922922923,
          9.23923923923924,
          9.24924924924925,
          9.25925925925926,
          9.26926926926927,
          9.27927927927928,
          9.28928928928929,
          9.2992992992993,
          9.30930930930931,
          9.31931931931932,
          9.32932932932933,
          9.33933933933934,
          9.34934934934935,
          9.35935935935936,
          9.36936936936937,
          9.37937937937938,
          9.38938938938939,
          9.3993993993994,
          9.40940940940941,
          9.41941941941942,
          9.42942942942943,
          9.43943943943944,
          9.44944944944945,
          9.45945945945946,
          9.46946946946947,
          9.47947947947948,
          9.48948948948949,
          9.4994994994995,
          9.50950950950951,
          9.51951951951952,
          9.52952952952953,
          9.53953953953954,
          9.54954954954955,
          9.55955955955956,
          9.56956956956957,
          9.57957957957958,
          9.58958958958959,
          9.5995995995996,
          9.60960960960961,
          9.61961961961962,
          9.62962962962963,
          9.63963963963964,
          9.64964964964965,
          9.65965965965966,
          9.66966966966967,
          9.67967967967968,
          9.68968968968969,
          9.6996996996997,
          9.70970970970971,
          9.71971971971972,
          9.72972972972973,
          9.73973973973974,
          9.74974974974975,
          9.75975975975976,
          9.76976976976977,
          9.77977977977978,
          9.78978978978979,
          9.7997997997998,
          9.80980980980981,
          9.81981981981982,
          9.82982982982983,
          9.83983983983984,
          9.84984984984985,
          9.85985985985986,
          9.86986986986987,
          9.87987987987988,
          9.88988988988989,
          9.8998998998999,
          9.90990990990991,
          9.91991991991992,
          9.92992992992993,
          9.93993993993994,
          9.94994994994995,
          9.95995995995996,
          9.96996996996997,
          9.97997997997998,
          9.98998998998999,
          10
         ],
         "y": [
          0,
          0.0001002003004005006,
          0.0004008012016020024,
          0.0009018027036045054,
          0.0016032048064080096,
          0.0025050075100125145,
          0.0036072108144180218,
          0.004909814719624529,
          0.006412819225632038,
          0.008116224332440547,
          0.010020030040050058,
          0.012124236348460573,
          0.014428843257672087,
          0.016933850767684604,
          0.019639258878498118,
          0.022545067590112634,
          0.025651276902528154,
          0.028957886815744672,
          0.03246489732976219,
          0.03617230844458071,
          0.04008012016020023,
          0.04418833247662077,
          0.04849694539384229,
          0.05300595891186482,
          0.05771537303068835,
          0.06262518775031288,
          0.06773540307073841,
          0.07304601899196494,
          0.07855703551399247,
          0.084268452636821,
          0.09018027036045054,
          0.09629248868488108,
          0.10260510761011261,
          0.10911812713614515,
          0.11583154726297869,
          0.12274536799061322,
          0.12985958931904876,
          0.1371742112482853,
          0.14468923377832285,
          0.15240465690916138,
          0.16032048064080093,
          0.16843670497324154,
          0.17675332990648307,
          0.1852703554405256,
          0.19398778157536917,
          0.20290560831101373,
          0.21202383564745927,
          0.22134246358470583,
          0.2308614921227534,
          0.24058092126160194,
          0.2505007510012515,
          0.2606209813417021,
          0.27094161228295366,
          0.28146264382500624,
          0.2921840759678598,
          0.3031059087115143,
          0.3142281420559699,
          0.32555077600122645,
          0.337073810547284,
          0.3487972456941426,
          0.36072108144180215,
          0.37284531779026275,
          0.3851699547395243,
          0.3976949922895869,
          0.41042043044045046,
          0.42334626919211504,
          0.4364725085445806,
          0.4497991484978472,
          0.46332618905191475,
          0.4770536302067833,
          0.4909814719624529,
          0.5051097143189235,
          0.519438357276195,
          0.5339674008342676,
          0.5486968449931412,
          0.5636266897528158,
          0.5787569351132914,
          0.5940875810745679,
          0.6096186276366455,
          0.6253500747995242,
          0.6412819225632037,
          0.6574141709276845,
          0.6737468198929661,
          0.6902798694590487,
          0.7070133196259323,
          0.7239471703936169,
          0.7410814217621025,
          0.7584160737313891,
          0.7759511263014767,
          0.7936865794723653,
          0.8116224332440549,
          0.8297586876165455,
          0.8480953425898371,
          0.8666323981639297,
          0.8853698543388233,
          0.9043077111145179,
          0.9234459684910136,
          0.9427846264683102,
          0.9623236850464078,
          0.9820631442253064,
          1.002003004005006,
          1.0221432643855068,
          1.0424839253668083,
          1.063024986948911,
          1.0837664491318146,
          1.1047083119155192,
          1.125850575300025,
          1.1471932392853315,
          1.1687363038714391,
          1.1904797690583477,
          1.2124236348460573,
          1.234567901234568,
          1.2569125682238795,
          1.2794576358139922,
          1.3022031040049058,
          1.3251489727966206,
          1.348295242189136,
          1.3716419121824528,
          1.3951889827765704,
          1.418936453971489,
          1.4428843257672086,
          1.4670325981637293,
          1.491381271161051,
          1.5159303447591737,
          1.5406798189580972,
          1.5656296937578218,
          1.5907799691583475,
          1.6161306451596742,
          1.6416817217618018,
          1.6674331989647304,
          1.6933850767684602,
          1.7195373551729907,
          1.7458900341783223,
          1.772443113784455,
          1.7991965939913888,
          1.8261504747991233,
          1.853304756207659,
          1.8806594382169957,
          1.9082145208271333,
          1.935970004038072,
          1.9639258878498116,
          1.9920821722623523,
          2.020438857275694,
          2.0489959428898366,
          2.07775342910478,
          2.106711315920525,
          2.1358696033370705,
          2.1652282913544174,
          2.194787379972565,
          2.2245468691915136,
          2.2545067590112633,
          2.284667049431814,
          2.3150277404531656,
          2.345588832075318,
          2.3763503242982718,
          2.4073122171220267,
          2.438474510546582,
          2.469837204571939,
          2.501400299198097,
          2.533163794425055,
          2.565127690252815,
          2.5972919866813764,
          2.629656683710738,
          2.6622217813409006,
          2.6949872795718646,
          2.727953178403629,
          2.761119477836195,
          2.7944861778695613,
          2.828053278503729,
          2.861820779738698,
          2.8957886815744676,
          2.929956984011038,
          2.96432568704841,
          2.998894790686583,
          3.0336642949255563,
          3.0686341997653312,
          3.1038045052059067,
          3.1391752112472835,
          3.1747463178894613,
          3.21051782513244,
          3.2464897329762197,
          3.2826620414208003,
          3.319034750466182,
          3.355607860112365,
          3.3923813703593484,
          3.4293552812071333,
          3.4665295926557187,
          3.5039043047051055,
          3.5414794173552933,
          3.579254930606282,
          3.6172308444580716,
          3.6554071589106623,
          3.6937838739640543,
          3.732360989618247,
          3.7711385058732407,
          3.810116422729035,
          3.849294740185631,
          3.888673458243028,
          3.9282525769012255,
          3.9680320961602242,
          4.008012016020024,
          4.048192336480626,
          4.088573057542027,
          4.12915417920423,
          4.169935701467233,
          4.210917624331039,
          4.252099947795644,
          4.293482671861051,
          4.3350657965272585,
          4.376849321794268,
          4.418833247662077,
          4.461017574130688,
          4.5034023012001,
          4.545987428870312,
          4.588772957141326,
          4.631758886013141,
          4.6749452154857565,
          4.718331945559173,
          4.761919076233391,
          4.80570660750841,
          4.849694539384229,
          4.893882871860851,
          4.938271604938272,
          4.982860738616495,
          5.027650272895518,
          5.072640207775343,
          5.117830543255969,
          5.163221279337396,
          5.208812416019623,
          5.254603953302652,
          5.300595891186482,
          5.3467882296711124,
          5.393180968756544,
          5.439774108442777,
          5.486567648729811,
          5.533561589617646,
          5.580755931106282,
          5.6281506731957185,
          5.675745815885956,
          5.723541359176995,
          5.771537303068834,
          5.819733647561476,
          5.868130392654917,
          5.91672753834916,
          5.965525084644204,
          6.014523031540048,
          6.063721379036695,
          6.113120127134141,
          6.162719275832389,
          6.212518825131438,
          6.262518775031287,
          6.312719125531938,
          6.36311987663339,
          6.413721028335643,
          6.464522580638697,
          6.515524533542552,
          6.566726887047207,
          6.618129641152664,
          6.669732795858922,
          6.72153635116598,
          6.773540307073841,
          6.825744663582501,
          6.878149420691963,
          6.930754578402226,
          6.983560136713289,
          7.036566095625155,
          7.08977245513782,
          7.143179215251287,
          7.196786375965555,
          7.250593937280623,
          7.304601899196493,
          7.358810261713164,
          7.413219024830636,
          7.467828188548909,
          7.522637752867983,
          7.577647717787857,
          7.632858083308533,
          7.68826884943001,
          7.743880016152288,
          7.799691583475367,
          7.855703551399246,
          7.911915919923928,
          7.968328689049409,
          8.024941858775692,
          8.081755429102776,
          8.138769400030661,
          8.195983771559346,
          8.253398543688833,
          8.31101371641912,
          8.36882928975021,
          8.4268452636821,
          8.485061638214791,
          8.543478413348282,
          8.602095589082575,
          8.66091316541767,
          8.719931142353564,
          8.77914951989026,
          8.838568298027756,
          8.898187476766054,
          8.958007056105153,
          9.018027036045053,
          9.078247416585754,
          9.138668197727256,
          9.199289379469558,
          9.260110961812662,
          9.321132944756567,
          9.382355328301273,
          9.443778112446779,
          9.505401297193087,
          9.567224882540197,
          9.629248868488107,
          9.691473255036817,
          9.753898042186329,
          9.816523229936642,
          9.879348818287756,
          9.94237480723967,
          10.005601196792387,
          10.069027986945903,
          10.13265517770022,
          10.19648276905534,
          10.26051076101126,
          10.324739153567984,
          10.389167946725506,
          10.453797140483829,
          10.518626734842952,
          10.583656729802877,
          10.648887125363602,
          10.71431792152513,
          10.779949118287458,
          10.845780715650587,
          10.911812713614516,
          10.978045112179247,
          11.04447791134478,
          11.111111111111112,
          11.177944711478245,
          11.244978712446182,
          11.312213114014916,
          11.379647916184453,
          11.447283118954791,
          11.51511872232593,
          11.58315472629787,
          11.65139113087061,
          11.719827936044153,
          11.788465141818495,
          11.85730274819364,
          11.926340755169585,
          11.995579162746331,
          12.065017970923877,
          12.134657179702225,
          12.204496789081375,
          12.274536799061325,
          12.344777209642075,
          12.415218020823627,
          12.48585923260598,
          12.556700844989134,
          12.62774285797309,
          12.698985271557845,
          12.7704280857434,
          12.84207130052976,
          12.913914915916918,
          12.985958931904879,
          13.05820334849364,
          13.130648165683201,
          13.203293383473564,
          13.276139001864728,
          13.349185020856693,
          13.42243144044946,
          13.495878260643025,
          13.569525481437394,
          13.643373102832562,
          13.717421124828533,
          13.791669547425304,
          13.866118370622875,
          13.940767594421247,
          14.015617218820422,
          14.090667243820397,
          14.165917669421173,
          14.24136849562275,
          14.317019722425128,
          14.392871349828306,
          14.468923377832287,
          14.545175806437067,
          14.621628635642649,
          14.698281865449033,
          14.775135495856217,
          14.852189526864201,
          14.929443958472987,
          15.006898790682573,
          15.084554023492963,
          15.16240965690415,
          15.24046569091614,
          15.318722125528932,
          15.397178960742524,
          15.475836196556918,
          15.554693832972111,
          15.633751869988105,
          15.713010307604902,
          15.792469145822498,
          15.872128384640897,
          15.951988024060096,
          16.032048064080097,
          16.1123085047009,
          16.192769345922503,
          16.273430587744905,
          16.35429223016811,
          16.435354273192115,
          16.51661671681692,
          16.59807956104253,
          16.679742805868933,
          16.761606451296142,
          16.843670497324155,
          16.925934943952964,
          17.008399791182576,
          17.09106503901299,
          17.173930687444205,
          17.256996736476218,
          17.340263186109034,
          17.42373003634265,
          17.50739728717707,
          17.591264938612287,
          17.675332990648307,
          17.759601443285128,
          17.84407029652275,
          17.928739550361176,
          18.0136092048004,
          18.098679259840424,
          18.183949715481248,
          18.269420571722875,
          18.355091828565303,
          18.440963486008535,
          18.527035544052563,
          18.613308002697394,
          18.699780861943026,
          18.786454121789458,
          18.873327782236693,
          18.96040184328473,
          19.047676304933564,
          19.135151167183203,
          19.22282643003364,
          19.310702093484878,
          19.398778157536917,
          19.48705462218976,
          19.575531487443403,
          19.664208753297846,
          19.75308641975309,
          19.842164486809132,
          19.93144295446598,
          20.020921822723626,
          20.110601091582073,
          20.200480761041323,
          20.290560831101374,
          20.380841301762224,
          20.471322173023875,
          20.56200344488633,
          20.652885117349584,
          20.74396719041364,
          20.835249664078493,
          20.92673253834415,
          21.01841581321061,
          21.110299488677867,
          21.20238356474593,
          21.294668041414788,
          21.38715291868445,
          21.479838196554915,
          21.572723875026178,
          21.665809954098243,
          21.75909643377111,
          21.852583314044775,
          21.946270594919245,
          22.040158276394514,
          22.134246358470584,
          22.228534841147454,
          22.323023724425127,
          22.4177130083036,
          22.512602692782874,
          22.607692777862948,
          22.702983263543825,
          22.798474149825502,
          22.89416543670798,
          22.99005712419126,
          23.086149212275338,
          23.18244170096022,
          23.278934590245903,
          23.375627880132384,
          23.47252157061967,
          23.569615661707754,
          23.66691015339664,
          23.764405045686328,
          23.862100338576816,
          23.959996032068105,
          24.058092126160194,
          24.156388620853086,
          24.25488551614678,
          24.35358281204127,
          24.452480508536564,
          24.55157860563266,
          24.650877103329556,
          24.750376001627252,
          24.850075300525752,
          24.94997500002505,
          25.05007510012515,
          25.150375600826052,
          25.250876502127753,
          25.351577804030256,
          25.45247950653356,
          25.553581609637664,
          25.654884113342572,
          25.75638701764828,
          25.858090322554787,
          25.959994028062095,
          26.062098134170206,
          26.164402640879118,
          26.26690754818883,
          26.36961285609934,
          26.472518564610656,
          26.57562467372277,
          26.678931183435687,
          26.782438093749406,
          26.88614540466392,
          26.99005311617924,
          27.094161228295363,
          27.198469741012282,
          27.302978654330005,
          27.407687968248528,
          27.51259768276785,
          27.617707797887977,
          27.723018313608904,
          27.82852922993063,
          27.934240546853157,
          28.040152264376488,
          28.14626438250062,
          28.25257690122555,
          28.35908982055128,
          28.465803140477814,
          28.572716861005148,
          28.679830982133282,
          28.78714550386222,
          28.894660426191955,
          29.002375749122493,
          29.110291472653834,
          29.218407596785973,
          29.326724121518915,
          29.435241046852656,
          29.5439583727872,
          29.652876099322544,
          29.76199422645869,
          29.871312754195635,
          29.98083168253338,
          30.09055101147193,
          30.20047074101128,
          30.31059087115143,
          30.42091140189238,
          30.531432333234132,
          30.642153665176686,
          30.75307539772004,
          30.864197530864196,
          30.975520064609153,
          31.08704299895491,
          31.198766333901467,
          31.310690069448825,
          31.422814205596985,
          31.535138742345946,
          31.64766367969571,
          31.760389017646272,
          31.873314756197637,
          31.9864408953498,
          32.09976743510277,
          32.213294375456535,
          32.3270217164111,
          32.440949457966475,
          32.555077600122644,
          32.669406142879616,
          32.783935086237385,
          32.89866443019596,
          33.01359417475533,
          33.128724319915506,
          33.24405486567648,
          33.35958581203826,
          33.47531715900084,
          33.59124890656422,
          33.7073810547284,
          33.82371360349338,
          33.940246552859165,
          34.056979902825745,
          34.17391365339313,
          34.291047804561316,
          34.4083823563303,
          34.52591730870009,
          34.64365266167068,
          34.761588415242066,
          34.87972456941426,
          34.998061124187245,
          35.11659807956104,
          35.23533543553563,
          35.35427319211102,
          35.47341134928722,
          35.59274990706422,
          35.71228886544201,
          35.83202822442061,
          35.951967984000014,
          36.07210814418021,
          36.192448704961215,
          36.312989666343015,
          36.43373102832562,
          36.554672790909024,
          36.67581495409323,
          36.79715751787823,
          36.91870048226404,
          37.04044384725065,
          37.16238761283806,
          37.28453177902627,
          37.40687634581528,
          37.52942131320509,
          37.6521666811957,
          37.775112449787116,
          37.898258618979334,
          38.02160518877235,
          38.145152159166166,
          38.26889953016079,
          38.392847301756206,
          38.51699547395243,
          38.641344046749445,
          38.76589302014727,
          38.89064239414589,
          39.015592168745314,
          39.14074234394554,
          39.26609291974657,
          39.391643896148395,
          39.517395273151024,
          39.64334705075445,
          39.76949922895868,
          39.89585180776371,
          40.02240478716955,
          40.14915816717618,
          40.27611194778361,
          40.403266128991845,
          40.53062071080088,
          40.65817569321072,
          40.78593107622136,
          40.9138868598328,
          41.04204304404504,
          41.17039962885809,
          41.29895661427194,
          41.42771400028658,
          41.55667178690202,
          41.68582997411827,
          41.815188561935315,
          41.94474755035316,
          42.07450693937181,
          42.20446672899126,
          42.33462691921151,
          42.46498751003256,
          42.59554850145441,
          42.726309893477065,
          42.85727168610052,
          42.988433879324774,
          43.11979647314983,
          43.25135946757569,
          43.38312286260235,
          43.515086658229805,
          43.647250854458065,
          43.77961545128713,
          43.91218044871699,
          44.04494584674765,
          44.17791164537912,
          44.31107784461138,
          44.44444444444445,
          44.578011444878314,
          44.71177884591298,
          44.84574664754845,
          44.97991484978473,
          45.1142834526218,
          45.248852456059666,
          45.38362186009834,
          45.51859166473781,
          45.65376186997809,
          45.789132475819166,
          45.924703482261044,
          46.06047488930372,
          46.1964466969472,
          46.33261890519148,
          46.46899151403656,
          46.60556452348244,
          46.74233793352913,
          46.87931174417661,
          47.0164859554249,
          47.15386056727398,
          47.291435579723874,
          47.42921099277456,
          47.56718680642605,
          47.70536302067834,
          47.84373963553143,
          47.982316650985325,
          48.12109406704002,
          48.26007188369551,
          48.399250100951804,
          48.5386287188089,
          48.678207737266796,
          48.8179871563255,
          48.957966975984995,
          49.0981471962453,
          49.2385278171064,
          49.3791088385683,
          49.519890260631,
          49.66087208329451,
          49.802054306558816,
          49.94343693042392,
          50.08501995488983,
          50.226803379956536,
          50.368787205624045,
          50.51097143189236,
          50.65335605876147,
          50.79594108623138,
          50.93872651430209,
          51.0817123429736,
          51.22489857224592,
          51.36828520211904,
          51.51187223259296,
          51.65565966366767,
          51.799647495343194,
          51.943835727619515,
          52.08822436049663,
          52.23281339397456,
          52.37760282805328,
          52.522592662732805,
          52.66778289801313,
          52.81317353389426,
          52.95876457037618,
          53.10455600745891,
          53.25054784514244,
          53.39674008342677,
          53.5431327223119,
          53.68972576179784,
          53.83651920188457,
          53.9835130425721,
          54.13070728386044,
          54.278101925749574,
          54.425696968239514,
          54.57349241133025,
          54.72148825502179,
          54.86968449931413,
          55.01808114420727,
          55.166678189701216,
          55.315475635795956,
          55.4644734824915,
          55.613671729787846,
          55.76307037768499,
          55.91266942618294,
          56.06246887528169,
          56.212468724981235,
          56.362668975281586,
          56.51306962618274,
          56.66367067768469,
          56.81447212978745,
          56.965473982491,
          57.11667623579535,
          57.26807888970051,
          57.41968194420647,
          57.571485399313225,
          57.72348925502079,
          57.875693511329146,
          58.02809816823831,
          58.18070322574827,
          58.33350868385903,
          58.486514542570596,
          58.639720801882966,
          58.79312746179613,
          58.946734522310095,
          59.10054198342487,
          59.25454984514043,
          59.408758107456805,
          59.563166770373975,
          59.71777583389195,
          59.87258529801072,
          60.02759516273029,
          60.18280542805067,
          60.33821609397185,
          60.49382716049382,
          60.6496386276166,
          60.80565049534018,
          60.96186276366456,
          61.11827543258975,
          61.27488850211573,
          61.431701972242514,
          61.588715842970096,
          61.74593011429848,
          61.90334478622767,
          62.060959858757656,
          62.218775331888445,
          62.37679120562003,
          62.53500747995242,
          62.69342415488561,
          62.85204123041961,
          63.0108587065544,
          63.16987658328999,
          63.32909486062639,
          63.48851353856359,
          63.64813261710158,
          63.807952096240385,
          63.96797197597998,
          64.12819225632039,
          64.2886129372616,
          64.4492340188036,
          64.6100555009464,
          64.77107738369001,
          64.93229966703441,
          65.09372235097962,
          65.25534543552563,
          65.41716892067244,
          65.57919280642004,
          65.74141709276846,
          65.90384177971767,
          66.06646686726768,
          66.2292923554185,
          66.39231824417011,
          66.55554453352252,
          66.71897122347573,
          66.88259831402975,
          67.04642580518457,
          67.21045369694019,
          67.37468198929662,
          67.53911068225383,
          67.70373977581185,
          67.86856926997068,
          68.0335991647303,
          68.19882946009074,
          68.36426015605196,
          68.52989125261398,
          68.69572274977682,
          68.86175464754044,
          69.02798694590487,
          69.19441964487011,
          69.36105274443614,
          69.52788624460297,
          69.6949201453706,
          69.86215444673904,
          70.02958914870828,
          70.19722425127831,
          70.36505975444915,
          70.53309565822079,
          70.70133196259323,
          70.86976866756648,
          71.03840577314051,
          71.20724327931536,
          71.376281186091,
          71.54551949346745,
          71.7149582014447,
          71.88459731002274,
          72.0544368192016,
          72.22447672898124,
          72.3947170393617,
          72.56515775034295,
          72.73579886192499,
          72.90664037410785,
          73.0776822868915,
          73.24892460027596,
          73.42036731426121,
          73.59201042884727,
          73.76385394403414,
          73.9358978598218,
          74.10814217621025,
          74.28058689319951,
          74.45323201078958,
          74.62607752898045,
          74.7991234477721,
          74.97236976716457,
          75.14581648715783,
          75.3194636077519,
          75.49331112894677,
          75.66735905074245,
          75.84160737313891,
          76.01605609613618,
          76.19070521973426,
          76.36555474393313,
          76.54060466873281,
          76.71585499413328,
          76.89130572013455,
          77.06695684673663,
          77.24280837393951,
          77.4188603017432,
          77.59511263014767,
          77.77156535915296,
          77.94821848875904,
          78.12507201896592,
          78.30212594977361,
          78.47938028118209,
          78.65683501319138,
          78.83449014580147,
          79.01234567901236,
          79.19040161282405,
          79.36865794723653,
          79.54711468224983,
          79.72577181786392,
          79.9046293540788,
          80.0836872908945,
          80.262945628311,
          80.44240436632829,
          80.6220635049464,
          80.80192304416529,
          80.98198298398499,
          81.1622433244055,
          81.3427040654268,
          81.5233652070489,
          81.7042267492718,
          81.8852886920955,
          82.06655103552,
          82.24801377954532,
          82.42967692417143,
          82.61154046939834,
          82.79360441522604,
          82.97586876165455,
          83.15833350868387,
          83.34099865631397,
          83.52386420454489,
          83.7069301533766,
          83.89019650280912,
          84.07366325284244,
          84.25733040347656,
          84.44119795471147,
          84.6252659065472,
          84.80953425898372,
          84.99400301202104,
          85.17867216565915,
          85.36354171989808,
          85.5486116747378,
          85.73388203017834,
          85.91935278621966,
          86.10502394286179,
          86.29089550010471,
          86.47696745794845,
          86.66323981639297,
          86.8497125754383,
          87.03638573508444,
          87.22325929533137,
          87.4103332561791,
          87.59760761762765,
          87.78508237967698,
          87.97275754232712,
          88.16063310557806,
          88.34870906942979,
          88.53698543388234,
          88.72546219893567,
          88.91413936458981,
          89.10301693084476,
          89.29209489770051,
          89.48137326515705,
          89.6708520332144,
          89.86053120187255,
          90.0504107711315,
          90.24049074099125,
          90.43077111145179,
          90.62125188251315,
          90.8119330541753,
          91.00281462643825,
          91.19389659930201,
          91.38517897276657,
          91.57666174683192,
          91.76834492149808,
          91.96022849676504,
          92.1523124726328,
          92.34459684910135,
          92.53708162617072,
          92.72976680384087,
          92.92265238211185,
          93.11573836098361,
          93.30902474045618,
          93.50251152052954,
          93.69619870120371,
          93.89008628247868,
          94.08417426435444,
          94.27846264683102,
          94.47295142990839,
          94.66764061358656,
          94.86253019786554,
          95.05762018274531,
          95.25291056822589,
          95.44840135430726,
          95.64409254098943,
          95.83998412827242,
          96.0360761161562,
          96.23236850464077,
          96.42886129372616,
          96.62555448341234,
          96.82244807369932,
          97.01954206458711,
          97.2168364560757,
          97.41433124816508,
          97.61202644085527,
          97.80992203414625,
          98.00801802803805,
          98.20631442253064,
          98.40481121762403,
          98.60350841331822,
          98.80240600961322,
          99.00150400650901,
          99.20080240400561,
          99.40030120210301,
          99.6000004008012,
          99.7999000001002,
          100
         ]
        }
       ],
       "layout": {
        "template": {
         "data": {
          "bar": [
           {
            "error_x": {
             "color": "#2a3f5f"
            },
            "error_y": {
             "color": "#2a3f5f"
            },
            "marker": {
             "line": {
              "color": "#E5ECF6",
              "width": 0.5
             },
             "pattern": {
              "fillmode": "overlay",
              "size": 10,
              "solidity": 0.2
             }
            },
            "type": "bar"
           }
          ],
          "barpolar": [
           {
            "marker": {
             "line": {
              "color": "#E5ECF6",
              "width": 0.5
             },
             "pattern": {
              "fillmode": "overlay",
              "size": 10,
              "solidity": 0.2
             }
            },
            "type": "barpolar"
           }
          ],
          "carpet": [
           {
            "aaxis": {
             "endlinecolor": "#2a3f5f",
             "gridcolor": "white",
             "linecolor": "white",
             "minorgridcolor": "white",
             "startlinecolor": "#2a3f5f"
            },
            "baxis": {
             "endlinecolor": "#2a3f5f",
             "gridcolor": "white",
             "linecolor": "white",
             "minorgridcolor": "white",
             "startlinecolor": "#2a3f5f"
            },
            "type": "carpet"
           }
          ],
          "choropleth": [
           {
            "colorbar": {
             "outlinewidth": 0,
             "ticks": ""
            },
            "type": "choropleth"
           }
          ],
          "contour": [
           {
            "colorbar": {
             "outlinewidth": 0,
             "ticks": ""
            },
            "colorscale": [
             [
              0,
              "#0d0887"
             ],
             [
              0.1111111111111111,
              "#46039f"
             ],
             [
              0.2222222222222222,
              "#7201a8"
             ],
             [
              0.3333333333333333,
              "#9c179e"
             ],
             [
              0.4444444444444444,
              "#bd3786"
             ],
             [
              0.5555555555555556,
              "#d8576b"
             ],
             [
              0.6666666666666666,
              "#ed7953"
             ],
             [
              0.7777777777777778,
              "#fb9f3a"
             ],
             [
              0.8888888888888888,
              "#fdca26"
             ],
             [
              1,
              "#f0f921"
             ]
            ],
            "type": "contour"
           }
          ],
          "contourcarpet": [
           {
            "colorbar": {
             "outlinewidth": 0,
             "ticks": ""
            },
            "type": "contourcarpet"
           }
          ],
          "heatmap": [
           {
            "colorbar": {
             "outlinewidth": 0,
             "ticks": ""
            },
            "colorscale": [
             [
              0,
              "#0d0887"
             ],
             [
              0.1111111111111111,
              "#46039f"
             ],
             [
              0.2222222222222222,
              "#7201a8"
             ],
             [
              0.3333333333333333,
              "#9c179e"
             ],
             [
              0.4444444444444444,
              "#bd3786"
             ],
             [
              0.5555555555555556,
              "#d8576b"
             ],
             [
              0.6666666666666666,
              "#ed7953"
             ],
             [
              0.7777777777777778,
              "#fb9f3a"
             ],
             [
              0.8888888888888888,
              "#fdca26"
             ],
             [
              1,
              "#f0f921"
             ]
            ],
            "type": "heatmap"
           }
          ],
          "heatmapgl": [
           {
            "colorbar": {
             "outlinewidth": 0,
             "ticks": ""
            },
            "colorscale": [
             [
              0,
              "#0d0887"
             ],
             [
              0.1111111111111111,
              "#46039f"
             ],
             [
              0.2222222222222222,
              "#7201a8"
             ],
             [
              0.3333333333333333,
              "#9c179e"
             ],
             [
              0.4444444444444444,
              "#bd3786"
             ],
             [
              0.5555555555555556,
              "#d8576b"
             ],
             [
              0.6666666666666666,
              "#ed7953"
             ],
             [
              0.7777777777777778,
              "#fb9f3a"
             ],
             [
              0.8888888888888888,
              "#fdca26"
             ],
             [
              1,
              "#f0f921"
             ]
            ],
            "type": "heatmapgl"
           }
          ],
          "histogram": [
           {
            "marker": {
             "pattern": {
              "fillmode": "overlay",
              "size": 10,
              "solidity": 0.2
             }
            },
            "type": "histogram"
           }
          ],
          "histogram2d": [
           {
            "colorbar": {
             "outlinewidth": 0,
             "ticks": ""
            },
            "colorscale": [
             [
              0,
              "#0d0887"
             ],
             [
              0.1111111111111111,
              "#46039f"
             ],
             [
              0.2222222222222222,
              "#7201a8"
             ],
             [
              0.3333333333333333,
              "#9c179e"
             ],
             [
              0.4444444444444444,
              "#bd3786"
             ],
             [
              0.5555555555555556,
              "#d8576b"
             ],
             [
              0.6666666666666666,
              "#ed7953"
             ],
             [
              0.7777777777777778,
              "#fb9f3a"
             ],
             [
              0.8888888888888888,
              "#fdca26"
             ],
             [
              1,
              "#f0f921"
             ]
            ],
            "type": "histogram2d"
           }
          ],
          "histogram2dcontour": [
           {
            "colorbar": {
             "outlinewidth": 0,
             "ticks": ""
            },
            "colorscale": [
             [
              0,
              "#0d0887"
             ],
             [
              0.1111111111111111,
              "#46039f"
             ],
             [
              0.2222222222222222,
              "#7201a8"
             ],
             [
              0.3333333333333333,
              "#9c179e"
             ],
             [
              0.4444444444444444,
              "#bd3786"
             ],
             [
              0.5555555555555556,
              "#d8576b"
             ],
             [
              0.6666666666666666,
              "#ed7953"
             ],
             [
              0.7777777777777778,
              "#fb9f3a"
             ],
             [
              0.8888888888888888,
              "#fdca26"
             ],
             [
              1,
              "#f0f921"
             ]
            ],
            "type": "histogram2dcontour"
           }
          ],
          "mesh3d": [
           {
            "colorbar": {
             "outlinewidth": 0,
             "ticks": ""
            },
            "type": "mesh3d"
           }
          ],
          "parcoords": [
           {
            "line": {
             "colorbar": {
              "outlinewidth": 0,
              "ticks": ""
             }
            },
            "type": "parcoords"
           }
          ],
          "pie": [
           {
            "automargin": true,
            "type": "pie"
           }
          ],
          "scatter": [
           {
            "fillpattern": {
             "fillmode": "overlay",
             "size": 10,
             "solidity": 0.2
            },
            "type": "scatter"
           }
          ],
          "scatter3d": [
           {
            "line": {
             "colorbar": {
              "outlinewidth": 0,
              "ticks": ""
             }
            },
            "marker": {
             "colorbar": {
              "outlinewidth": 0,
              "ticks": ""
             }
            },
            "type": "scatter3d"
           }
          ],
          "scattercarpet": [
           {
            "marker": {
             "colorbar": {
              "outlinewidth": 0,
              "ticks": ""
             }
            },
            "type": "scattercarpet"
           }
          ],
          "scattergeo": [
           {
            "marker": {
             "colorbar": {
              "outlinewidth": 0,
              "ticks": ""
             }
            },
            "type": "scattergeo"
           }
          ],
          "scattergl": [
           {
            "marker": {
             "colorbar": {
              "outlinewidth": 0,
              "ticks": ""
             }
            },
            "type": "scattergl"
           }
          ],
          "scattermapbox": [
           {
            "marker": {
             "colorbar": {
              "outlinewidth": 0,
              "ticks": ""
             }
            },
            "type": "scattermapbox"
           }
          ],
          "scatterpolar": [
           {
            "marker": {
             "colorbar": {
              "outlinewidth": 0,
              "ticks": ""
             }
            },
            "type": "scatterpolar"
           }
          ],
          "scatterpolargl": [
           {
            "marker": {
             "colorbar": {
              "outlinewidth": 0,
              "ticks": ""
             }
            },
            "type": "scatterpolargl"
           }
          ],
          "scatterternary": [
           {
            "marker": {
             "colorbar": {
              "outlinewidth": 0,
              "ticks": ""
             }
            },
            "type": "scatterternary"
           }
          ],
          "surface": [
           {
            "colorbar": {
             "outlinewidth": 0,
             "ticks": ""
            },
            "colorscale": [
             [
              0,
              "#0d0887"
             ],
             [
              0.1111111111111111,
              "#46039f"
             ],
             [
              0.2222222222222222,
              "#7201a8"
             ],
             [
              0.3333333333333333,
              "#9c179e"
             ],
             [
              0.4444444444444444,
              "#bd3786"
             ],
             [
              0.5555555555555556,
              "#d8576b"
             ],
             [
              0.6666666666666666,
              "#ed7953"
             ],
             [
              0.7777777777777778,
              "#fb9f3a"
             ],
             [
              0.8888888888888888,
              "#fdca26"
             ],
             [
              1,
              "#f0f921"
             ]
            ],
            "type": "surface"
           }
          ],
          "table": [
           {
            "cells": {
             "fill": {
              "color": "#EBF0F8"
             },
             "line": {
              "color": "white"
             }
            },
            "header": {
             "fill": {
              "color": "#C8D4E3"
             },
             "line": {
              "color": "white"
             }
            },
            "type": "table"
           }
          ]
         },
         "layout": {
          "annotationdefaults": {
           "arrowcolor": "#2a3f5f",
           "arrowhead": 0,
           "arrowwidth": 1
          },
          "autotypenumbers": "strict",
          "coloraxis": {
           "colorbar": {
            "outlinewidth": 0,
            "ticks": ""
           }
          },
          "colorscale": {
           "diverging": [
            [
             0,
             "#8e0152"
            ],
            [
             0.1,
             "#c51b7d"
            ],
            [
             0.2,
             "#de77ae"
            ],
            [
             0.3,
             "#f1b6da"
            ],
            [
             0.4,
             "#fde0ef"
            ],
            [
             0.5,
             "#f7f7f7"
            ],
            [
             0.6,
             "#e6f5d0"
            ],
            [
             0.7,
             "#b8e186"
            ],
            [
             0.8,
             "#7fbc41"
            ],
            [
             0.9,
             "#4d9221"
            ],
            [
             1,
             "#276419"
            ]
           ],
           "sequential": [
            [
             0,
             "#0d0887"
            ],
            [
             0.1111111111111111,
             "#46039f"
            ],
            [
             0.2222222222222222,
             "#7201a8"
            ],
            [
             0.3333333333333333,
             "#9c179e"
            ],
            [
             0.4444444444444444,
             "#bd3786"
            ],
            [
             0.5555555555555556,
             "#d8576b"
            ],
            [
             0.6666666666666666,
             "#ed7953"
            ],
            [
             0.7777777777777778,
             "#fb9f3a"
            ],
            [
             0.8888888888888888,
             "#fdca26"
            ],
            [
             1,
             "#f0f921"
            ]
           ],
           "sequentialminus": [
            [
             0,
             "#0d0887"
            ],
            [
             0.1111111111111111,
             "#46039f"
            ],
            [
             0.2222222222222222,
             "#7201a8"
            ],
            [
             0.3333333333333333,
             "#9c179e"
            ],
            [
             0.4444444444444444,
             "#bd3786"
            ],
            [
             0.5555555555555556,
             "#d8576b"
            ],
            [
             0.6666666666666666,
             "#ed7953"
            ],
            [
             0.7777777777777778,
             "#fb9f3a"
            ],
            [
             0.8888888888888888,
             "#fdca26"
            ],
            [
             1,
             "#f0f921"
            ]
           ]
          },
          "colorway": [
           "#636efa",
           "#EF553B",
           "#00cc96",
           "#ab63fa",
           "#FFA15A",
           "#19d3f3",
           "#FF6692",
           "#B6E880",
           "#FF97FF",
           "#FECB52"
          ],
          "font": {
           "color": "#2a3f5f"
          },
          "geo": {
           "bgcolor": "white",
           "lakecolor": "white",
           "landcolor": "#E5ECF6",
           "showlakes": true,
           "showland": true,
           "subunitcolor": "white"
          },
          "hoverlabel": {
           "align": "left"
          },
          "hovermode": "closest",
          "mapbox": {
           "style": "light"
          },
          "paper_bgcolor": "white",
          "plot_bgcolor": "#E5ECF6",
          "polar": {
           "angularaxis": {
            "gridcolor": "white",
            "linecolor": "white",
            "ticks": ""
           },
           "bgcolor": "#E5ECF6",
           "radialaxis": {
            "gridcolor": "white",
            "linecolor": "white",
            "ticks": ""
           }
          },
          "scene": {
           "xaxis": {
            "backgroundcolor": "#E5ECF6",
            "gridcolor": "white",
            "gridwidth": 2,
            "linecolor": "white",
            "showbackground": true,
            "ticks": "",
            "zerolinecolor": "white"
           },
           "yaxis": {
            "backgroundcolor": "#E5ECF6",
            "gridcolor": "white",
            "gridwidth": 2,
            "linecolor": "white",
            "showbackground": true,
            "ticks": "",
            "zerolinecolor": "white"
           },
           "zaxis": {
            "backgroundcolor": "#E5ECF6",
            "gridcolor": "white",
            "gridwidth": 2,
            "linecolor": "white",
            "showbackground": true,
            "ticks": "",
            "zerolinecolor": "white"
           }
          },
          "shapedefaults": {
           "line": {
            "color": "#2a3f5f"
           }
          },
          "ternary": {
           "aaxis": {
            "gridcolor": "white",
            "linecolor": "white",
            "ticks": ""
           },
           "baxis": {
            "gridcolor": "white",
            "linecolor": "white",
            "ticks": ""
           },
           "bgcolor": "#E5ECF6",
           "caxis": {
            "gridcolor": "white",
            "linecolor": "white",
            "ticks": ""
           }
          },
          "title": {
           "x": 0.05
          },
          "xaxis": {
           "automargin": true,
           "gridcolor": "white",
           "linecolor": "white",
           "ticks": "",
           "title": {
            "standoff": 15
           },
           "zerolinecolor": "white",
           "zerolinewidth": 2
          },
          "yaxis": {
           "automargin": true,
           "gridcolor": "white",
           "linecolor": "white",
           "ticks": "",
           "title": {
            "standoff": 15
           },
           "zerolinecolor": "white",
           "zerolinewidth": 2
          }
         }
        },
        "xaxis": {
         "title": {
          "text": "Timestamp"
         }
        },
        "yaxis": {
         "title": {
          "text": "Amplitude"
         }
        }
       }
      }
     },
     "metadata": {},
     "output_type": "display_data"
    },
    {
     "name": "stdout",
     "output_type": "stream",
     "text": [
      "Shape of embedded time series: (99, 3)\n",
      "Persistence diagram for periodic signal\n"
     ]
    },
    {
     "data": {
      "application/vnd.plotly.v1+json": {
       "config": {
        "plotlyServerURL": "https://plot.ly"
       },
       "data": [
        {
         "hoverinfo": "none",
         "line": {
          "color": "black",
          "dash": "dash",
          "width": 1
         },
         "mode": "lines",
         "showlegend": false,
         "type": "scatter",
         "x": [
          -0.06845041751861572,
          3.4909712934494017
         ],
         "y": [
          -0.06845041751861572,
          3.4909712934494017
         ]
        },
        {
         "hoverinfo": "text",
         "hovertext": [
          "(0.0, 0.059986431151628494)",
          "(0.0, 0.0930515006184578)",
          "(0.0, 0.126997709274292)",
          "(0.0, 0.16126957535743713)",
          "(0.0, 0.19569608569145203)",
          "(0.0, 0.2302078753709793)",
          "(0.0, 0.26477158069610596)",
          "(0.0, 0.2993692457675934)",
          "(0.0, 0.33399030566215515)",
          "(0.0, 0.3686281740665436)",
          "(0.0, 0.40327849984169006)",
          "(0.0, 0.4379383623600006)",
          "(0.0, 0.4726056456565857)",
          "(0.0, 0.5072788000106812)",
          "(0.0, 0.5419567227363586)",
          "(0.0, 0.5766385793685913)",
          "(0.0, 0.6113236546516418)",
          "(0.0, 0.646011471748352)",
          "(0.0, 0.6807015538215637)",
          "(0.0, 0.7153936624526978)",
          "(0.0, 0.7500874400138855)",
          "(0.0, 0.7847826480865479)",
          "(0.0, 0.81947922706604)",
          "(0.0, 0.8541768789291382)",
          "(0.0, 0.8888754844665527)",
          "(0.0, 0.9235750436782837)",
          "(0.0, 0.9582753777503967)",
          "(0.0, 0.9929763674736023)",
          "(0.0, 1.0276780128479004)",
          "(0.0, 1.062380313873291)",
          "(0.0, 1.0970829725265503)",
          "(0.0, 1.1317862272262573)",
          "(0.0, 1.166489839553833)",
          "(0.0, 1.201193928718567)",
          "(0.0, 1.2358982563018799)",
          "(0.0, 1.270603060722351)",
          "(0.0, 1.3053081035614014)",
          "(0.0, 1.3400133848190308)",
          "(0.0, 1.3747189044952393)",
          "(0.0, 1.4094246625900269)",
          "(0.0, 1.444130778312683)",
          "(0.0, 1.4788368940353394)",
          "(0.0, 1.5135433673858643)",
          "(0.0, 1.5482499599456787)",
          "(0.0, 1.5829566717147827)",
          "(0.0, 1.6176636219024658)",
          "(0.0, 1.6523706912994385)",
          "(0.0, 1.6870778799057007)",
          "(0.0, 1.7217851877212524)",
          "(0.0, 1.7564927339553833)",
          "(0.0, 1.7912002801895142)",
          "(0.0, 1.8259079456329346)",
          "(0.0, 1.8606157302856445)",
          "(0.0, 1.895323634147644)",
          "(0.0, 1.9300315380096436)",
          "(0.0, 1.9647395610809326)",
          "(0.0, 1.9994477033615112)",
          "(0.0, 2.03415584564209)",
          "(0.0, 2.068864107131958)",
          "(0.0, 2.1035726070404053)",
          "(0.0, 2.1382808685302734)",
          "(0.0, 2.1729893684387207)",
          "(0.0, 2.207698106765747)",
          "(0.0, 2.2424066066741943)",
          "(0.0, 2.2771153450012207)",
          "(0.0, 2.311824083328247)",
          "(0.0, 2.3465328216552734)",
          "(0.0, 2.3812415599823)",
          "(0.0, 2.415950298309326)",
          "(0.0, 2.4506592750549316)",
          "(0.0, 2.485368251800537)",
          "(0.0, 2.5200772285461426)",
          "(0.0, 2.554786205291748)",
          "(0.0, 2.5894951820373535)",
          "(0.0, 2.624204397201538)",
          "(0.0, 2.6589133739471436)",
          "(0.0, 2.693622589111328)",
          "(0.0, 2.7283318042755127)",
          "(0.0, 2.7630410194396973)",
          "(0.0, 2.797750234603882)",
          "(0.0, 2.8324594497680664)",
          "(0.0, 2.86716890335083)",
          "(0.0, 2.9018781185150146)",
          "(0.0, 2.9365875720977783)",
          "(0.0, 2.971297025680542)",
          "(0.0, 3.0060062408447266)",
          "(0.0, 3.0407156944274902)",
          "(0.0, 3.075425148010254)",
          "(0.0, 3.1101346015930176)",
          "(0.0, 3.1448440551757812)",
          "(0.0, 3.179553747177124)",
          "(0.0, 3.2142632007598877)",
          "(0.0, 3.2489726543426514)",
          "(0.0, 3.283682346343994)",
          "(0.0, 3.318391799926758)",
          "(0.0, 3.3531014919281006)",
          "(0.0, 3.3878111839294434)",
          "(0.0, 3.422520875930786)"
         ],
         "mode": "markers",
         "name": "H0",
         "type": "scatter",
         "x": [
          0,
          0,
          0,
          0,
          0,
          0,
          0,
          0,
          0,
          0,
          0,
          0,
          0,
          0,
          0,
          0,
          0,
          0,
          0,
          0,
          0,
          0,
          0,
          0,
          0,
          0,
          0,
          0,
          0,
          0,
          0,
          0,
          0,
          0,
          0,
          0,
          0,
          0,
          0,
          0,
          0,
          0,
          0,
          0,
          0,
          0,
          0,
          0,
          0,
          0,
          0,
          0,
          0,
          0,
          0,
          0,
          0,
          0,
          0,
          0,
          0,
          0,
          0,
          0,
          0,
          0,
          0,
          0,
          0,
          0,
          0,
          0,
          0,
          0,
          0,
          0,
          0,
          0,
          0,
          0,
          0,
          0,
          0,
          0,
          0,
          0,
          0,
          0,
          0,
          0,
          0,
          0,
          0,
          0,
          0,
          0,
          0,
          0
         ],
         "y": [
          0.059986431151628494,
          0.0930515006184578,
          0.126997709274292,
          0.16126957535743713,
          0.19569608569145203,
          0.2302078753709793,
          0.26477158069610596,
          0.2993692457675934,
          0.33399030566215515,
          0.3686281740665436,
          0.40327849984169006,
          0.4379383623600006,
          0.4726056456565857,
          0.5072788000106812,
          0.5419567227363586,
          0.5766385793685913,
          0.6113236546516418,
          0.646011471748352,
          0.6807015538215637,
          0.7153936624526978,
          0.7500874400138855,
          0.7847826480865479,
          0.81947922706604,
          0.8541768789291382,
          0.8888754844665527,
          0.9235750436782837,
          0.9582753777503967,
          0.9929763674736023,
          1.0276780128479004,
          1.062380313873291,
          1.0970829725265503,
          1.1317862272262573,
          1.166489839553833,
          1.201193928718567,
          1.2358982563018799,
          1.270603060722351,
          1.3053081035614014,
          1.3400133848190308,
          1.3747189044952393,
          1.4094246625900269,
          1.444130778312683,
          1.4788368940353394,
          1.5135433673858643,
          1.5482499599456787,
          1.5829566717147827,
          1.6176636219024658,
          1.6523706912994385,
          1.6870778799057007,
          1.7217851877212524,
          1.7564927339553833,
          1.7912002801895142,
          1.8259079456329346,
          1.8606157302856445,
          1.895323634147644,
          1.9300315380096436,
          1.9647395610809326,
          1.9994477033615112,
          2.03415584564209,
          2.068864107131958,
          2.1035726070404053,
          2.1382808685302734,
          2.1729893684387207,
          2.207698106765747,
          2.2424066066741943,
          2.2771153450012207,
          2.311824083328247,
          2.3465328216552734,
          2.3812415599823,
          2.415950298309326,
          2.4506592750549316,
          2.485368251800537,
          2.5200772285461426,
          2.554786205291748,
          2.5894951820373535,
          2.624204397201538,
          2.6589133739471436,
          2.693622589111328,
          2.7283318042755127,
          2.7630410194396973,
          2.797750234603882,
          2.8324594497680664,
          2.86716890335083,
          2.9018781185150146,
          2.9365875720977783,
          2.971297025680542,
          3.0060062408447266,
          3.0407156944274902,
          3.075425148010254,
          3.1101346015930176,
          3.1448440551757812,
          3.179553747177124,
          3.2142632007598877,
          3.2489726543426514,
          3.283682346343994,
          3.318391799926758,
          3.3531014919281006,
          3.3878111839294434,
          3.422520875930786
         ]
        },
        {
         "hoverinfo": "text",
         "hovertext": [],
         "mode": "markers",
         "name": "H1",
         "type": "scatter",
         "x": [],
         "y": []
        },
        {
         "hoverinfo": "text",
         "hovertext": [],
         "mode": "markers",
         "name": "H2",
         "type": "scatter",
         "x": [],
         "y": []
        }
       ],
       "layout": {
        "height": 500,
        "plot_bgcolor": "white",
        "template": {
         "data": {
          "bar": [
           {
            "error_x": {
             "color": "#2a3f5f"
            },
            "error_y": {
             "color": "#2a3f5f"
            },
            "marker": {
             "line": {
              "color": "#E5ECF6",
              "width": 0.5
             },
             "pattern": {
              "fillmode": "overlay",
              "size": 10,
              "solidity": 0.2
             }
            },
            "type": "bar"
           }
          ],
          "barpolar": [
           {
            "marker": {
             "line": {
              "color": "#E5ECF6",
              "width": 0.5
             },
             "pattern": {
              "fillmode": "overlay",
              "size": 10,
              "solidity": 0.2
             }
            },
            "type": "barpolar"
           }
          ],
          "carpet": [
           {
            "aaxis": {
             "endlinecolor": "#2a3f5f",
             "gridcolor": "white",
             "linecolor": "white",
             "minorgridcolor": "white",
             "startlinecolor": "#2a3f5f"
            },
            "baxis": {
             "endlinecolor": "#2a3f5f",
             "gridcolor": "white",
             "linecolor": "white",
             "minorgridcolor": "white",
             "startlinecolor": "#2a3f5f"
            },
            "type": "carpet"
           }
          ],
          "choropleth": [
           {
            "colorbar": {
             "outlinewidth": 0,
             "ticks": ""
            },
            "type": "choropleth"
           }
          ],
          "contour": [
           {
            "colorbar": {
             "outlinewidth": 0,
             "ticks": ""
            },
            "colorscale": [
             [
              0,
              "#0d0887"
             ],
             [
              0.1111111111111111,
              "#46039f"
             ],
             [
              0.2222222222222222,
              "#7201a8"
             ],
             [
              0.3333333333333333,
              "#9c179e"
             ],
             [
              0.4444444444444444,
              "#bd3786"
             ],
             [
              0.5555555555555556,
              "#d8576b"
             ],
             [
              0.6666666666666666,
              "#ed7953"
             ],
             [
              0.7777777777777778,
              "#fb9f3a"
             ],
             [
              0.8888888888888888,
              "#fdca26"
             ],
             [
              1,
              "#f0f921"
             ]
            ],
            "type": "contour"
           }
          ],
          "contourcarpet": [
           {
            "colorbar": {
             "outlinewidth": 0,
             "ticks": ""
            },
            "type": "contourcarpet"
           }
          ],
          "heatmap": [
           {
            "colorbar": {
             "outlinewidth": 0,
             "ticks": ""
            },
            "colorscale": [
             [
              0,
              "#0d0887"
             ],
             [
              0.1111111111111111,
              "#46039f"
             ],
             [
              0.2222222222222222,
              "#7201a8"
             ],
             [
              0.3333333333333333,
              "#9c179e"
             ],
             [
              0.4444444444444444,
              "#bd3786"
             ],
             [
              0.5555555555555556,
              "#d8576b"
             ],
             [
              0.6666666666666666,
              "#ed7953"
             ],
             [
              0.7777777777777778,
              "#fb9f3a"
             ],
             [
              0.8888888888888888,
              "#fdca26"
             ],
             [
              1,
              "#f0f921"
             ]
            ],
            "type": "heatmap"
           }
          ],
          "heatmapgl": [
           {
            "colorbar": {
             "outlinewidth": 0,
             "ticks": ""
            },
            "colorscale": [
             [
              0,
              "#0d0887"
             ],
             [
              0.1111111111111111,
              "#46039f"
             ],
             [
              0.2222222222222222,
              "#7201a8"
             ],
             [
              0.3333333333333333,
              "#9c179e"
             ],
             [
              0.4444444444444444,
              "#bd3786"
             ],
             [
              0.5555555555555556,
              "#d8576b"
             ],
             [
              0.6666666666666666,
              "#ed7953"
             ],
             [
              0.7777777777777778,
              "#fb9f3a"
             ],
             [
              0.8888888888888888,
              "#fdca26"
             ],
             [
              1,
              "#f0f921"
             ]
            ],
            "type": "heatmapgl"
           }
          ],
          "histogram": [
           {
            "marker": {
             "pattern": {
              "fillmode": "overlay",
              "size": 10,
              "solidity": 0.2
             }
            },
            "type": "histogram"
           }
          ],
          "histogram2d": [
           {
            "colorbar": {
             "outlinewidth": 0,
             "ticks": ""
            },
            "colorscale": [
             [
              0,
              "#0d0887"
             ],
             [
              0.1111111111111111,
              "#46039f"
             ],
             [
              0.2222222222222222,
              "#7201a8"
             ],
             [
              0.3333333333333333,
              "#9c179e"
             ],
             [
              0.4444444444444444,
              "#bd3786"
             ],
             [
              0.5555555555555556,
              "#d8576b"
             ],
             [
              0.6666666666666666,
              "#ed7953"
             ],
             [
              0.7777777777777778,
              "#fb9f3a"
             ],
             [
              0.8888888888888888,
              "#fdca26"
             ],
             [
              1,
              "#f0f921"
             ]
            ],
            "type": "histogram2d"
           }
          ],
          "histogram2dcontour": [
           {
            "colorbar": {
             "outlinewidth": 0,
             "ticks": ""
            },
            "colorscale": [
             [
              0,
              "#0d0887"
             ],
             [
              0.1111111111111111,
              "#46039f"
             ],
             [
              0.2222222222222222,
              "#7201a8"
             ],
             [
              0.3333333333333333,
              "#9c179e"
             ],
             [
              0.4444444444444444,
              "#bd3786"
             ],
             [
              0.5555555555555556,
              "#d8576b"
             ],
             [
              0.6666666666666666,
              "#ed7953"
             ],
             [
              0.7777777777777778,
              "#fb9f3a"
             ],
             [
              0.8888888888888888,
              "#fdca26"
             ],
             [
              1,
              "#f0f921"
             ]
            ],
            "type": "histogram2dcontour"
           }
          ],
          "mesh3d": [
           {
            "colorbar": {
             "outlinewidth": 0,
             "ticks": ""
            },
            "type": "mesh3d"
           }
          ],
          "parcoords": [
           {
            "line": {
             "colorbar": {
              "outlinewidth": 0,
              "ticks": ""
             }
            },
            "type": "parcoords"
           }
          ],
          "pie": [
           {
            "automargin": true,
            "type": "pie"
           }
          ],
          "scatter": [
           {
            "fillpattern": {
             "fillmode": "overlay",
             "size": 10,
             "solidity": 0.2
            },
            "type": "scatter"
           }
          ],
          "scatter3d": [
           {
            "line": {
             "colorbar": {
              "outlinewidth": 0,
              "ticks": ""
             }
            },
            "marker": {
             "colorbar": {
              "outlinewidth": 0,
              "ticks": ""
             }
            },
            "type": "scatter3d"
           }
          ],
          "scattercarpet": [
           {
            "marker": {
             "colorbar": {
              "outlinewidth": 0,
              "ticks": ""
             }
            },
            "type": "scattercarpet"
           }
          ],
          "scattergeo": [
           {
            "marker": {
             "colorbar": {
              "outlinewidth": 0,
              "ticks": ""
             }
            },
            "type": "scattergeo"
           }
          ],
          "scattergl": [
           {
            "marker": {
             "colorbar": {
              "outlinewidth": 0,
              "ticks": ""
             }
            },
            "type": "scattergl"
           }
          ],
          "scattermapbox": [
           {
            "marker": {
             "colorbar": {
              "outlinewidth": 0,
              "ticks": ""
             }
            },
            "type": "scattermapbox"
           }
          ],
          "scatterpolar": [
           {
            "marker": {
             "colorbar": {
              "outlinewidth": 0,
              "ticks": ""
             }
            },
            "type": "scatterpolar"
           }
          ],
          "scatterpolargl": [
           {
            "marker": {
             "colorbar": {
              "outlinewidth": 0,
              "ticks": ""
             }
            },
            "type": "scatterpolargl"
           }
          ],
          "scatterternary": [
           {
            "marker": {
             "colorbar": {
              "outlinewidth": 0,
              "ticks": ""
             }
            },
            "type": "scatterternary"
           }
          ],
          "surface": [
           {
            "colorbar": {
             "outlinewidth": 0,
             "ticks": ""
            },
            "colorscale": [
             [
              0,
              "#0d0887"
             ],
             [
              0.1111111111111111,
              "#46039f"
             ],
             [
              0.2222222222222222,
              "#7201a8"
             ],
             [
              0.3333333333333333,
              "#9c179e"
             ],
             [
              0.4444444444444444,
              "#bd3786"
             ],
             [
              0.5555555555555556,
              "#d8576b"
             ],
             [
              0.6666666666666666,
              "#ed7953"
             ],
             [
              0.7777777777777778,
              "#fb9f3a"
             ],
             [
              0.8888888888888888,
              "#fdca26"
             ],
             [
              1,
              "#f0f921"
             ]
            ],
            "type": "surface"
           }
          ],
          "table": [
           {
            "cells": {
             "fill": {
              "color": "#EBF0F8"
             },
             "line": {
              "color": "white"
             }
            },
            "header": {
             "fill": {
              "color": "#C8D4E3"
             },
             "line": {
              "color": "white"
             }
            },
            "type": "table"
           }
          ]
         },
         "layout": {
          "annotationdefaults": {
           "arrowcolor": "#2a3f5f",
           "arrowhead": 0,
           "arrowwidth": 1
          },
          "autotypenumbers": "strict",
          "coloraxis": {
           "colorbar": {
            "outlinewidth": 0,
            "ticks": ""
           }
          },
          "colorscale": {
           "diverging": [
            [
             0,
             "#8e0152"
            ],
            [
             0.1,
             "#c51b7d"
            ],
            [
             0.2,
             "#de77ae"
            ],
            [
             0.3,
             "#f1b6da"
            ],
            [
             0.4,
             "#fde0ef"
            ],
            [
             0.5,
             "#f7f7f7"
            ],
            [
             0.6,
             "#e6f5d0"
            ],
            [
             0.7,
             "#b8e186"
            ],
            [
             0.8,
             "#7fbc41"
            ],
            [
             0.9,
             "#4d9221"
            ],
            [
             1,
             "#276419"
            ]
           ],
           "sequential": [
            [
             0,
             "#0d0887"
            ],
            [
             0.1111111111111111,
             "#46039f"
            ],
            [
             0.2222222222222222,
             "#7201a8"
            ],
            [
             0.3333333333333333,
             "#9c179e"
            ],
            [
             0.4444444444444444,
             "#bd3786"
            ],
            [
             0.5555555555555556,
             "#d8576b"
            ],
            [
             0.6666666666666666,
             "#ed7953"
            ],
            [
             0.7777777777777778,
             "#fb9f3a"
            ],
            [
             0.8888888888888888,
             "#fdca26"
            ],
            [
             1,
             "#f0f921"
            ]
           ],
           "sequentialminus": [
            [
             0,
             "#0d0887"
            ],
            [
             0.1111111111111111,
             "#46039f"
            ],
            [
             0.2222222222222222,
             "#7201a8"
            ],
            [
             0.3333333333333333,
             "#9c179e"
            ],
            [
             0.4444444444444444,
             "#bd3786"
            ],
            [
             0.5555555555555556,
             "#d8576b"
            ],
            [
             0.6666666666666666,
             "#ed7953"
            ],
            [
             0.7777777777777778,
             "#fb9f3a"
            ],
            [
             0.8888888888888888,
             "#fdca26"
            ],
            [
             1,
             "#f0f921"
            ]
           ]
          },
          "colorway": [
           "#636efa",
           "#EF553B",
           "#00cc96",
           "#ab63fa",
           "#FFA15A",
           "#19d3f3",
           "#FF6692",
           "#B6E880",
           "#FF97FF",
           "#FECB52"
          ],
          "font": {
           "color": "#2a3f5f"
          },
          "geo": {
           "bgcolor": "white",
           "lakecolor": "white",
           "landcolor": "#E5ECF6",
           "showlakes": true,
           "showland": true,
           "subunitcolor": "white"
          },
          "hoverlabel": {
           "align": "left"
          },
          "hovermode": "closest",
          "mapbox": {
           "style": "light"
          },
          "paper_bgcolor": "white",
          "plot_bgcolor": "#E5ECF6",
          "polar": {
           "angularaxis": {
            "gridcolor": "white",
            "linecolor": "white",
            "ticks": ""
           },
           "bgcolor": "#E5ECF6",
           "radialaxis": {
            "gridcolor": "white",
            "linecolor": "white",
            "ticks": ""
           }
          },
          "scene": {
           "xaxis": {
            "backgroundcolor": "#E5ECF6",
            "gridcolor": "white",
            "gridwidth": 2,
            "linecolor": "white",
            "showbackground": true,
            "ticks": "",
            "zerolinecolor": "white"
           },
           "yaxis": {
            "backgroundcolor": "#E5ECF6",
            "gridcolor": "white",
            "gridwidth": 2,
            "linecolor": "white",
            "showbackground": true,
            "ticks": "",
            "zerolinecolor": "white"
           },
           "zaxis": {
            "backgroundcolor": "#E5ECF6",
            "gridcolor": "white",
            "gridwidth": 2,
            "linecolor": "white",
            "showbackground": true,
            "ticks": "",
            "zerolinecolor": "white"
           }
          },
          "shapedefaults": {
           "line": {
            "color": "#2a3f5f"
           }
          },
          "ternary": {
           "aaxis": {
            "gridcolor": "white",
            "linecolor": "white",
            "ticks": ""
           },
           "baxis": {
            "gridcolor": "white",
            "linecolor": "white",
            "ticks": ""
           },
           "bgcolor": "#E5ECF6",
           "caxis": {
            "gridcolor": "white",
            "linecolor": "white",
            "ticks": ""
           }
          },
          "title": {
           "x": 0.05
          },
          "xaxis": {
           "automargin": true,
           "gridcolor": "white",
           "linecolor": "white",
           "ticks": "",
           "title": {
            "standoff": 15
           },
           "zerolinecolor": "white",
           "zerolinewidth": 2
          },
          "yaxis": {
           "automargin": true,
           "gridcolor": "white",
           "linecolor": "white",
           "ticks": "",
           "title": {
            "standoff": 15
           },
           "zerolinecolor": "white",
           "zerolinewidth": 2
          }
         }
        },
        "width": 500,
        "xaxis": {
         "autorange": false,
         "exponentformat": "e",
         "linecolor": "black",
         "linewidth": 1,
         "mirror": false,
         "range": [
          -0.06845041751861572,
          3.4909712934494017
         ],
         "showexponent": "all",
         "showline": true,
         "side": "bottom",
         "ticks": "outside",
         "title": {
          "text": "Birth"
         },
         "type": "linear",
         "zeroline": true
        },
        "yaxis": {
         "autorange": false,
         "exponentformat": "e",
         "linecolor": "black",
         "linewidth": 1,
         "mirror": false,
         "range": [
          -0.06845041751861572,
          3.4909712934494017
         ],
         "scaleanchor": "x",
         "scaleratio": 1,
         "showexponent": "all",
         "showline": true,
         "side": "left",
         "ticks": "outside",
         "title": {
          "text": "Death"
         },
         "type": "linear",
         "zeroline": true
        }
       }
      }
     },
     "metadata": {},
     "output_type": "display_data"
    },
    {
     "data": {
      "text/plain": [
       "array([[[0.        , 0.05998643, 0.        ],\n",
       "        [0.        , 0.0930515 , 0.        ],\n",
       "        [0.        , 0.12699771, 0.        ],\n",
       "        [0.        , 0.16126958, 0.        ],\n",
       "        [0.        , 0.19569609, 0.        ],\n",
       "        [0.        , 0.23020788, 0.        ],\n",
       "        [0.        , 0.26477158, 0.        ],\n",
       "        [0.        , 0.29936925, 0.        ],\n",
       "        [0.        , 0.33399031, 0.        ],\n",
       "        [0.        , 0.36862817, 0.        ],\n",
       "        [0.        , 0.4032785 , 0.        ],\n",
       "        [0.        , 0.43793836, 0.        ],\n",
       "        [0.        , 0.47260565, 0.        ],\n",
       "        [0.        , 0.5072788 , 0.        ],\n",
       "        [0.        , 0.54195672, 0.        ],\n",
       "        [0.        , 0.57663858, 0.        ],\n",
       "        [0.        , 0.61132365, 0.        ],\n",
       "        [0.        , 0.64601147, 0.        ],\n",
       "        [0.        , 0.68070155, 0.        ],\n",
       "        [0.        , 0.71539366, 0.        ],\n",
       "        [0.        , 0.75008744, 0.        ],\n",
       "        [0.        , 0.78478265, 0.        ],\n",
       "        [0.        , 0.81947923, 0.        ],\n",
       "        [0.        , 0.85417688, 0.        ],\n",
       "        [0.        , 0.88887548, 0.        ],\n",
       "        [0.        , 0.92357504, 0.        ],\n",
       "        [0.        , 0.95827538, 0.        ],\n",
       "        [0.        , 0.99297637, 0.        ],\n",
       "        [0.        , 1.02767801, 0.        ],\n",
       "        [0.        , 1.06238031, 0.        ],\n",
       "        [0.        , 1.09708297, 0.        ],\n",
       "        [0.        , 1.13178623, 0.        ],\n",
       "        [0.        , 1.16648984, 0.        ],\n",
       "        [0.        , 1.20119393, 0.        ],\n",
       "        [0.        , 1.23589826, 0.        ],\n",
       "        [0.        , 1.27060306, 0.        ],\n",
       "        [0.        , 1.3053081 , 0.        ],\n",
       "        [0.        , 1.34001338, 0.        ],\n",
       "        [0.        , 1.3747189 , 0.        ],\n",
       "        [0.        , 1.40942466, 0.        ],\n",
       "        [0.        , 1.44413078, 0.        ],\n",
       "        [0.        , 1.47883689, 0.        ],\n",
       "        [0.        , 1.51354337, 0.        ],\n",
       "        [0.        , 1.54824996, 0.        ],\n",
       "        [0.        , 1.58295667, 0.        ],\n",
       "        [0.        , 1.61766362, 0.        ],\n",
       "        [0.        , 1.65237069, 0.        ],\n",
       "        [0.        , 1.68707788, 0.        ],\n",
       "        [0.        , 1.72178519, 0.        ],\n",
       "        [0.        , 1.75649273, 0.        ],\n",
       "        [0.        , 1.79120028, 0.        ],\n",
       "        [0.        , 1.82590795, 0.        ],\n",
       "        [0.        , 1.86061573, 0.        ],\n",
       "        [0.        , 1.89532363, 0.        ],\n",
       "        [0.        , 1.93003154, 0.        ],\n",
       "        [0.        , 1.96473956, 0.        ],\n",
       "        [0.        , 1.9994477 , 0.        ],\n",
       "        [0.        , 2.03415585, 0.        ],\n",
       "        [0.        , 2.06886411, 0.        ],\n",
       "        [0.        , 2.10357261, 0.        ],\n",
       "        [0.        , 2.13828087, 0.        ],\n",
       "        [0.        , 2.17298937, 0.        ],\n",
       "        [0.        , 2.20769811, 0.        ],\n",
       "        [0.        , 2.24240661, 0.        ],\n",
       "        [0.        , 2.27711535, 0.        ],\n",
       "        [0.        , 2.31182408, 0.        ],\n",
       "        [0.        , 2.34653282, 0.        ],\n",
       "        [0.        , 2.38124156, 0.        ],\n",
       "        [0.        , 2.4159503 , 0.        ],\n",
       "        [0.        , 2.45065928, 0.        ],\n",
       "        [0.        , 2.48536825, 0.        ],\n",
       "        [0.        , 2.52007723, 0.        ],\n",
       "        [0.        , 2.55478621, 0.        ],\n",
       "        [0.        , 2.58949518, 0.        ],\n",
       "        [0.        , 2.6242044 , 0.        ],\n",
       "        [0.        , 2.65891337, 0.        ],\n",
       "        [0.        , 2.69362259, 0.        ],\n",
       "        [0.        , 2.7283318 , 0.        ],\n",
       "        [0.        , 2.76304102, 0.        ],\n",
       "        [0.        , 2.79775023, 0.        ],\n",
       "        [0.        , 2.83245945, 0.        ],\n",
       "        [0.        , 2.8671689 , 0.        ],\n",
       "        [0.        , 2.90187812, 0.        ],\n",
       "        [0.        , 2.93658757, 0.        ],\n",
       "        [0.        , 2.97129703, 0.        ],\n",
       "        [0.        , 3.00600624, 0.        ],\n",
       "        [0.        , 3.04071569, 0.        ],\n",
       "        [0.        , 3.07542515, 0.        ],\n",
       "        [0.        , 3.1101346 , 0.        ],\n",
       "        [0.        , 3.14484406, 0.        ],\n",
       "        [0.        , 3.17955375, 0.        ],\n",
       "        [0.        , 3.2142632 , 0.        ],\n",
       "        [0.        , 3.24897265, 0.        ],\n",
       "        [0.        , 3.28368235, 0.        ],\n",
       "        [0.        , 3.3183918 , 0.        ],\n",
       "        [0.        , 3.35310149, 0.        ],\n",
       "        [0.        , 3.38781118, 0.        ],\n",
       "        [0.        , 3.42252088, 0.        ],\n",
       "        [0.        , 0.        , 1.        ],\n",
       "        [0.        , 0.        , 2.        ]]])"
      ]
     },
     "execution_count": 10,
     "metadata": {},
     "output_type": "execute_result"
    }
   ],
   "source": [
    "x_periodic1 = np.linspace(0, 10, 1000)\n",
    "y_periodic1 = x_periodic1**2\n",
    "\n",
    "fig = go.Figure(data=go.Scatter(x=x_periodic1, y=y_periodic1))\n",
    "fig.update_layout(xaxis_title=\"Timestamp\", yaxis_title=\"Amplitude\")\n",
    "fig.show()\n",
    "\n",
    "embedding_dimension_periodic = 3\n",
    "embedding_time_delay_periodic = 8\n",
    "stride = 10\n",
    "\n",
    "embedder_periodic = SingleTakensEmbedding(\n",
    "    parameters_type=\"fixed\",\n",
    "    n_jobs=2,\n",
    "    time_delay=embedding_time_delay_periodic,\n",
    "    dimension=embedding_dimension_periodic,\n",
    "    stride=stride,\n",
    ")\n",
    "\n",
    "y_periodic_embedded1 = embedder_periodic.fit_transform(y_periodic1)\n",
    "print(f\"Shape of embedded time series: {y_periodic_embedded1.shape}\")\n",
    "plot_point_cloud(y_periodic_embedded1)\n",
    "\n",
    "\n",
    "# reshape to keep the vietoris format\n",
    "y_periodic_embedded1 = y_periodic_embedded1[None, :, :]\n",
    "\n",
    "# 0 - connected components, 1 - loops, 2 - voids\n",
    "homology_dimensions = [0, 1, 2]\n",
    "\n",
    "periodic_persistence = VietorisRipsPersistence(\n",
    "    homology_dimensions=homology_dimensions, n_jobs=6\n",
    ")\n",
    "print(\"Persistence diagram for periodic signal\")\n",
    "periodic_persistence.fit_transform_plot(y_periodic_embedded1)"
   ]
  },
  {
   "cell_type": "code",
   "execution_count": null,
   "metadata": {},
   "outputs": [],
   "source": []
  }
 ],
 "metadata": {
  "kernelspec": {
   "display_name": "tda-env",
   "language": "python",
   "name": "python3"
  },
  "language_info": {
   "codemirror_mode": {
    "name": "ipython",
    "version": 3
   },
   "file_extension": ".py",
   "mimetype": "text/x-python",
   "name": "python",
   "nbconvert_exporter": "python",
   "pygments_lexer": "ipython3",
   "version": "3.12.8"
  }
 },
 "nbformat": 4,
 "nbformat_minor": 2
}
